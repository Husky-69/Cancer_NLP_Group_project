{
 "cells": [
  {
   "cell_type": "markdown",
   "metadata": {},
   "source": [
    "## DATA UNDERSTANDING"
   ]
  },
  {
   "cell_type": "code",
   "execution_count": 1,
   "metadata": {},
   "outputs": [],
   "source": [
    "#Importing necessary libraries\n",
    "\n",
    "import pandas as pd\n",
    "import nltk\n",
    "import re\n",
    "from nltk.corpus import stopwords\n",
    "from nltk.tokenize import word_tokenize\n",
    "from nltk.stem import WordNetLemmatizer\n",
    "from sklearn.feature_extraction.text import TfidfVectorizer\n",
    "from sklearn.metrics.pairwise import cosine_similarity\n",
    "import numpy as np\n",
    "import warnings\n",
    "import xml.etree.ElementTree as ET\n",
    "warnings.filterwarnings('ignore')\n",
    "import os\n",
    "\n"
   ]
  },
  {
   "cell_type": "code",
   "execution_count": 2,
   "metadata": {},
   "outputs": [],
   "source": [
    "#Creating a class to load and process cancer-related Q&A data from XML files\n",
    "\n",
    "class CancerQALoader:\n",
    "    def __init__(self, filepath):\n",
    "        self.filepath = filepath\n",
    "        self.questions = []\n",
    "        self.answers = []\n",
    "        self.root = None\n",
    "        self.source = os.path.splitext(os.path.basename(filepath))[0] \n",
    "\n",
    "    def parse_xml(self):\n",
    "        try:\n",
    "            tree = ET.parse(self.filepath)\n",
    "            self.root = tree.getroot()\n",
    "        except ET.ParseError as e:\n",
    "            print(f\"Error parsing XML in {self.filepath}: {e}\")\n",
    "        except FileNotFoundError:\n",
    "            print(f\"File not found: {self.filepath}\")\n",
    "\n",
    "    def extract_qa_pairs(self):\n",
    "        if self.root is None:\n",
    "            return\n",
    "\n",
    "        for qa_pair in self.root.findall('.//QAPair'):\n",
    "            question = qa_pair.find('Question').text\n",
    "            answer = qa_pair.find('Answer').text\n",
    "            if question and answer:\n",
    "                self.questions.append(question)\n",
    "                self.answers.append(answer)\n",
    "\n",
    "    def get_dataframe(self):\n",
    "        return pd.DataFrame({\n",
    "            'question': self.questions,\n",
    "            'answer': self.answers,\n",
    "            'source': [self.source] * len(self.questions)  # Add source to each row\n",
    "        })\n",
    "\n",
    "    def load_all_qa_from_folder(folder_path):\n",
    "        all_dfs = []\n",
    "\n",
    "        for filename in os.listdir(folder_path):\n",
    "            if filename.endswith(\".xml\"):\n",
    "                full_path = os.path.join(folder_path, filename)\n",
    "                loader = CancerQALoader(full_path)\n",
    "                loader.parse_xml()\n",
    "                loader.extract_qa_pairs()\n",
    "                df = loader.get_dataframe()\n",
    "                all_dfs.append(df)\n",
    "\n",
    "        return pd.concat(all_dfs, ignore_index=True)"
   ]
  },
  {
   "cell_type": "code",
   "execution_count": 4,
   "metadata": {},
   "outputs": [
    {
     "ename": "FileNotFoundError",
     "evalue": "[WinError 3] The system cannot find the path specified: 'Cancer_NLP_project/1_CancerGov_QA'",
     "output_type": "error",
     "traceback": [
      "\u001b[1;31m---------------------------------------------------------------------------\u001b[0m",
      "\u001b[1;31mFileNotFoundError\u001b[0m                         Traceback (most recent call last)",
      "Cell \u001b[1;32mIn[4], line 3\u001b[0m\n\u001b[0;32m      1\u001b[0m \u001b[38;5;66;03m#We used the class to load all Q&A pairs from XML files in a specified folder\u001b[39;00m\n\u001b[0;32m      2\u001b[0m folder \u001b[38;5;241m=\u001b[39m (\u001b[38;5;124m'\u001b[39m\u001b[38;5;124mCancer_NLP_project/1_CancerGov_QA\u001b[39m\u001b[38;5;124m'\u001b[39m ) \n\u001b[1;32m----> 3\u001b[0m cancer_df \u001b[38;5;241m=\u001b[39m CancerQALoader\u001b[38;5;241m.\u001b[39mload_all_qa_from_folder(folder)\n",
      "Cell \u001b[1;32mIn[2], line 41\u001b[0m, in \u001b[0;36mCancerQALoader.load_all_qa_from_folder\u001b[1;34m(folder_path)\u001b[0m\n\u001b[0;32m     38\u001b[0m \u001b[38;5;28;01mdef\u001b[39;00m \u001b[38;5;21mload_all_qa_from_folder\u001b[39m(folder_path):\n\u001b[0;32m     39\u001b[0m     all_dfs \u001b[38;5;241m=\u001b[39m []\n\u001b[1;32m---> 41\u001b[0m     \u001b[38;5;28;01mfor\u001b[39;00m filename \u001b[38;5;129;01min\u001b[39;00m os\u001b[38;5;241m.\u001b[39mlistdir(folder_path):\n\u001b[0;32m     42\u001b[0m         \u001b[38;5;28;01mif\u001b[39;00m filename\u001b[38;5;241m.\u001b[39mendswith(\u001b[38;5;124m\"\u001b[39m\u001b[38;5;124m.xml\u001b[39m\u001b[38;5;124m\"\u001b[39m):\n\u001b[0;32m     43\u001b[0m             full_path \u001b[38;5;241m=\u001b[39m os\u001b[38;5;241m.\u001b[39mpath\u001b[38;5;241m.\u001b[39mjoin(folder_path, filename)\n",
      "\u001b[1;31mFileNotFoundError\u001b[0m: [WinError 3] The system cannot find the path specified: 'Cancer_NLP_project/1_CancerGov_QA'"
     ]
    }
   ],
   "source": [
    "#We used the class to load all Q&A pairs from XML files in a specified folder\n",
    "folder = ('Cancer_NLP_project/1_CancerGov_QA' ) \n",
    "cancer_df = CancerQALoader.load_all_qa_from_folder(folder)"
   ]
  },
  {
   "cell_type": "code",
   "execution_count": null,
   "metadata": {},
   "outputs": [
    {
     "name": "stdout",
     "output_type": "stream",
     "text": [
      "Reading 116 files\n"
     ]
    }
   ],
   "source": [
    "#Displaying the number of files loaded into the cancer_df DataFrame\n",
    "print(f\"Reading {cancer_df['source'].nunique()} files\")"
   ]
  },
  {
   "cell_type": "code",
   "execution_count": null,
   "metadata": {},
   "outputs": [
    {
     "data": {
      "text/html": [
       "<div>\n",
       "<style scoped>\n",
       "    .dataframe tbody tr th:only-of-type {\n",
       "        vertical-align: middle;\n",
       "    }\n",
       "\n",
       "    .dataframe tbody tr th {\n",
       "        vertical-align: top;\n",
       "    }\n",
       "\n",
       "    .dataframe thead th {\n",
       "        text-align: right;\n",
       "    }\n",
       "</style>\n",
       "<table border=\"1\" class=\"dataframe\">\n",
       "  <thead>\n",
       "    <tr style=\"text-align: right;\">\n",
       "      <th></th>\n",
       "      <th>question</th>\n",
       "      <th>answer</th>\n",
       "      <th>source</th>\n",
       "    </tr>\n",
       "  </thead>\n",
       "  <tbody>\n",
       "    <tr>\n",
       "      <th>0</th>\n",
       "      <td>What is (are) Childhood Liver Cancer ?</td>\n",
       "      <td>Key Points\\n                    - Childhood li...</td>\n",
       "      <td>0000007_3</td>\n",
       "    </tr>\n",
       "    <tr>\n",
       "      <th>1</th>\n",
       "      <td>Who is at risk for Childhood Liver Cancer? ?</td>\n",
       "      <td>Certain diseases and disorders can increase th...</td>\n",
       "      <td>0000007_3</td>\n",
       "    </tr>\n",
       "    <tr>\n",
       "      <th>2</th>\n",
       "      <td>What are the symptoms of Childhood Liver Cancer ?</td>\n",
       "      <td>Signs and symptoms of childhood liver cancer i...</td>\n",
       "      <td>0000007_3</td>\n",
       "    </tr>\n",
       "    <tr>\n",
       "      <th>3</th>\n",
       "      <td>How to diagnose Childhood Liver Cancer ?</td>\n",
       "      <td>Tests that examine the liver and the blood are...</td>\n",
       "      <td>0000007_3</td>\n",
       "    </tr>\n",
       "    <tr>\n",
       "      <th>4</th>\n",
       "      <td>What is the outlook for Childhood Liver Cancer ?</td>\n",
       "      <td>Certain factors affect prognosis (chance of re...</td>\n",
       "      <td>0000007_3</td>\n",
       "    </tr>\n",
       "    <tr>\n",
       "      <th>5</th>\n",
       "      <td>What are the stages of Childhood Liver Cancer ?</td>\n",
       "      <td>Key Points\\n                    - After childh...</td>\n",
       "      <td>0000007_3</td>\n",
       "    </tr>\n",
       "    <tr>\n",
       "      <th>6</th>\n",
       "      <td>What are the treatments for Childhood Liver Ca...</td>\n",
       "      <td>Key Points\\n                    - There are di...</td>\n",
       "      <td>0000007_3</td>\n",
       "    </tr>\n",
       "    <tr>\n",
       "      <th>7</th>\n",
       "      <td>what research (or clinical trials) is being do...</td>\n",
       "      <td>New types of treatment are being tested in cli...</td>\n",
       "      <td>0000007_3</td>\n",
       "    </tr>\n",
       "    <tr>\n",
       "      <th>8</th>\n",
       "      <td>What is (are) Chronic Myeloproliferative Neopl...</td>\n",
       "      <td>Key Points\\n                    - Myeloprolife...</td>\n",
       "      <td>0000013_2</td>\n",
       "    </tr>\n",
       "    <tr>\n",
       "      <th>9</th>\n",
       "      <td>How to diagnose Chronic Myeloproliferative Neo...</td>\n",
       "      <td>Tests that examine the blood and bone marrow a...</td>\n",
       "      <td>0000013_2</td>\n",
       "    </tr>\n",
       "    <tr>\n",
       "      <th>10</th>\n",
       "      <td>What are the stages of Chronic Myeloproliferat...</td>\n",
       "      <td>Key Points\\n                    - There is no ...</td>\n",
       "      <td>0000013_2</td>\n",
       "    </tr>\n",
       "    <tr>\n",
       "      <th>11</th>\n",
       "      <td>What are the treatments for Chronic Myeloproli...</td>\n",
       "      <td>Key Points\\n                    - There are di...</td>\n",
       "      <td>0000013_2</td>\n",
       "    </tr>\n",
       "    <tr>\n",
       "      <th>12</th>\n",
       "      <td>What is (are) Hypopharyngeal Cancer ?</td>\n",
       "      <td>Key Points\\n                    - Hypopharynge...</td>\n",
       "      <td>0000024_1</td>\n",
       "    </tr>\n",
       "    <tr>\n",
       "      <th>13</th>\n",
       "      <td>Who is at risk for Hypopharyngeal Cancer? ?</td>\n",
       "      <td>Use of tobacco products and heavy drinking can...</td>\n",
       "      <td>0000024_1</td>\n",
       "    </tr>\n",
       "    <tr>\n",
       "      <th>14</th>\n",
       "      <td>What are the symptoms of Hypopharyngeal Cancer ?</td>\n",
       "      <td>Signs and symptoms of hypopharyngeal cancer in...</td>\n",
       "      <td>0000024_1</td>\n",
       "    </tr>\n",
       "    <tr>\n",
       "      <th>15</th>\n",
       "      <td>How to diagnose Hypopharyngeal Cancer ?</td>\n",
       "      <td>Tests that examine the throat and neck are use...</td>\n",
       "      <td>0000024_1</td>\n",
       "    </tr>\n",
       "    <tr>\n",
       "      <th>16</th>\n",
       "      <td>What is the outlook for Hypopharyngeal Cancer ?</td>\n",
       "      <td>Certain factors affect prognosis (chance of re...</td>\n",
       "      <td>0000024_1</td>\n",
       "    </tr>\n",
       "    <tr>\n",
       "      <th>17</th>\n",
       "      <td>What are the stages of Hypopharyngeal Cancer ?</td>\n",
       "      <td>Key Points\\n                    - After hypoph...</td>\n",
       "      <td>0000024_1</td>\n",
       "    </tr>\n",
       "    <tr>\n",
       "      <th>18</th>\n",
       "      <td>What are the treatments for Hypopharyngeal Can...</td>\n",
       "      <td>Key Points\\n                    - There are di...</td>\n",
       "      <td>0000024_1</td>\n",
       "    </tr>\n",
       "    <tr>\n",
       "      <th>19</th>\n",
       "      <td>what research (or clinical trials) is being do...</td>\n",
       "      <td>New types of treatment are being tested in cli...</td>\n",
       "      <td>0000024_1</td>\n",
       "    </tr>\n",
       "  </tbody>\n",
       "</table>\n",
       "</div>"
      ],
      "text/plain": [
       "                                             question  \\\n",
       "0              What is (are) Childhood Liver Cancer ?   \n",
       "1        Who is at risk for Childhood Liver Cancer? ?   \n",
       "2   What are the symptoms of Childhood Liver Cancer ?   \n",
       "3            How to diagnose Childhood Liver Cancer ?   \n",
       "4    What is the outlook for Childhood Liver Cancer ?   \n",
       "5     What are the stages of Childhood Liver Cancer ?   \n",
       "6   What are the treatments for Childhood Liver Ca...   \n",
       "7   what research (or clinical trials) is being do...   \n",
       "8   What is (are) Chronic Myeloproliferative Neopl...   \n",
       "9   How to diagnose Chronic Myeloproliferative Neo...   \n",
       "10  What are the stages of Chronic Myeloproliferat...   \n",
       "11  What are the treatments for Chronic Myeloproli...   \n",
       "12              What is (are) Hypopharyngeal Cancer ?   \n",
       "13        Who is at risk for Hypopharyngeal Cancer? ?   \n",
       "14   What are the symptoms of Hypopharyngeal Cancer ?   \n",
       "15            How to diagnose Hypopharyngeal Cancer ?   \n",
       "16    What is the outlook for Hypopharyngeal Cancer ?   \n",
       "17     What are the stages of Hypopharyngeal Cancer ?   \n",
       "18  What are the treatments for Hypopharyngeal Can...   \n",
       "19  what research (or clinical trials) is being do...   \n",
       "\n",
       "                                               answer     source  \n",
       "0   Key Points\\n                    - Childhood li...  0000007_3  \n",
       "1   Certain diseases and disorders can increase th...  0000007_3  \n",
       "2   Signs and symptoms of childhood liver cancer i...  0000007_3  \n",
       "3   Tests that examine the liver and the blood are...  0000007_3  \n",
       "4   Certain factors affect prognosis (chance of re...  0000007_3  \n",
       "5   Key Points\\n                    - After childh...  0000007_3  \n",
       "6   Key Points\\n                    - There are di...  0000007_3  \n",
       "7   New types of treatment are being tested in cli...  0000007_3  \n",
       "8   Key Points\\n                    - Myeloprolife...  0000013_2  \n",
       "9   Tests that examine the blood and bone marrow a...  0000013_2  \n",
       "10  Key Points\\n                    - There is no ...  0000013_2  \n",
       "11  Key Points\\n                    - There are di...  0000013_2  \n",
       "12  Key Points\\n                    - Hypopharynge...  0000024_1  \n",
       "13  Use of tobacco products and heavy drinking can...  0000024_1  \n",
       "14  Signs and symptoms of hypopharyngeal cancer in...  0000024_1  \n",
       "15  Tests that examine the throat and neck are use...  0000024_1  \n",
       "16  Certain factors affect prognosis (chance of re...  0000024_1  \n",
       "17  Key Points\\n                    - After hypoph...  0000024_1  \n",
       "18  Key Points\\n                    - There are di...  0000024_1  \n",
       "19  New types of treatment are being tested in cli...  0000024_1  "
      ]
     },
     "execution_count": 7,
     "metadata": {},
     "output_type": "execute_result"
    }
   ],
   "source": [
    "#Displaying the first 20 rows of the DataFrame\n",
    "cancer_df.head(20)"
   ]
  },
  {
   "cell_type": "code",
   "execution_count": null,
   "metadata": {},
   "outputs": [
    {
     "data": {
      "text/plain": [
       "(729, 3)"
      ]
     },
     "execution_count": 8,
     "metadata": {},
     "output_type": "execute_result"
    }
   ],
   "source": [
    "#Checking the shape of the DataFrame to see how many rows and columns it contains\n",
    "cancer_df.shape"
   ]
  },
  {
   "cell_type": "code",
   "execution_count": null,
   "metadata": {},
   "outputs": [
    {
     "name": "stdout",
     "output_type": "stream",
     "text": [
      "<class 'pandas.core.frame.DataFrame'>\n",
      "RangeIndex: 729 entries, 0 to 728\n",
      "Data columns (total 3 columns):\n",
      " #   Column    Non-Null Count  Dtype \n",
      "---  ------    --------------  ----- \n",
      " 0   question  729 non-null    object\n",
      " 1   answer    729 non-null    object\n",
      " 2   source    729 non-null    object\n",
      "dtypes: object(3)\n",
      "memory usage: 17.2+ KB\n"
     ]
    }
   ],
   "source": [
    "#Checking the information about the DataFrame, including data types and non-null counts\n",
    "cancer_df.info()"
   ]
  },
  {
   "cell_type": "code",
   "execution_count": null,
   "metadata": {},
   "outputs": [
    {
     "data": {
      "text/plain": [
       "question    0\n",
       "answer      0\n",
       "source      0\n",
       "dtype: int64"
      ]
     },
     "execution_count": 10,
     "metadata": {},
     "output_type": "execute_result"
    }
   ],
   "source": [
    "#Checking the number of missing values in each column of the DataFrame\n",
    "cancer_df.isnull().sum()"
   ]
  },
  {
   "cell_type": "code",
   "execution_count": null,
   "metadata": {},
   "outputs": [
    {
     "data": {
      "text/plain": [
       "729"
      ]
     },
     "execution_count": 11,
     "metadata": {},
     "output_type": "execute_result"
    }
   ],
   "source": [
    "#Checking the number of rows in the DataFrame to see how many Q&A pairs were loaded\n",
    "len(cancer_df)"
   ]
  },
  {
   "cell_type": "code",
   "execution_count": null,
   "metadata": {},
   "outputs": [
    {
     "data": {
      "text/plain": [
       "pandas.core.frame.DataFrame"
      ]
     },
     "execution_count": 12,
     "metadata": {},
     "output_type": "execute_result"
    }
   ],
   "source": [
    "#Checking the data type of the DataFrame to confirm it is a pandas DataFrame\n",
    "type(cancer_df)"
   ]
  },
  {
   "cell_type": "code",
   "execution_count": null,
   "metadata": {},
   "outputs": [
    {
     "name": "stdout",
     "output_type": "stream",
     "text": [
      "Total duplicate questions: 78\n"
     ]
    },
    {
     "data": {
      "text/html": [
       "<div>\n",
       "<style scoped>\n",
       "    .dataframe tbody tr th:only-of-type {\n",
       "        vertical-align: middle;\n",
       "    }\n",
       "\n",
       "    .dataframe tbody tr th {\n",
       "        vertical-align: top;\n",
       "    }\n",
       "\n",
       "    .dataframe thead th {\n",
       "        text-align: right;\n",
       "    }\n",
       "</style>\n",
       "<table border=\"1\" class=\"dataframe\">\n",
       "  <thead>\n",
       "    <tr style=\"text-align: right;\">\n",
       "      <th></th>\n",
       "      <th>question</th>\n",
       "      <th>answer</th>\n",
       "      <th>source</th>\n",
       "    </tr>\n",
       "  </thead>\n",
       "  <tbody>\n",
       "    <tr>\n",
       "      <th>20</th>\n",
       "      <td>What is (are) Endometrial Cancer ?</td>\n",
       "      <td>Key Points\\n                    - Endometrial ...</td>\n",
       "      <td>0000014_4</td>\n",
       "    </tr>\n",
       "    <tr>\n",
       "      <th>21</th>\n",
       "      <td>Who is at risk for Endometrial Cancer? ?</td>\n",
       "      <td>Health history and certain medicines can affec...</td>\n",
       "      <td>0000014_4</td>\n",
       "    </tr>\n",
       "    <tr>\n",
       "      <th>26</th>\n",
       "      <td>What is (are) Breast Cancer ?</td>\n",
       "      <td>Key Points\\n                    - Breast cance...</td>\n",
       "      <td>0000027_4</td>\n",
       "    </tr>\n",
       "    <tr>\n",
       "      <th>27</th>\n",
       "      <td>How to prevent Breast Cancer ?</td>\n",
       "      <td>Key Points\\n                    - Avoiding ris...</td>\n",
       "      <td>0000027_4</td>\n",
       "    </tr>\n",
       "    <tr>\n",
       "      <th>28</th>\n",
       "      <td>Who is at risk for Breast Cancer? ?</td>\n",
       "      <td>Key Points\\n                    - Avoiding ris...</td>\n",
       "      <td>0000027_4</td>\n",
       "    </tr>\n",
       "    <tr>\n",
       "      <th>...</th>\n",
       "      <td>...</td>\n",
       "      <td>...</td>\n",
       "      <td>...</td>\n",
       "    </tr>\n",
       "    <tr>\n",
       "      <th>609</th>\n",
       "      <td>Who is at risk for Neuroblastoma? ?</td>\n",
       "      <td>Key Points\\n                    - Screening te...</td>\n",
       "      <td>0000031_2</td>\n",
       "    </tr>\n",
       "    <tr>\n",
       "      <th>625</th>\n",
       "      <td>What is (are) Liver (Hepatocellular) Cancer ?</td>\n",
       "      <td>Key Points\\n                    - Liver cancer...</td>\n",
       "      <td>0000007_4</td>\n",
       "    </tr>\n",
       "    <tr>\n",
       "      <th>626</th>\n",
       "      <td>Who is at risk for Liver (Hepatocellular) Canc...</td>\n",
       "      <td>Being infected with certain types of the hepat...</td>\n",
       "      <td>0000007_4</td>\n",
       "    </tr>\n",
       "    <tr>\n",
       "      <th>629</th>\n",
       "      <td>What is (are) Colorectal Cancer ?</td>\n",
       "      <td>Key Points\\n                    - Colorectal c...</td>\n",
       "      <td>0000037_3</td>\n",
       "    </tr>\n",
       "    <tr>\n",
       "      <th>631</th>\n",
       "      <td>Who is at risk for Colorectal Cancer? ?</td>\n",
       "      <td>Key Points\\n                    - Avoiding ris...</td>\n",
       "      <td>0000037_3</td>\n",
       "    </tr>\n",
       "  </tbody>\n",
       "</table>\n",
       "<p>78 rows × 3 columns</p>\n",
       "</div>"
      ],
      "text/plain": [
       "                                              question  \\\n",
       "20                  What is (are) Endometrial Cancer ?   \n",
       "21            Who is at risk for Endometrial Cancer? ?   \n",
       "26                       What is (are) Breast Cancer ?   \n",
       "27                      How to prevent Breast Cancer ?   \n",
       "28                 Who is at risk for Breast Cancer? ?   \n",
       "..                                                 ...   \n",
       "609                Who is at risk for Neuroblastoma? ?   \n",
       "625      What is (are) Liver (Hepatocellular) Cancer ?   \n",
       "626  Who is at risk for Liver (Hepatocellular) Canc...   \n",
       "629                  What is (are) Colorectal Cancer ?   \n",
       "631            Who is at risk for Colorectal Cancer? ?   \n",
       "\n",
       "                                                answer     source  \n",
       "20   Key Points\\n                    - Endometrial ...  0000014_4  \n",
       "21   Health history and certain medicines can affec...  0000014_4  \n",
       "26   Key Points\\n                    - Breast cance...  0000027_4  \n",
       "27   Key Points\\n                    - Avoiding ris...  0000027_4  \n",
       "28   Key Points\\n                    - Avoiding ris...  0000027_4  \n",
       "..                                                 ...        ...  \n",
       "609  Key Points\\n                    - Screening te...  0000031_2  \n",
       "625  Key Points\\n                    - Liver cancer...  0000007_4  \n",
       "626  Being infected with certain types of the hepat...  0000007_4  \n",
       "629  Key Points\\n                    - Colorectal c...  0000037_3  \n",
       "631  Key Points\\n                    - Avoiding ris...  0000037_3  \n",
       "\n",
       "[78 rows x 3 columns]"
      ]
     },
     "execution_count": 13,
     "metadata": {},
     "output_type": "execute_result"
    }
   ],
   "source": [
    "# Check how many duplicate questions exist\n",
    "duplicate_questions = cancer_df[cancer_df.duplicated(subset='question', keep=False)]\n",
    "print(f\"Total duplicate questions: {duplicate_questions.shape[0]}\")\n",
    "duplicate_questions\n"
   ]
  },
  {
   "cell_type": "code",
   "execution_count": null,
   "metadata": {},
   "outputs": [],
   "source": [
    "#Removing duplicate questions from the DataFrame while keeping the first occurrence\n",
    "cancer_df=cancer_df.drop_duplicates(subset='question', keep='first').reset_index(drop=True)"
   ]
  },
  {
   "cell_type": "code",
   "execution_count": null,
   "metadata": {},
   "outputs": [
    {
     "data": {
      "text/plain": [
       "(683, 3)"
      ]
     },
     "execution_count": 15,
     "metadata": {},
     "output_type": "execute_result"
    }
   ],
   "source": [
    "#Checking the shape of the DataFrame after removing duplicates to see how many rows remain\n",
    "cancer_df.shape"
   ]
  },
  {
   "cell_type": "markdown",
   "metadata": {},
   "source": [
    "## EXPLORATORY DATA ANALYSIS"
   ]
  },
  {
   "cell_type": "code",
   "execution_count": null,
   "metadata": {},
   "outputs": [
    {
     "name": "stderr",
     "output_type": "stream",
     "text": [
      "[nltk_data] Downloading package wordnet to /home/user/nltk_data...\n",
      "[nltk_data]   Package wordnet is already up-to-date!\n",
      "[nltk_data] Downloading package omw-1.4 to /home/user/nltk_data...\n",
      "[nltk_data]   Package omw-1.4 is already up-to-date!\n",
      "[nltk_data] Downloading package punkt to /home/user/nltk_data...\n",
      "[nltk_data]   Package punkt is already up-to-date!\n",
      "[nltk_data] Downloading package stopwords to /home/user/nltk_data...\n",
      "[nltk_data]   Package stopwords is already up-to-date!\n"
     ]
    },
    {
     "data": {
      "text/plain": [
       "True"
      ]
     },
     "execution_count": 16,
     "metadata": {},
     "output_type": "execute_result"
    }
   ],
   "source": [
    "#Downloading necessary NLTK resources for text processing\n",
    "nltk.download('wordnet')      \n",
    "nltk.download('omw-1.4')      \n",
    "nltk.download('punkt')        \n",
    "nltk.download('stopwords')    \n"
   ]
  },
  {
   "cell_type": "code",
   "execution_count": null,
   "metadata": {},
   "outputs": [],
   "source": [
    "#Defining a function to clean and preprocess the text data in the DataFrame\n",
    "\n",
    "stop_words = set(stopwords.words(\"english\"))\n",
    "lemmatizer = WordNetLemmatizer()\n",
    "\n",
    "def clean_text(text):\n",
    "    # Remove HTML tags if any\n",
    "    text = re.sub(r\"<.*?>\", \"\", text)\n",
    "    # Lowercase and remove special characters\n",
    "    text = re.sub(r\"[^a-zA-Z\\s]\", \"\", text.lower())\n",
    "    # Tokenize words\n",
    "    tokens = nltk.word_tokenize(text)\n",
    "    # Remove stopwords and lemmatize\n",
    "    tokens = [lemmatizer.lemmatize(word) for word in tokens if word not in stop_words]\n",
    "    return \" \".join(tokens)\n"
   ]
  },
  {
   "cell_type": "code",
   "execution_count": null,
   "metadata": {},
   "outputs": [],
   "source": [
    "#remove spaces and new lines\n",
    "cancer_df['question'] = cancer_df['question'].str.strip().replace('\\n', ' ')\n",
    "cancer_df['answer'] = cancer_df['answer'].str.strip().replace('\\n', ' ')\n",
    "\n",
    "\n",
    "# Preprocess the questions and answers\n",
    "cancer_df['question'] = cancer_df['question'].apply(clean_text)\n",
    "cancer_df['answer'] = cancer_df['answer'].apply(clean_text)\n"
   ]
  },
  {
   "cell_type": "code",
   "execution_count": null,
   "metadata": {},
   "outputs": [
    {
     "name": "stdout",
     "output_type": "stream",
     "text": [
      "Number of unique answers: 655\n",
      "answer\n",
      "new type treatment tested clinical trial information clinical trial available nci website patient may want think taking part clinical trial patient taking part clinical trial may best treatment choice clinical trial part cancer research process clinical trial done find new cancer treatment safe effective better standard treatment many today standard treatment cancer based earlier clinical trial patient take part clinical trial may receive standard treatment among first receive new treatment patient take part clinical trial also help improve way cancer treated future even clinical trial lead effective new treatment often answer important question help move research forward patient enter clinical trial starting cancer treatment clinical trial include patient yet received treatment trial test treatment patient whose cancer gotten better also clinical trial test new way stop cancer recurring coming back reduce side effect cancer treatment clinical trial taking place many part country see treatment option section follows link current treatment clinical trial retrieved ncis listing clinical trial                                                                                                                                                                                                                                                                                                                                                                                                                                                                                                                                                                                                                                                                                                                                                                                                                                                                                                                                                                                                                                                                                                                                                                                                                                                                                                                                                                                                                                                                                                                                                                                                                                                                                                                                                                                                                                                                                                                                                                                                                                                                                                                                                                                                                                                                                                                                                                                                                                                                                                                                                                                                                                                                                                                                                                                                                                                                                                                                                                                                                                                                                                                                                                                                                                                                                                                                                                                                                                                                                                                                                                                                                                                                                                                                                                                                                                                                                                                                                                                                                                                                                                                                                                                                                                                                                                                                                                                                                                                                                                                                                                                                                                                                                                                                                                                                                                                                                                                                                                                                                                                                                                                                                                                                                                                                                                                                                                                                                                                                                                                                                                                                                                                                                                                                                                                                                                                                                                                                                                                            25\n",
      "key point avoiding risk factor increasing protective factor may help prevent lung cancer following risk factor lung cancer cigarette cigar pipe smoking secondhand smoke family history hiv infection environmental risk factor beta carotene supplement heavy smoker following protective factor lung cancer smoking quitting smoking lower exposure workplace risk factor lower exposure radon clear following decrease risk lung cancer diet physical activity following decrease risk lung cancer beta carotene supplement nonsmoker vitamin e supplement cancer prevention clinical trial used study way prevent cancer new way prevent lung cancer studied clinical trial avoiding risk factor increasing protective factor may help prevent lung cancer avoiding cancer risk factor may help prevent certain cancer risk factor include smoking overweight getting enough exercise increasing protective factor quitting smoking exercising may also help prevent cancer talk doctor health care professional might lower risk cancer following risk factor lung cancer cigarette cigar pipe smoking tobacco smoking important risk factor lung cancer cigarette cigar pipe smoking increase risk lung cancer tobacco smoking cause case lung cancer men case lung cancer woman study shown smoking low tar low nicotine cigarette lower risk lung cancer study also show risk lung cancer smoking cigarette increase number cigarette smoked per day number year smoked people smoke time risk lung cancer compared smoke secondhand smoke exposed secondhand tobacco smoke also risk factor lung cancer secondhand smoke smoke come burning cigarette tobacco product exhaled smoker people inhale secondhand smoke exposed cancer causing agent smoker although smaller amount inhaling secondhand smoke called involuntary passive smoking family history family history lung cancer risk factor lung cancer people relative lung cancer may twice likely lung cancer people relative lung cancer cigarette smoking tends run family family member exposed secondhand smoke hard know whether increased risk lung cancer family history lung cancer exposed cigarette smoke hiv infection infected human immunodeficiency virus hiv cause acquired immunodeficiency syndrome aid linked higher risk lung cancer people infected hiv may twice risk lung cancer infected since smoking rate higher infected hiv infected clear whether increased risk lung cancer hiv infection exposed cigarette smoke environmental risk factor radiation exposure exposed radiation risk factor lung cancer atomic bomb radiation radiation therapy imaging test radon source radiation exposure atomic bomb radiation exposed radiation atomic bomb explosion increase risk lung cancer radiation therapy radiation therapy chest may used treat certain cancer including breast cancer hodgkin lymphoma radiation therapy us xrays gamma ray type radiation may increase risk lung cancer higher dose radiation received higher risk risk lung cancer following radiation therapy higher patient smoke nonsmoker imaging test imaging test ct scan expose patient radiation lowdose spiral ct scan expose patient less radiation higher dose ct scan lung cancer screening use lowdose spiral ct scan lessen harmful effect radiation radon radon radioactive gas come breakdown uranium rock soil seeps ground leak air water supply radon enter home crack floor wall foundation level radon build time study show high level radon gas inside home workplace increase number new case lung cancer number death caused lung cancer risk lung cancer higher smoker exposed radon nonsmoker exposed people never smoked death caused lung cancer linked exposed radon workplace exposure study show exposed following substance increase risk lung cancer asbestos arsenic chromium nickel beryllium cadmium tar soot substance cause lung cancer people exposed workplace never smoked level exposure substance increase risk lung cancer also increase risk lung cancer even higher people exposed also smoke air pollution study show living area higher level air pollution increase risk lung cancer beta carotene supplement heavy smoker taking beta carotene supplement pill increase risk lung cancer especially smoker smoke one pack day risk higher smoker least one alcoholic drink every day following protective factor lung cancer smoking best way prevent lung cancer smoke quitting smoking smoker decrease risk lung cancer quitting smoker treated lung cancer quitting smoking lower risk new lung cancer counseling use nicotine replacement product antidepressant therapy helped smoker quit good person quit smoking chance preventing lung cancer depends many year much person smoked length time since quitting person quit smoking year risk lung cancer decrease see following information quitting smoking tobacco includes help quitting cigarette smoking health risk quit lower exposure workplace risk factor law protect worker exposed cancercausing substance asbestos arsenic nickel chromium may help lower risk developing lung cancer law prevent smoking workplace help lower risk lung cancer caused secondhand smoke lower exposure radon lowering radon level may lower risk lung cancer especially among cigarette smoker high level radon home may reduced taking step prevent radon leakage sealing basement clear following decrease risk lung cancer diet study show people eat high amount fruit vegetable lower risk lung cancer eat low amount however since smoker tend less healthy diet nonsmoker hard know whether decreased risk healthy diet smoking physical activity study show people physically active lower risk lung cancer people however since smoker tend different level physical activity nonsmoker hard know physical activity affect risk lung cancer following decrease risk lung cancer beta carotene supplement nonsmoker study nonsmoker show taking beta carotene supplement lower risk lung cancer vitamin e supplement study show taking vitamin e supplement affect risk lung cancer cancer prevention clinical trial used study way prevent cancer cancer prevention clinical trial used study way lower risk developing certain type cancer cancer prevention trial conducted healthy people cancer increased risk cancer prevention trial conducted people cancer trying prevent another cancer type lower chance developing new type cancer trial done healthy volunteer known risk factor cancer purpose cancer prevention clinical trial find whether action people take prevent cancer may include eating fruit vegetable exercising quitting smoking taking certain medicine vitamin mineral food supplement new way prevent lung cancer studied clinical trial clinical trial taking place many part country information clinical trial found clinical trial section nci website check list ncisupported cancer clinical trial prevention trial nonsmall cell lung cancer small cell lung cancer accepting patient include trial quitting smoking     2\n",
      "patient may want think taking part clinical trial patient taking part clinical trial may best treatment choice clinical trial part cancer research process clinical trial done find new cancer treatment safe effective better standard treatment many today standard treatment cancer based earlier clinical trial patient take part clinical trial may receive standard treatment among first receive new treatment patient take part clinical trial also help improve way cancer treated future even clinical trial lead effective new treatment often answer important question help move research forward patient enter clinical trial starting cancer treatment clinical trial include patient yet received treatment trial test treatment patient whose cancer gotten better also clinical trial test new way stop cancer recurring coming back reduce side effect cancer treatment clinical trial taking place many part country see treatment option section follows link current treatment clinical trial retrieved ncis listing clinical trial                                                                                                                                                                                                                                                                                                                                                                                                                                                                                                                                                                                                                                                                                                                                                                                                                                                                                                                                                                                                                                                                                                                                                                                                                                                                                                                                                                                                                                                                                                                                                                                                                                                                                                                                                                                                                                                                                                                                                                                                                                                                                                                                                                                                                                                                                                                                                                                                                                                                                                                                                                                                                                                                                                                                                                                                                                                                                                                                                                                                                                                                                                                                                                                                                                                                                                                                                                                                                                                                                                                                                                                                                                                                                                                                                                                                                                                                                                                                                                                                                                                                                                                                                                                                                                                                                                                                                                                                                                                                                                                                                                                                                                                                                                                                                                                                                                                                                                                                                                                                                                                                                                                                                                                                                                                                                                                                                                                                                                                                                                                                                                                                                                                                                                                                                                                                                                                                                                                                                                                                                                                                                       2\n",
      "cause childhood brain tumor unknown                                                                                                                                                                                                                                                                                                                                                                                                                                                                                                                                                                                                                                                                                                                                                                                                                                                                                                                                                                                                                                                                                                                                                                                                                                                                                                                                                                                                                                                                                                                                                                                                                                                                                                                                                                                                                                                                                                                                                                                                                                                                                                                                                                                                                                                                                                                                                                                                                                                                                                                                                                                                                                                                                                                                                                                                                                                                                                                                                                                                                                                                                                                                                                                                                                                                                                                                                                                                                                                                                                                                                                                                                                                                                                                                                                                                                                                                                                                                                                                                                                                                                                                                                                                                                                                                                                                                                                                                                                                                                                                                                                                                                                                                                                                                                                                                                                                                                                                                                                                                                                                                                                                                                                                                                                                                                                                                                                                                                                                                                                                                                                                                                                                                                                                                                                                                                                                                                                                                                                                                                                                                                                                                                                                                                                                                                                                                                                                                                                                                                                                                                                                                                                                                                                                                                                                                                                                                                                                                                                                                                                                                                                             2\n",
      "new type treatment tested clinical trial summary section describes treatment studied clinical trial may mention every new treatment studied information clinical trial available nci website radiosensitizers radiosensitizers drug make tumor cell sensitive radiation therapy combining radiation therapy radiosensitizers may kill tumor cell patient may want think taking part clinical trial patient taking part clinical trial may best treatment choice clinical trial part cancer research process clinical trial done find new cancer treatment safe effective better standard treatment many today standard treatment cancer based earlier clinical trial patient take part clinical trial may receive standard treatment among first receive new treatment patient take part clinical trial also help improve way cancer treated future even clinical trial lead effective new treatment often answer important question help move research forward patient enter clinical trial starting cancer treatment clinical trial include patient yet received treatment trial test treatment patient whose cancer gotten better also clinical trial test new way stop cancer recurring coming back reduce side effect cancer treatment clinical trial taking place many part country see treatment option section follows link current treatment clinical trial retrieved ncis listing clinical trial                                                                                                                                                                                                                                                                                                                                                                                                                                                                                                                                                                                                                                                                                                                                                                                                                                                                                                                                                                                                                                                                                                                                                                                                                                                                                                                                                                                                                                                                                                                                                                                                                                                                                                                                                                                                                                                                                                                                                                                                                                                                                                                                                                                                                                                                                                                                                                                                                                                                                                                                                                                                                                                                                                                                                                                                                                                                                                                                                                                                                                                                                                                                                                                                                                                                                                                                                                                                                                                                                                                                                                                                                                                                                                                                                                                                                                                                                                                                                                                                                                                                                                                                                                                                                                                                                                                                                                                                                                                                                                                                                                                                                                                                                                                                                                                                                                                                                                                                                                                                                                                                                                                                                                                                                                                                                                                                                                                                                                                                                                                                                                                                                                                                                                                                      2\n",
      "Name: count, dtype: int64\n"
     ]
    }
   ],
   "source": [
    "#Checking the number of unique answers in the DataFrame\n",
    "print(f\"Number of unique answers: {cancer_df['answer'].nunique()}\")\n",
    "print(cancer_df['answer'].value_counts().head(5))\n"
   ]
  },
  {
   "cell_type": "code",
   "execution_count": null,
   "metadata": {},
   "outputs": [],
   "source": [
    "# Vectorization for text data using TF-IDF \n",
    "vectorizer = TfidfVectorizer(preprocessor=clean_text, stop_words='english')\n",
    "X = vectorizer.fit_transform(cancer_df['question'])\n",
    "y = cancer_df['answer']"
   ]
  },
  {
   "cell_type": "code",
   "execution_count": null,
   "metadata": {},
   "outputs": [],
   "source": [
    "# Function to get the top N answers based on cosine similarity of the user's question with the dataset questions\n",
    "\n",
    "def get_top_n_answers(user_question, n=3, threshold=0.6):\n",
    "    user_vec = vectorizer.transform([user_question])\n",
    "    similarities = cosine_similarity(user_vec, X).flatten()\n",
    "    top_indices = similarities.argsort()[-n:][::-1]\n",
    "    top_score = similarities[top_indices[0]]\n",
    "\n",
    "    if top_score < threshold:\n",
    "        return [{\n",
    "            \"question\": None,\n",
    "            \"answer\": \"I'm sorry, I don't have information on that. Please consult a doctor.\",\n",
    "            \"similarity\": float(top_score)\n",
    "        }]\n",
    "    \n",
    "    results = []\n",
    "    for idx in top_indices:\n",
    "        results.append({\n",
    "            \"question\": cancer_df.iloc[idx]['question'],\n",
    "            \"answer\": cancer_df.iloc[idx]['answer'],\n",
    "            \"similarity\": float(similarities[idx])\n",
    "        })\n",
    "    return results\n"
   ]
  },
  {
   "cell_type": "code",
   "execution_count": null,
   "metadata": {},
   "outputs": [
    {
     "name": "stdout",
     "output_type": "stream",
     "text": [
      "Q: symptom breast cancer\n",
      "A: sign breast cancer include lump change breast sign may caused breast cancer condition check doctor following lump thickening near breast underarm area change size shape breast dimple puckering skin breast nipple turned inward breast fluid breast milk nipple especially bloody scaly red swollen skin breast nipple areola dark area skin around nipple dimple breast look like skin orange called peau dorange may difficult detect find breast cancer early pregnant nursing woman breast usually get larger tender lumpy woman pregnant nursing given birth occurs normal hormone change take place pregnancy change make small lump difficult detect breast may also become denser difficult detect breast cancer woman dense breast using mammography breast change delay diagnosis breast cancer often found later stage woman\n",
      "Q: symptom pancreatic cancer\n",
      "A: sign symptom pancreatic cancer include jaundice pain weight loss pancreatic cancer may cause early sign symptom sign symptom may caused pancreatic cancer condition check doctor following jaundice yellowing skin white eye lightcolored stool dark urine pain upper middle abdomen back weight loss known reason loss appetite feeling tired pancreatic cancer difficult detect find diagnose early pancreatic cancer difficult detect diagnose following reason arent noticeable sign symptom early stage pancreatic cancer sign symptom pancreatic cancer present like sign symptom many illness pancreas hidden behind organ stomach small intestine liver gallbladder spleen bile duct\n",
      "Q: symptom oropharyngeal cancer\n",
      "A: sign symptom oropharyngeal cancer include lump neck sore throat sign symptom may caused oropharyngeal cancer condition check doctor following sore throat go away trouble swallowing trouble opening mouth fully trouble moving tongue weight loss known reason ear pain lump back mouth throat neck white patch tongue lining mouth go away coughing blood sometimes oropharyngeal cancer cause early sign symptom\n"
     ]
    }
   ],
   "source": [
    "for item in get_top_n_answers(\"What are the symptoms of throat cancer?\"):\n",
    "    print(f\"Q: {item['question']}\\nA: {item['answer']}\")\n"
   ]
  },
  {
   "cell_type": "markdown",
   "metadata": {},
   "source": [
    "# TUNING THE MODEL\n",
    "\n"
   ]
  },
  {
   "cell_type": "code",
   "execution_count": null,
   "metadata": {},
   "outputs": [],
   "source": [
    "# Using the sequence matcher to find the closest match to a user's question."
   ]
  },
  {
   "cell_type": "code",
   "execution_count": null,
   "metadata": {},
   "outputs": [],
   "source": [
    "# Function to get a response based on user input with a similarity threshold\n",
    "from difflib import SequenceMatcher\n",
    "\n",
    "def get_response(user_input, threshold=0.7):\n",
    "    processed_input = clean_text(user_input)\n",
    "    for index, row in cancer_df.iterrows():\n",
    "        question = clean_text(row['question'])\n",
    "        similarity = SequenceMatcher(None, processed_input, question).ratio()\n",
    "        if similarity >= threshold:\n",
    "            return row['answer']\n",
    "    return \"I'm sorry, I don't have information on that. Please consult a doctor.\"\n"
   ]
  },
  {
   "cell_type": "code",
   "execution_count": null,
   "metadata": {},
   "outputs": [],
   "source": [
    "# %pip install sentence-transformers\n"
   ]
  },
  {
   "cell_type": "code",
   "execution_count": null,
   "metadata": {},
   "outputs": [],
   "source": [
    "# Importing the SentenceTransformer model for generating sentence embeddings \n",
    "\n",
    "from sentence_transformers import SentenceTransformer\n",
    "\n",
    "# Load a lightweight sentence embedding model\n",
    "model = SentenceTransformer(\"all-MiniLM-L6-v2\")"
   ]
  },
  {
   "cell_type": "code",
   "execution_count": null,
   "metadata": {},
   "outputs": [],
   "source": [
    "# Generating embeddings for the questions in the DataFrame\n",
    "# Embeddings are used to capture the semantic meaning of the questions\n",
    "def get_semantic_answer(user_question, n=3, threshold=0.6):\n",
    "    user_embedding = model.encode([user_question])\n",
    "    similarities = cosine_similarity(user_embedding, question_embeddings).flatten()\n",
    "    \n",
    "    top_indices = similarities.argsort()[-n:][::-1]\n",
    "    top_score = similarities[top_indices[0]]\n",
    "\n",
    "    # Fallback response if match is too weak\n",
    "    if top_score < threshold:\n",
    "        return [{\n",
    "            \"question\": None,\n",
    "            \"answer\": \"I'm sorry, I don't have information on that. Please consult a doctor.\",\n",
    "            \"similarity\": float(top_score)\n",
    "        }]\n",
    "\n",
    "    # Return top answers\n",
    "    results = []\n",
    "    for idx in top_indices:\n",
    "        results.append({\n",
    "            \"question\": cancer_df.iloc[idx]['question'],\n",
    "            \"answer\": cancer_df.iloc[idx]['answer'],\n",
    "            \"similarity\": float(similarities[idx])\n",
    "        })\n",
    "    return results\n"
   ]
  },
  {
   "cell_type": "code",
   "execution_count": null,
   "metadata": {},
   "outputs": [],
   "source": [
    "from sklearn.metrics.pairwise import cosine_similarity\n"
   ]
  },
  {
   "cell_type": "code",
   "execution_count": null,
   "metadata": {},
   "outputs": [
    {
     "name": "stdout",
     "output_type": "stream",
     "text": [
      "I'm sorry, I don't have information on that. Please consult a doctor.\n"
     ]
    }
   ],
   "source": [
    "# Compute embeddings for all questions \n",
    "question_embeddings = model.encode(cancer_df['question'].tolist())\n",
    "\n",
    "for item in get_semantic_answer(\"Signs of pregnancy?\"):\n",
    "    print(item[\"answer\"])\n"
   ]
  },
  {
   "cell_type": "code",
   "execution_count": null,
   "metadata": {},
   "outputs": [
    {
     "name": "stdout",
     "output_type": "stream",
     "text": [
      "sign symptom laryngeal cancer include sore throat ear pain sign symptom may caused laryngeal cancer condition check doctor following sore throat cough go away trouble pain swallowing ear pain lump neck throat change hoarseness voice\n",
      "sign symptom oropharyngeal cancer include lump neck sore throat sign symptom may caused oropharyngeal cancer condition check doctor following sore throat go away trouble swallowing trouble opening mouth fully trouble moving tongue weight loss known reason ear pain lump back mouth throat neck white patch tongue lining mouth go away coughing blood sometimes oropharyngeal cancer cause early sign symptom\n",
      "sign salivary gland cancer include lump trouble swallowing salivary gland cancer may cause symptom may found regular dental checkup physical exam sign symptom may caused salivary gland cancer condition check doctor following lump usually painless area ear cheek jaw lip inside mouth fluid draining ear trouble swallowing opening mouth widely numbness weakness face pain face go away\n"
     ]
    }
   ],
   "source": [
    "for item in get_semantic_answer(\"Signs of throat cancer?\"):\n",
    "    print(item[\"answer\"])"
   ]
  },
  {
   "cell_type": "markdown",
   "metadata": {},
   "source": [
    "### Evaluating the model"
   ]
  },
  {
   "cell_type": "code",
   "execution_count": null,
   "metadata": {},
   "outputs": [],
   "source": [
    "validation_data = [\n",
    "    {\n",
    "        \"query\": \"What are symptoms of prostate cancer?\",\n",
    "        \"expected_answer\": \"sign prostate cancer include weak flow urine frequent urination\"\n",
    "    },\n",
    "    {\n",
    "        \"query\": \"How is breast cancer treated?\",\n",
    "        \"expected_answer\": \"treatment breast cancer include surgery radiation therapy chemotherapy\"\n",
    "    },\n",
    "    {\n",
    "        \"query\": \"What causes leukemia?\",\n",
    "        \"expected_answer\": \"leukemia caused by abnormal blood cells developing in bone marrow\"\n",
    "    },\n",
    "]\n",
    "\n"
   ]
  },
  {
   "cell_type": "code",
   "execution_count": null,
   "metadata": {},
   "outputs": [
    {
     "name": "stdout",
     "output_type": "stream",
     "text": [
      "Top-3 Accuracy: 33.33%\n"
     ]
    }
   ],
   "source": [
    "# Evaluating the model's accuracy on a validation set\n",
    "\n",
    "correct = 0\n",
    "total = len(validation_data)\n",
    "k = 3  # Top-k\n",
    "\n",
    "for item in validation_data:\n",
    "    query = item[\"query\"]\n",
    "    expected = item[\"expected_answer\"]\n",
    "\n",
    "    top_results = get_semantic_answer(query, n=k, threshold=0.0)\n",
    "\n",
    "    found = any(expected.lower() in result[\"answer\"].lower() for result in top_results)\n",
    "\n",
    "    if found:\n",
    "        correct += 1\n",
    "\n",
    "accuracy = correct / total\n",
    "print(f\"Top-{k} Accuracy: {accuracy:.2%}\")\n"
   ]
  },
  {
   "cell_type": "markdown",
   "metadata": {},
   "source": [
    "The accuracy score of 33.33% is very low. We need to finetune the model to get better accuracy score."
   ]
  }
 ],
 "metadata": {
  "kernelspec": {
   "display_name": "base",
   "language": "python",
   "name": "python3"
  },
  "language_info": {
   "codemirror_mode": {
    "name": "ipython",
    "version": 3
   },
   "file_extension": ".py",
   "mimetype": "text/x-python",
   "name": "python",
   "nbconvert_exporter": "python",
   "pygments_lexer": "ipython3",
   "version": "3.12.11"
  }
 },
 "nbformat": 4,
 "nbformat_minor": 2
}
