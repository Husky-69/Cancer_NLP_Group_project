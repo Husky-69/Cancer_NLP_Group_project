{
 "cells": [
  {
   "cell_type": "markdown",
   "metadata": {},
   "source": [
    "## DATA UNDERSTANDING"
   ]
  },
  {
   "cell_type": "code",
   "execution_count": 51,
   "metadata": {},
   "outputs": [
    {
     "name": "stderr",
     "output_type": "stream",
     "text": [
      "[nltk_data] Downloading package punkt to\n",
      "[nltk_data]     C:\\Users\\User\\AppData\\Roaming\\nltk_data...\n",
      "[nltk_data]   Package punkt is already up-to-date!\n",
      "[nltk_data] Downloading package stopwords to\n",
      "[nltk_data]     C:\\Users\\User\\AppData\\Roaming\\nltk_data...\n",
      "[nltk_data]   Package stopwords is already up-to-date!\n",
      "[nltk_data] Downloading package wordnet to\n",
      "[nltk_data]     C:\\Users\\User\\AppData\\Roaming\\nltk_data...\n",
      "[nltk_data]   Package wordnet is already up-to-date!\n",
      "[nltk_data] Downloading package omw-1.4 to\n",
      "[nltk_data]     C:\\Users\\User\\AppData\\Roaming\\nltk_data...\n",
      "[nltk_data]   Package omw-1.4 is already up-to-date!\n"
     ]
    },
    {
     "data": {
      "text/plain": [
       "True"
      ]
     },
     "execution_count": 51,
     "metadata": {},
     "output_type": "execute_result"
    }
   ],
   "source": [
    "#Importing necessary libraries\n",
    "\n",
    "import pandas as pd\n",
    "import nltk\n",
    "import re\n",
    "from nltk.corpus import stopwords\n",
    "from nltk.tokenize import word_tokenize\n",
    "from nltk.stem import WordNetLemmatizer\n",
    "from sklearn.feature_extraction.text import TfidfVectorizer\n",
    "from sklearn.metrics.pairwise import cosine_similarity\n",
    "import numpy as np\n",
    "import warnings\n",
    "import xml.etree.ElementTree as ET\n",
    "import xml.etree.ElementTree as ET\n",
    "warnings.filterwarnings('ignore')\n",
    "import os\n",
    "\n",
    "# Download improved NLP resources\n",
    "nltk.download('punkt')\n",
    "nltk.download('stopwords')\n",
    "nltk.download('wordnet')\n",
    "nltk.download('omw-1.4')\n",
    "\n"
   ]
  },
  {
   "cell_type": "code",
   "execution_count": 52,
   "metadata": {},
   "outputs": [],
   "source": [
    "#Creating a class to load and process cancer-related Q&A data from XML files \n",
    "\n",
    "class CancerQALoader:\n",
    "    def __init__(self, filepath):\n",
    "        self.filepath = filepath\n",
    "        self.questions = []\n",
    "        self.answers = []\n",
    "        self.root = None\n",
    "        self.source = os.path.splitext(os.path.basename(filepath))[0] \n",
    "\n",
    "    def parse_xml(self):\n",
    "        try:\n",
    "            tree = ET.parse(self.filepath)\n",
    "            self.root = tree.getroot()\n",
    "        except ET.ParseError as e:\n",
    "            print(f\"Error parsing XML in {self.filepath}: {e}\")\n",
    "        except FileNotFoundError:\n",
    "            print(f\"File not found: {self.filepath}\")\n",
    "\n",
    "    def extract_qa_pairs(self):\n",
    "        if self.root is None:\n",
    "            return\n",
    "\n",
    "        for qa_pair in self.root.findall('.//QAPair'):\n",
    "            question = qa_pair.find('Question').text\n",
    "            answer = qa_pair.find('Answer').text\n",
    "            if question and answer:\n",
    "                self.questions.append(question)\n",
    "                self.answers.append(answer)\n",
    "\n",
    "    def get_dataframe(self):\n",
    "        return pd.DataFrame({\n",
    "            'question': self.questions,\n",
    "            'answer': self.answers,\n",
    "            'source': [self.source] * len(self.questions)  # Add source to each row\n",
    "        })\n",
    "\n",
    "    def load_all_qa_from_folder(folder_path):\n",
    "        all_dfs = []\n",
    "\n",
    "        for filename in os.listdir(folder_path):\n",
    "            if filename.endswith(\".xml\"):\n",
    "                full_path = os.path.join(folder_path, filename)\n",
    "                loader = CancerQALoader(full_path)\n",
    "                loader.parse_xml()\n",
    "                loader.extract_qa_pairs()\n",
    "                df = loader.get_dataframe()\n",
    "                all_dfs.append(df)\n",
    "\n",
    "        return pd.concat(all_dfs, ignore_index=True)"
   ]
  },
  {
   "cell_type": "code",
   "execution_count": 53,
   "metadata": {},
   "outputs": [],
   "source": [
    "#We used the class to load all Q&A pairs from XML files in a specified folder\n",
    "folder = ('1_CancerGov_QA' ) \n",
    "cancer_df = CancerQALoader.load_all_qa_from_folder(folder)"
   ]
  },
  {
   "cell_type": "code",
   "execution_count": 54,
   "metadata": {},
   "outputs": [
    {
     "name": "stdout",
     "output_type": "stream",
     "text": [
      "Reading 116 files\n"
     ]
    }
   ],
   "source": [
    "#Displaying the number of files loaded into the cancer_df DataFrame\n",
    "print(f\"Reading {cancer_df['source'].nunique()} files\")"
   ]
  },
  {
   "cell_type": "code",
   "execution_count": 55,
   "metadata": {},
   "outputs": [
    {
     "data": {
      "text/html": [
       "<div>\n",
       "<style scoped>\n",
       "    .dataframe tbody tr th:only-of-type {\n",
       "        vertical-align: middle;\n",
       "    }\n",
       "\n",
       "    .dataframe tbody tr th {\n",
       "        vertical-align: top;\n",
       "    }\n",
       "\n",
       "    .dataframe thead th {\n",
       "        text-align: right;\n",
       "    }\n",
       "</style>\n",
       "<table border=\"1\" class=\"dataframe\">\n",
       "  <thead>\n",
       "    <tr style=\"text-align: right;\">\n",
       "      <th></th>\n",
       "      <th>question</th>\n",
       "      <th>answer</th>\n",
       "      <th>source</th>\n",
       "    </tr>\n",
       "  </thead>\n",
       "  <tbody>\n",
       "    <tr>\n",
       "      <th>0</th>\n",
       "      <td>What is (are) Adult Acute Lymphoblastic Leukem...</td>\n",
       "      <td>Key Points\\n                    - Adult acute ...</td>\n",
       "      <td>0000001_1</td>\n",
       "    </tr>\n",
       "    <tr>\n",
       "      <th>1</th>\n",
       "      <td>What are the symptoms of Adult Acute Lymphobla...</td>\n",
       "      <td>Signs and symptoms of adult ALL include fever,...</td>\n",
       "      <td>0000001_1</td>\n",
       "    </tr>\n",
       "    <tr>\n",
       "      <th>2</th>\n",
       "      <td>How to diagnose Adult Acute Lymphoblastic Leuk...</td>\n",
       "      <td>Tests that examine the blood and bone marrow a...</td>\n",
       "      <td>0000001_1</td>\n",
       "    </tr>\n",
       "    <tr>\n",
       "      <th>3</th>\n",
       "      <td>What is the outlook for Adult Acute Lymphoblas...</td>\n",
       "      <td>Certain factors affect prognosis (chance of re...</td>\n",
       "      <td>0000001_1</td>\n",
       "    </tr>\n",
       "    <tr>\n",
       "      <th>4</th>\n",
       "      <td>Who is at risk for Adult Acute Lymphoblastic L...</td>\n",
       "      <td>Previous chemotherapy and exposure to radiatio...</td>\n",
       "      <td>0000001_1</td>\n",
       "    </tr>\n",
       "    <tr>\n",
       "      <th>5</th>\n",
       "      <td>What are the stages of Adult Acute Lymphoblast...</td>\n",
       "      <td>Key Points\\n                    - Once adult A...</td>\n",
       "      <td>0000001_1</td>\n",
       "    </tr>\n",
       "    <tr>\n",
       "      <th>6</th>\n",
       "      <td>What are the treatments for Adult Acute Lympho...</td>\n",
       "      <td>Key Points\\n                    - There are di...</td>\n",
       "      <td>0000001_1</td>\n",
       "    </tr>\n",
       "    <tr>\n",
       "      <th>7</th>\n",
       "      <td>What is (are) Adult Acute Myeloid Leukemia ?</td>\n",
       "      <td>Key Points\\n                    - Adult acute ...</td>\n",
       "      <td>0000001_2</td>\n",
       "    </tr>\n",
       "    <tr>\n",
       "      <th>8</th>\n",
       "      <td>Who is at risk for Adult Acute Myeloid Leukemi...</td>\n",
       "      <td>Smoking, previous chemotherapy treatment, and ...</td>\n",
       "      <td>0000001_2</td>\n",
       "    </tr>\n",
       "    <tr>\n",
       "      <th>9</th>\n",
       "      <td>What are the symptoms of Adult Acute Myeloid L...</td>\n",
       "      <td>Signs and symptoms of adult AML include fever,...</td>\n",
       "      <td>0000001_2</td>\n",
       "    </tr>\n",
       "    <tr>\n",
       "      <th>10</th>\n",
       "      <td>How to diagnose Adult Acute Myeloid Leukemia ?</td>\n",
       "      <td>Tests that examine the blood and bone marrow a...</td>\n",
       "      <td>0000001_2</td>\n",
       "    </tr>\n",
       "    <tr>\n",
       "      <th>11</th>\n",
       "      <td>What is the outlook for Adult Acute Myeloid Le...</td>\n",
       "      <td>Certain factors affect prognosis (chance of re...</td>\n",
       "      <td>0000001_2</td>\n",
       "    </tr>\n",
       "    <tr>\n",
       "      <th>12</th>\n",
       "      <td>What are the stages of Adult Acute Myeloid Leu...</td>\n",
       "      <td>Key Points\\n                    - Once adult a...</td>\n",
       "      <td>0000001_2</td>\n",
       "    </tr>\n",
       "    <tr>\n",
       "      <th>13</th>\n",
       "      <td>What are the treatments for Adult Acute Myeloi...</td>\n",
       "      <td>Key Points\\n                    - There are di...</td>\n",
       "      <td>0000001_2</td>\n",
       "    </tr>\n",
       "    <tr>\n",
       "      <th>14</th>\n",
       "      <td>what research (or clinical trials) is being do...</td>\n",
       "      <td>New types of treatment are being tested in cli...</td>\n",
       "      <td>0000001_2</td>\n",
       "    </tr>\n",
       "    <tr>\n",
       "      <th>15</th>\n",
       "      <td>What is (are) Chronic Lymphocytic Leukemia ?</td>\n",
       "      <td>Key Points\\n                    - Chronic lymp...</td>\n",
       "      <td>0000001_3</td>\n",
       "    </tr>\n",
       "    <tr>\n",
       "      <th>16</th>\n",
       "      <td>Who is at risk for Chronic Lymphocytic Leukemi...</td>\n",
       "      <td>Older age can affect the risk of developing ch...</td>\n",
       "      <td>0000001_3</td>\n",
       "    </tr>\n",
       "    <tr>\n",
       "      <th>17</th>\n",
       "      <td>What are the symptoms of Chronic Lymphocytic L...</td>\n",
       "      <td>Signs and symptoms of chronic lymphocytic leuk...</td>\n",
       "      <td>0000001_3</td>\n",
       "    </tr>\n",
       "    <tr>\n",
       "      <th>18</th>\n",
       "      <td>How to diagnose Chronic Lymphocytic Leukemia ?</td>\n",
       "      <td>Tests that examine the blood, bone marrow, and...</td>\n",
       "      <td>0000001_3</td>\n",
       "    </tr>\n",
       "    <tr>\n",
       "      <th>19</th>\n",
       "      <td>What is the outlook for Chronic Lymphocytic Le...</td>\n",
       "      <td>Certain factors affect treatment options and p...</td>\n",
       "      <td>0000001_3</td>\n",
       "    </tr>\n",
       "  </tbody>\n",
       "</table>\n",
       "</div>"
      ],
      "text/plain": [
       "                                             question  \\\n",
       "0   What is (are) Adult Acute Lymphoblastic Leukem...   \n",
       "1   What are the symptoms of Adult Acute Lymphobla...   \n",
       "2   How to diagnose Adult Acute Lymphoblastic Leuk...   \n",
       "3   What is the outlook for Adult Acute Lymphoblas...   \n",
       "4   Who is at risk for Adult Acute Lymphoblastic L...   \n",
       "5   What are the stages of Adult Acute Lymphoblast...   \n",
       "6   What are the treatments for Adult Acute Lympho...   \n",
       "7        What is (are) Adult Acute Myeloid Leukemia ?   \n",
       "8   Who is at risk for Adult Acute Myeloid Leukemi...   \n",
       "9   What are the symptoms of Adult Acute Myeloid L...   \n",
       "10     How to diagnose Adult Acute Myeloid Leukemia ?   \n",
       "11  What is the outlook for Adult Acute Myeloid Le...   \n",
       "12  What are the stages of Adult Acute Myeloid Leu...   \n",
       "13  What are the treatments for Adult Acute Myeloi...   \n",
       "14  what research (or clinical trials) is being do...   \n",
       "15       What is (are) Chronic Lymphocytic Leukemia ?   \n",
       "16  Who is at risk for Chronic Lymphocytic Leukemi...   \n",
       "17  What are the symptoms of Chronic Lymphocytic L...   \n",
       "18     How to diagnose Chronic Lymphocytic Leukemia ?   \n",
       "19  What is the outlook for Chronic Lymphocytic Le...   \n",
       "\n",
       "                                               answer     source  \n",
       "0   Key Points\\n                    - Adult acute ...  0000001_1  \n",
       "1   Signs and symptoms of adult ALL include fever,...  0000001_1  \n",
       "2   Tests that examine the blood and bone marrow a...  0000001_1  \n",
       "3   Certain factors affect prognosis (chance of re...  0000001_1  \n",
       "4   Previous chemotherapy and exposure to radiatio...  0000001_1  \n",
       "5   Key Points\\n                    - Once adult A...  0000001_1  \n",
       "6   Key Points\\n                    - There are di...  0000001_1  \n",
       "7   Key Points\\n                    - Adult acute ...  0000001_2  \n",
       "8   Smoking, previous chemotherapy treatment, and ...  0000001_2  \n",
       "9   Signs and symptoms of adult AML include fever,...  0000001_2  \n",
       "10  Tests that examine the blood and bone marrow a...  0000001_2  \n",
       "11  Certain factors affect prognosis (chance of re...  0000001_2  \n",
       "12  Key Points\\n                    - Once adult a...  0000001_2  \n",
       "13  Key Points\\n                    - There are di...  0000001_2  \n",
       "14  New types of treatment are being tested in cli...  0000001_2  \n",
       "15  Key Points\\n                    - Chronic lymp...  0000001_3  \n",
       "16  Older age can affect the risk of developing ch...  0000001_3  \n",
       "17  Signs and symptoms of chronic lymphocytic leuk...  0000001_3  \n",
       "18  Tests that examine the blood, bone marrow, and...  0000001_3  \n",
       "19  Certain factors affect treatment options and p...  0000001_3  "
      ]
     },
     "execution_count": 55,
     "metadata": {},
     "output_type": "execute_result"
    }
   ],
   "source": [
    "#Displaying the first 20 rows of the DataFrame\n",
    "cancer_df.head(20)"
   ]
  },
  {
   "cell_type": "code",
   "execution_count": 56,
   "metadata": {},
   "outputs": [
    {
     "data": {
      "text/plain": [
       "(729, 3)"
      ]
     },
     "execution_count": 56,
     "metadata": {},
     "output_type": "execute_result"
    }
   ],
   "source": [
    "#Checking the shape of the DataFrame to see how many rows and columns it contains\n",
    "cancer_df.shape"
   ]
  },
  {
   "cell_type": "code",
   "execution_count": 57,
   "metadata": {},
   "outputs": [
    {
     "name": "stdout",
     "output_type": "stream",
     "text": [
      "<class 'pandas.core.frame.DataFrame'>\n",
      "RangeIndex: 729 entries, 0 to 728\n",
      "Data columns (total 3 columns):\n",
      " #   Column    Non-Null Count  Dtype \n",
      "---  ------    --------------  ----- \n",
      " 0   question  729 non-null    object\n",
      " 1   answer    729 non-null    object\n",
      " 2   source    729 non-null    object\n",
      "dtypes: object(3)\n",
      "memory usage: 17.2+ KB\n"
     ]
    }
   ],
   "source": [
    "#Checking the information about the DataFrame, including data types and non-null counts\n",
    "cancer_df.info()"
   ]
  },
  {
   "cell_type": "code",
   "execution_count": 58,
   "metadata": {},
   "outputs": [
    {
     "data": {
      "text/plain": [
       "question    0\n",
       "answer      0\n",
       "source      0\n",
       "dtype: int64"
      ]
     },
     "execution_count": 58,
     "metadata": {},
     "output_type": "execute_result"
    }
   ],
   "source": [
    "#Checking the number of missing values in each column of the DataFrame\n",
    "cancer_df.isnull().sum()"
   ]
  },
  {
   "cell_type": "code",
   "execution_count": 59,
   "metadata": {},
   "outputs": [
    {
     "data": {
      "text/plain": [
       "729"
      ]
     },
     "execution_count": 59,
     "metadata": {},
     "output_type": "execute_result"
    }
   ],
   "source": [
    "#Checking the number of rows in the DataFrame to see how many Q&A pairs were loaded\n",
    "len(cancer_df)"
   ]
  },
  {
   "cell_type": "code",
   "execution_count": 60,
   "metadata": {},
   "outputs": [
    {
     "data": {
      "text/plain": [
       "pandas.core.frame.DataFrame"
      ]
     },
     "execution_count": 60,
     "metadata": {},
     "output_type": "execute_result"
    }
   ],
   "source": [
    "#Checking the data type of the DataFrame to confirm it is a pandas DataFrame\n",
    "type(cancer_df)"
   ]
  },
  {
   "cell_type": "code",
   "execution_count": 61,
   "metadata": {},
   "outputs": [
    {
     "name": "stdout",
     "output_type": "stream",
     "text": [
      "Total duplicate questions: 78\n"
     ]
    },
    {
     "data": {
      "text/html": [
       "<div>\n",
       "<style scoped>\n",
       "    .dataframe tbody tr th:only-of-type {\n",
       "        vertical-align: middle;\n",
       "    }\n",
       "\n",
       "    .dataframe tbody tr th {\n",
       "        vertical-align: top;\n",
       "    }\n",
       "\n",
       "    .dataframe thead th {\n",
       "        text-align: right;\n",
       "    }\n",
       "</style>\n",
       "<table border=\"1\" class=\"dataframe\">\n",
       "  <thead>\n",
       "    <tr style=\"text-align: right;\">\n",
       "      <th></th>\n",
       "      <th>question</th>\n",
       "      <th>answer</th>\n",
       "      <th>source</th>\n",
       "    </tr>\n",
       "  </thead>\n",
       "  <tbody>\n",
       "    <tr>\n",
       "      <th>22</th>\n",
       "      <td>What is (are) Chronic Myelogenous Leukemia ?</td>\n",
       "      <td>Key Points\\n                    - Chronic myel...</td>\n",
       "      <td>0000001_4</td>\n",
       "    </tr>\n",
       "    <tr>\n",
       "      <th>29</th>\n",
       "      <td>What are the treatments for Chronic Myelogenou...</td>\n",
       "      <td>Key Points\\n                    - There are di...</td>\n",
       "      <td>0000001_4</td>\n",
       "    </tr>\n",
       "    <tr>\n",
       "      <th>246</th>\n",
       "      <td>What is (are) Liver (Hepatocellular) Cancer ?</td>\n",
       "      <td>Key Points\\n                    - Liver cancer...</td>\n",
       "      <td>0000007_4</td>\n",
       "    </tr>\n",
       "    <tr>\n",
       "      <th>247</th>\n",
       "      <td>Who is at risk for Liver (Hepatocellular) Canc...</td>\n",
       "      <td>Being infected with certain types of the hepat...</td>\n",
       "      <td>0000007_4</td>\n",
       "    </tr>\n",
       "    <tr>\n",
       "      <th>250</th>\n",
       "      <td>What is (are) Liver (Hepatocellular) Cancer ?</td>\n",
       "      <td>Key Points\\n                    - Liver cancer...</td>\n",
       "      <td>0000007_5</td>\n",
       "    </tr>\n",
       "    <tr>\n",
       "      <th>...</th>\n",
       "      <td>...</td>\n",
       "      <td>...</td>\n",
       "      <td>...</td>\n",
       "    </tr>\n",
       "    <tr>\n",
       "      <th>678</th>\n",
       "      <td>Who is at risk for Prostate Cancer? ?</td>\n",
       "      <td>Different factors increase or decrease the ris...</td>\n",
       "      <td>0000036_3</td>\n",
       "    </tr>\n",
       "    <tr>\n",
       "      <th>695</th>\n",
       "      <td>What is (are) Colorectal Cancer ?</td>\n",
       "      <td>Key Points\\n                    - Colorectal c...</td>\n",
       "      <td>0000037_3</td>\n",
       "    </tr>\n",
       "    <tr>\n",
       "      <th>697</th>\n",
       "      <td>Who is at risk for Colorectal Cancer? ?</td>\n",
       "      <td>Key Points\\n                    - Avoiding ris...</td>\n",
       "      <td>0000037_3</td>\n",
       "    </tr>\n",
       "    <tr>\n",
       "      <th>699</th>\n",
       "      <td>What is (are) Colorectal Cancer ?</td>\n",
       "      <td>Key Points\\n                    - Colorectal c...</td>\n",
       "      <td>0000037_4</td>\n",
       "    </tr>\n",
       "    <tr>\n",
       "      <th>700</th>\n",
       "      <td>Who is at risk for Colorectal Cancer? ?</td>\n",
       "      <td>Different factors increase or decrease the ris...</td>\n",
       "      <td>0000037_4</td>\n",
       "    </tr>\n",
       "  </tbody>\n",
       "</table>\n",
       "<p>78 rows × 3 columns</p>\n",
       "</div>"
      ],
      "text/plain": [
       "                                              question  \\\n",
       "22        What is (are) Chronic Myelogenous Leukemia ?   \n",
       "29   What are the treatments for Chronic Myelogenou...   \n",
       "246      What is (are) Liver (Hepatocellular) Cancer ?   \n",
       "247  Who is at risk for Liver (Hepatocellular) Canc...   \n",
       "250      What is (are) Liver (Hepatocellular) Cancer ?   \n",
       "..                                                 ...   \n",
       "678              Who is at risk for Prostate Cancer? ?   \n",
       "695                  What is (are) Colorectal Cancer ?   \n",
       "697            Who is at risk for Colorectal Cancer? ?   \n",
       "699                  What is (are) Colorectal Cancer ?   \n",
       "700            Who is at risk for Colorectal Cancer? ?   \n",
       "\n",
       "                                                answer     source  \n",
       "22   Key Points\\n                    - Chronic myel...  0000001_4  \n",
       "29   Key Points\\n                    - There are di...  0000001_4  \n",
       "246  Key Points\\n                    - Liver cancer...  0000007_4  \n",
       "247  Being infected with certain types of the hepat...  0000007_4  \n",
       "250  Key Points\\n                    - Liver cancer...  0000007_5  \n",
       "..                                                 ...        ...  \n",
       "678  Different factors increase or decrease the ris...  0000036_3  \n",
       "695  Key Points\\n                    - Colorectal c...  0000037_3  \n",
       "697  Key Points\\n                    - Avoiding ris...  0000037_3  \n",
       "699  Key Points\\n                    - Colorectal c...  0000037_4  \n",
       "700  Different factors increase or decrease the ris...  0000037_4  \n",
       "\n",
       "[78 rows x 3 columns]"
      ]
     },
     "execution_count": 61,
     "metadata": {},
     "output_type": "execute_result"
    }
   ],
   "source": [
    "# Check how many duplicate questions exist\n",
    "duplicate_questions = cancer_df[cancer_df.duplicated(subset='question', keep=False)]\n",
    "print(f\"Total duplicate questions: {duplicate_questions.shape[0]}\")\n",
    "duplicate_questions\n"
   ]
  },
  {
   "cell_type": "markdown",
   "metadata": {},
   "source": [
    "## DATA CLEANING"
   ]
  },
  {
   "cell_type": "code",
   "execution_count": 62,
   "metadata": {},
   "outputs": [],
   "source": [
    "#Removing duplicate questions from the DataFrame while keeping the first occurrence\n",
    "cancer_df=cancer_df.drop_duplicates(subset='question', keep='first').reset_index(drop=True)"
   ]
  },
  {
   "cell_type": "code",
   "execution_count": 63,
   "metadata": {},
   "outputs": [
    {
     "data": {
      "text/plain": [
       "(683, 3)"
      ]
     },
     "execution_count": 63,
     "metadata": {},
     "output_type": "execute_result"
    }
   ],
   "source": [
    "#Checking the shape of the DataFrame after removing duplicates to see how many rows remain\n",
    "cancer_df.shape"
   ]
  },
  {
   "cell_type": "markdown",
   "metadata": {},
   "source": [
    "### DATA PREPROCESSING\n",
    "Standardize text preprocessing to ensure consistency across training, validation, and inference.\n",
    "In this case we use medical-specific stopwords and define a function that that handles medical terms carefully and preserves context."
   ]
  },
  {
   "cell_type": "code",
   "execution_count": 64,
   "metadata": {},
   "outputs": [],
   "source": [
    "#Defining a function to clean and preprocess the text data in the DataFrame\n",
    "# Medical-specific stopwords\n",
    "MEDICAL_STOPWORDS = set(stopwords.words('english')) | {\n",
    "    'patient', 'cancer', 'may', 'also', 'include', 'following', \n",
    "    'key', 'point', 'points', 'doctor', 'medical'\n",
    "}\n",
    "\n",
    "lemmatizer = WordNetLemmatizer()\n",
    "\n",
    "# Enhanced medical cleaning function\n",
    "def clean_text(text):\n",
    "    \"\"\"Improved medical text cleaning with boilerplate removal\"\"\"\n",
    "    if not isinstance(text, str):\n",
    "        return \"\"\n",
    "    # 1. Remove all boilerplate patterns first\n",
    "    text = re.sub(r'Key Points.*?-', '', text)\n",
    "    text = re.sub(r'\\\\n', ' ', text)           # Replace newlines with spaces\n",
    "    text = re.sub(r'\\s+', ' ', text)           # Collapse multiple spaces\n",
    "    \n",
    "    # 2. Preserve medical terms while cleaning\n",
    "    text = re.sub(r'<.*?>', '', text)  # Remove HTML tags\n",
    "    text = re.sub(r'[^a-zA-Z0-9\\s-]', ' ', text.lower())  # Keep hyphens in terms like \"post-operative\" \n",
    "   \n",
    "    \n",
    "    # 3. Enhanced medical token handling\n",
    "    tokens = word_tokenize(text)\n",
    "    filtered_tokens = []\n",
    "    for word in tokens:\n",
    "        # Keep medical terms longer than 2 chars, except stopwords\n",
    "        if (len(word) > 2) and (word not in MEDICAL_STOPWORDS):\n",
    "            # Special handling for medical plurals (e.g., therapies -> therapy)\n",
    "            lemma = lemmatizer.lemmatize(word, pos='n')\n",
    "            if lemma.endswith('ies'):\n",
    "                lemma = lemma[:-3] + 'y'  # therapies -> therapy\n",
    "            elif lemma.endswith('es'):\n",
    "                lemma = lemma[:-2]  # diseases -> disease\n",
    "            filtered_tokens.append(lemma)\n",
    "    \n",
    "    return ' '.join(filtered_tokens)\n"
   ]
  },
  {
   "cell_type": "code",
   "execution_count": 65,
   "metadata": {},
   "outputs": [],
   "source": [
    "#remove spaces and new lines\n",
    "cancer_df['question'] = cancer_df['question'].str.strip().replace('\\n', ' ')\n",
    "cancer_df['answer'] = cancer_df['answer'].str.strip().replace('\\n', ' ')\n",
    "\n",
    "\n",
    "# Preprocess the questions and answers\n",
    "cancer_df['question'] = cancer_df['question'].apply(clean_text)\n",
    "cancer_df['answer'] = cancer_df['answer'].apply(clean_text)\n"
   ]
  },
  {
   "cell_type": "code",
   "execution_count": 66,
   "metadata": {},
   "outputs": [
    {
     "name": "stdout",
     "output_type": "stream",
     "text": [
      "Number of unique answers: 655\n",
      "answer\n",
      "new type treatment tested clinical trial information clinical trial available nci website patient want think taking part clinical trial patient taking part clinical trial best treatment choice clinical trial part research process clinical trial done find new treatment safe effective better standard treatment many today standard treatment based earlier clinical trial patient take part clinical trial receive standard treatment among first receive new treatment patient take part clinical trial help improve way treated future even clinical trial lead effective new treatment often answer important question help move research forward patient enter clinical trial starting treatment clinical trial patient yet received treatment trial test treatment patient whose gotten better clinical trial test new way stop recurring coming back reduce side effect treatment clinical trial taking place many part country see treatment option section follows link current treatment clinical trial retrieved nci listing clinical trial                                                                                                                                                                                                                                                                                                                                                                                                                                                                                                                                                                                                                                                                                                                                                                                                                                                                                                                                                                                                                                                                                                                                                                                                                                                                                                                                                                                                                                                                                                                                                                                                                                                                                                                                                                                                                                                                                                                                                                                                                                                                                                                                                                                                                                                                                                                                                                                                                                                                                                                                                                                                                                                                                                                                                                                                                                                                                                                                                                                                                                                                                                                                                                                                                                                                                                                                                                                                                                                                                                                                                                                                                                                                                                                                                                                                                                                                                                                                                                                                                                                                                                                                                                                                                                                                                                                                                                                                                                                                                                                                                                                                                                                                                                                                                                                                                                                                                                                                                                                                                                                                                                                                                                                                                                                 25\n",
      "new type treatment tested clinical trial summary section describ treatment studied clinical trial mention every new treatment studied information clinical trial available nci website radiosensitizers radiosensitizers drug make tumor cell sensitive radiation therapy combining radiation therapy radiosensitizers kill tumor cell patient want think taking part clinical trial patient taking part clinical trial best treatment choice clinical trial part research process clinical trial done find new treatment safe effective better standard treatment many today standard treatment based earlier clinical trial patient take part clinical trial receive standard treatment among first receive new treatment patient take part clinical trial help improve way treated future even clinical trial lead effective new treatment often answer important question help move research forward patient enter clinical trial starting treatment clinical trial patient yet received treatment trial test treatment patient whose gotten better clinical trial test new way stop recurring coming back reduce side effect treatment clinical trial taking place many part country see treatment option section follows link current treatment clinical trial retrieved nci listing clinical trial                                                                                                                                                                                                                                                                                                                                                                                                                                                                                                                                                                                                                                                                                                                                                                                                                                                                                                                                                                                                                                                                                                                                                                                                                                                                                                                                                                                                                                                                                                                                                                                                                                                                                                                                                                                                                                                                                                                                                                                                                                                                                                                                                                                                                                                                                                                                                                                                                                                                                                                                                                                                                                                                                                                                                                                                                                                                                                                                                                                                                                                                                                                                                                                                                                                                                                                                                                                                                                                                                                                                                                                                                                                                                                                                                                                                                                                                                                                                                                                                                                                                                                                                                                                                                                                                                                                                                                                                                                                                                                                                                                                                                                                                                                                                                                                                                                                                                                                                                                                                     2\n",
      "cause childhood brain tumor unknown                                                                                                                                                                                                                                                                                                                                                                                                                                                                                                                                                                                                                                                                                                                                                                                                                                                                                                                                                                                                                                                                                                                                                                                                                                                                                                                                                                                                                                                                                                                                                                                                                                                                                                                                                                                                                                                                                                                                                                                                                                                                                                                                                                                                                                                                                                                                                                                                                                                                                                                                                                                                                                                                                                                                                                                                                                                                                                                                                                                                                                                                                                                                                                                                                                                                                                                                                                                                                                                                                                                                                                                                                                                                                                                                                                                                                                                                                                                                                                                                                                                                                                                                                                                                                                                                                                                                                                                                                                                                                                                                                                                                                                                                                                                                                                                                                                                                                                                                                                                                                                                                                                                                                                                                                                                                                                                                                                                                                                                                                                                                                                                                                                                                                                                                                                                                                                                                                                                                                                                                                                                                                                                                                                                                                                                                           2\n",
      "avoiding risk factor increasing protective factor help prevent lung risk factor lung cigarette cigar pipe smoking secondhand smoke family history hiv infection environmental risk factor beta carotene supplement heavy smoker protective factor lung smoking quitting smoking lower exposure workplace risk factor lower exposure radon clear decrease risk lung diet physical activity decrease risk lung beta carotene supplement nonsmoker vitamin supplement prevention clinical trial used study way prevent new way prevent lung studied clinical trial avoiding risk factor increasing protective factor help prevent lung avoiding risk factor help prevent certain cancer risk factor smoking overweight getting enough exercise increasing protective factor quitting smoking exercising help prevent cancer talk health care professional might lower risk risk factor lung cigarette cigar pipe smoking tobacco smoking important risk factor lung cigarette cigar pipe smoking increase risk lung tobacco smoking cause case lung men case lung woman study shown smoking low tar low nicotine cigarette lower risk lung study show risk lung smoking cigarette increase number cigarette smoked per day number year smoked people smoke time risk lung compared smoke secondhand smoke exposed secondhand tobacco smoke risk factor lung secondhand smoke smoke come burning cigarette tobacco product exhaled smoker people inhale secondhand smoke exposed -causing agent smoker although smaller amount inhaling secondhand smoke called involuntary passive smoking family history family history lung risk factor lung people relative lung twice likely lung people relative lung cigarette smoking tends run family family member exposed secondhand smoke hard know whether increased risk lung family history lung exposed cigarette smoke hiv infection infected human immunodeficiency virus hiv cause acquired immunodeficiency syndrome aid linked higher risk lung people infected hiv twice risk lung infected since smoking rate higher infected hiv infected clear whether increased risk lung hiv infection exposed cigarette smoke environmental risk factor radiation exposure exposed radiation risk factor lung atomic bomb radiation radiation therapy imaging test radon source radiation exposure atomic bomb radiation exposed radiation atomic bomb explosion increase risk lung radiation therapy radiation therapy chest used treat certain cancer including breast hodgkin lymphoma radiation therapy us x-ray gamma ray type radiation increase risk lung higher dose radiation received higher risk risk lung radiation therapy higher patient smoke nonsmoker imaging test imaging test scan expose patient radiation low-dose spiral scan expose patient le radiation higher dose scan lung screening use low-dose spiral scan lessen harmful effect radiation radon radon radioactive gas come breakdown uranium rock soil seeps ground leak air water supply radon enter home crack floor wall foundation level radon build time study show high level radon gas inside home workplace increase number new case lung number death caused lung risk lung higher smoker exposed radon nonsmoker exposed people never smoked death caused lung linked exposed radon workplace exposure study show exposed substance increase risk lung asbestos arsenic chromium nickel beryllium cadmium tar soot substance cause lung people exposed workplace never smoked level exposure substance increase risk lung increase risk lung even higher people exposed smoke air pollution study show living area higher level air pollution increase risk lung beta carotene supplement heavy smoker taking beta carotene supplement pill increase risk lung especially smoker smoke one pack day risk higher smoker least one alcoholic drink every day protective factor lung smoking best way prevent lung smoke quitting smoking smoker decrease risk lung quitting smoker treated lung quitting smoking lower risk new lung cancer counseling use nicotine replacement product antidepressant therapy helped smoker quit good person quit smoking chance preventing lung depends many year much person smoked length time since quitting person quit smoking year risk lung decrease see information quitting smoking tobacco includ help quitting cigarette smoking health risk quit lower exposure workplace risk factor law protect worker exposed cancer-causing substance asbestos arsenic nickel chromium help lower risk developing lung law prevent smoking workplace help lower risk lung caused secondhand smoke lower exposure radon lowering radon level lower risk lung especially among cigarette smoker high level radon home reduced taking step prevent radon leakage sealing basement clear decrease risk lung diet study show people eat high amount fruit vegetable lower risk lung eat low amount however since smoker tend le healthy diet nonsmoker hard know whether decreased risk healthy diet smoking physical activity study show people physically active lower risk lung people however since smoker tend different level physical activity nonsmoker hard know physical activity affect risk lung decrease risk lung beta carotene supplement nonsmoker study nonsmoker show taking beta carotene supplement lower risk lung vitamin supplement study show taking vitamin supplement affect risk lung prevention clinical trial used study way prevent prevention clinical trial used study way lower risk developing certain type prevention trial conducted healthy people increased risk prevention trial conducted people trying prevent another type lower chance developing new type trial done healthy volunteer known risk factor purpose prevention clinical trial find whether action people take prevent eating fruit vegetable exercising quitting smoking taking certain medicine vitamin mineral food supplement new way prevent lung studied clinical trial clinical trial taking place many part country information clinical trial found clinical trial section nci website check list nci-supported clinical trial prevention trial non-small cell lung small cell lung accepting patient trial quitting smoking     2\n",
      "patient want think taking part clinical trial patient taking part clinical trial best treatment choice clinical trial part research process clinical trial done find new treatment safe effective better standard treatment many today standard treatment based earlier clinical trial patient take part clinical trial receive standard treatment among first receive new treatment patient take part clinical trial help improve way treated future even clinical trial lead effective new treatment often answer important question help move research forward patient enter clinical trial starting treatment clinical trial patient yet received treatment trial test treatment patient whose gotten better clinical trial test new way stop recurring coming back reduce side effect treatment clinical trial taking place many part country see treatment option section follows link current treatment clinical trial retrieved nci listing clinical trial                                                                                                                                                                                                                                                                                                                                                                                                                                                                                                                                                                                                                                                                                                                                                                                                                                                                                                                                                                                                                                                                                                                                                                                                                                                                                                                                                                                                                                                                                                                                                                                                                                                                                                                                                                                                                                                                                                                                                                                                                                                                                                                                                                                                                                                                                                                                                                                                                                                                                                                                                                                                                                                                                                                                                                                                                                                                                                                                                                                                                                                                                                                                                                                                                                                                                                                                                                                                                                                                                                                                                                                                                                                                                                                                                                                                                                                                                                                                                                                                                                                                                                                                                                                                                                                                                                                                                                                                                                                                                                                                                                                                                                                                                                                                                                                                                                                                                                                                                                                                                                                                                                                                                                                                                                                                                                                                            2\n",
      "Name: count, dtype: int64\n"
     ]
    }
   ],
   "source": [
    "#Checking the number of unique answers in the DataFrame\n",
    "print(f\"Number of unique answers: {cancer_df['answer'].nunique()}\")\n",
    "print(cancer_df['answer'].value_counts().head(5))\n"
   ]
  },
  {
   "cell_type": "code",
   "execution_count": 67,
   "metadata": {},
   "outputs": [
    {
     "data": {
      "text/html": [
       "<div>\n",
       "<style scoped>\n",
       "    .dataframe tbody tr th:only-of-type {\n",
       "        vertical-align: middle;\n",
       "    }\n",
       "\n",
       "    .dataframe tbody tr th {\n",
       "        vertical-align: top;\n",
       "    }\n",
       "\n",
       "    .dataframe thead th {\n",
       "        text-align: right;\n",
       "    }\n",
       "</style>\n",
       "<table border=\"1\" class=\"dataframe\">\n",
       "  <thead>\n",
       "    <tr style=\"text-align: right;\">\n",
       "      <th></th>\n",
       "      <th>question</th>\n",
       "      <th>answer</th>\n",
       "      <th>source</th>\n",
       "    </tr>\n",
       "  </thead>\n",
       "  <tbody>\n",
       "    <tr>\n",
       "      <th>0</th>\n",
       "      <td>adult acute lymphoblastic leukemia</td>\n",
       "      <td>adult acute lymphoblastic leukemia type bone m...</td>\n",
       "      <td>0000001_1</td>\n",
       "    </tr>\n",
       "    <tr>\n",
       "      <th>1</th>\n",
       "      <td>symptom adult acute lymphoblastic leukemia</td>\n",
       "      <td>sign symptom adult fever feeling tired easy br...</td>\n",
       "      <td>0000001_1</td>\n",
       "    </tr>\n",
       "    <tr>\n",
       "      <th>2</th>\n",
       "      <td>diagnose adult acute lymphoblastic leukemia</td>\n",
       "      <td>test examine blood bone marrow used detect fin...</td>\n",
       "      <td>0000001_1</td>\n",
       "    </tr>\n",
       "    <tr>\n",
       "      <th>3</th>\n",
       "      <td>outlook adult acute lymphoblastic leukemia</td>\n",
       "      <td>certain factor affect prognosis chance recover...</td>\n",
       "      <td>0000001_1</td>\n",
       "    </tr>\n",
       "    <tr>\n",
       "      <th>4</th>\n",
       "      <td>risk adult acute lymphoblastic leukemia</td>\n",
       "      <td>previous chemotherapy exposure radiation incre...</td>\n",
       "      <td>0000001_1</td>\n",
       "    </tr>\n",
       "    <tr>\n",
       "      <th>5</th>\n",
       "      <td>stage adult acute lymphoblastic leukemia</td>\n",
       "      <td>adult diagnosed test done find spread central ...</td>\n",
       "      <td>0000001_1</td>\n",
       "    </tr>\n",
       "    <tr>\n",
       "      <th>6</th>\n",
       "      <td>treatment adult acute lymphoblastic leukemia</td>\n",
       "      <td>different type treatment patient adult treatme...</td>\n",
       "      <td>0000001_1</td>\n",
       "    </tr>\n",
       "    <tr>\n",
       "      <th>7</th>\n",
       "      <td>adult acute myeloid leukemia</td>\n",
       "      <td>adult acute myeloid leukemia aml type bone mar...</td>\n",
       "      <td>0000001_2</td>\n",
       "    </tr>\n",
       "    <tr>\n",
       "      <th>8</th>\n",
       "      <td>risk adult acute myeloid leukemia</td>\n",
       "      <td>smoking previous chemotherapy treatment exposu...</td>\n",
       "      <td>0000001_2</td>\n",
       "    </tr>\n",
       "    <tr>\n",
       "      <th>9</th>\n",
       "      <td>symptom adult acute myeloid leukemia</td>\n",
       "      <td>sign symptom adult aml fever feeling tired eas...</td>\n",
       "      <td>0000001_2</td>\n",
       "    </tr>\n",
       "  </tbody>\n",
       "</table>\n",
       "</div>"
      ],
      "text/plain": [
       "                                       question  \\\n",
       "0            adult acute lymphoblastic leukemia   \n",
       "1    symptom adult acute lymphoblastic leukemia   \n",
       "2   diagnose adult acute lymphoblastic leukemia   \n",
       "3    outlook adult acute lymphoblastic leukemia   \n",
       "4       risk adult acute lymphoblastic leukemia   \n",
       "5      stage adult acute lymphoblastic leukemia   \n",
       "6  treatment adult acute lymphoblastic leukemia   \n",
       "7                  adult acute myeloid leukemia   \n",
       "8             risk adult acute myeloid leukemia   \n",
       "9          symptom adult acute myeloid leukemia   \n",
       "\n",
       "                                              answer     source  \n",
       "0  adult acute lymphoblastic leukemia type bone m...  0000001_1  \n",
       "1  sign symptom adult fever feeling tired easy br...  0000001_1  \n",
       "2  test examine blood bone marrow used detect fin...  0000001_1  \n",
       "3  certain factor affect prognosis chance recover...  0000001_1  \n",
       "4  previous chemotherapy exposure radiation incre...  0000001_1  \n",
       "5  adult diagnosed test done find spread central ...  0000001_1  \n",
       "6  different type treatment patient adult treatme...  0000001_1  \n",
       "7  adult acute myeloid leukemia aml type bone mar...  0000001_2  \n",
       "8  smoking previous chemotherapy treatment exposu...  0000001_2  \n",
       "9  sign symptom adult aml fever feeling tired eas...  0000001_2  "
      ]
     },
     "execution_count": 67,
     "metadata": {},
     "output_type": "execute_result"
    }
   ],
   "source": [
    "#Displaying the first 10 rows of the DataFrame\n",
    "cancer_df.head(10)"
   ]
  },
  {
   "cell_type": "markdown",
   "metadata": {},
   "source": [
    "### HYBRID SEARCH SYSTEM"
   ]
  },
  {
   "cell_type": "code",
   "execution_count": 68,
   "metadata": {},
   "outputs": [],
   "source": [
    "# Initialize models\n",
    "tfidf_vectorizer = TfidfVectorizer(preprocessor=clean_text, stop_words=list(MEDICAL_STOPWORDS))\n",
    "X_tfidf = tfidf_vectorizer.fit_transform(cancer_df['question'])"
   ]
  },
  {
   "cell_type": "code",
   "execution_count": 69,
   "metadata": {},
   "outputs": [],
   "source": [
    "from sentence_transformers import SentenceTransformer\n",
    "\n",
    "# Biomedical embedding model\n",
    "model = SentenceTransformer(\"pritamdeka/BioBERT-mnli-snli-scinli-scitail-mednli-stsb\")\n",
    "question_embeddings = model.encode(cancer_df['question'].tolist())"
   ]
  },
  {
   "cell_type": "code",
   "execution_count": 70,
   "metadata": {},
   "outputs": [
    {
     "data": {
      "image/png": "[encoded data removed]",
      "text/plain": [
       "<Figure size 600x500 with 1 Axes>"
      ]
     },
     "metadata": {},
     "output_type": "display_data"
    }
   ],
   "source": [
    "# 2D Visualization of Sentence Embeddings\n",
    "from sklearn.manifold import TSNE\n",
    "import matplotlib.pyplot as plt\n",
    "\n",
    "tsne = TSNE(n_components=2, random_state=42)\n",
    "embeddings_2d = tsne.fit_transform(question_embeddings)\n",
    "\n",
    "plt.figure(figsize= (6,5))\n",
    "plt.scatter(embeddings_2d[:, 0], embeddings_2d[:, 1], alpha=0.6)\n",
    "plt.title(\"2D Visualization of BioBERT Question Embeddings\")\n",
    "plt.xlabel(\"Component 1\")\n",
    "plt.ylabel(\"Component 2\")\n",
    "plt.grid(True)\n",
    "plt.show()"
   ]
  },
  {
   "cell_type": "markdown",
   "metadata": {},
   "source": [
    "The scatter plot above displays a **2D t-SNE projection** of semantic embeddings generated by the BioBERT-based SentenceTransformer model for each cancer-related question in the dataset.\n",
    "#### Key Observations:\n",
    "- Several **tight clusters** can be seen, suggesting that BioBERT effectively groups similar medical questions like those about:\n",
    "  - Symptoms and diagnosis\n",
    "  - Cancer types\n",
    "  - Treatment and medications\n",
    "  - Survival and prognosis\n",
    "- **Scattered points** may indicate outliers or uniquely phrased questions that do not fit well into larger semantic groups."
   ]
  },
  {
   "cell_type": "code",
   "execution_count": 71,
   "metadata": {},
   "outputs": [],
   "source": [
    "def hybrid_search(query, n=3, tfidf_weight=0.4, semantic_weight=0.6, threshold=0.5, disease_filter=None):\n",
    "    \"\"\"Enhanced hybrid search with disease filtering\"\"\"\n",
    "    # Process query\n",
    "    clean_query = clean_text(query)\n",
    "    \n",
    "    # TF-IDF similarity\n",
    "    tfidf_vec = tfidf_vectorizer.transform([clean_query])\n",
    "    tfidf_sim = cosine_similarity(tfidf_vec, X_tfidf).flatten()\n",
    "    \n",
    "    # Semantic similarity\n",
    "    semantic_vec = model.encode([query])\n",
    "    semantic_sim = cosine_similarity(semantic_vec, question_embeddings).flatten()\n",
    "    \n",
    "    # Combined score\n",
    "    combined_sim = (tfidf_weight * tfidf_sim) + (semantic_weight * semantic_sim)\n",
    "    \n",
    "    # Get top results\n",
    "    top_indices = np.argsort(combined_sim)[-n*3:][::-1]  # Get extra results for filtering\n",
    "    top_matches = []\n",
    "    for idx in top_indices:\n",
    "        if combined_sim[idx] > threshold:\n",
    "            match = {\n",
    "                'question': cancer_df.iloc[idx]['question'],\n",
    "                'answer': cancer_df.iloc[idx]['answer'],\n",
    "                'similarity': float(combined_sim[idx]),\n",
    "                'type': 'TF-IDF' if tfidf_sim[idx] > semantic_sim[idx] else 'Semantic'\n",
    "            }\n",
    "            \n",
    "            # Apply disease filter if provided\n",
    "            if not disease_filter or disease_filter.lower() in match['question'].lower():\n",
    "                top_matches.append(match)\n",
    "                \n",
    "            if len(top_matches) >= n:  # Stop when we have enough filtered results\n",
    "                break\n",
    "    if not top_matches:\n",
    "        return [{'answer': \"I couldn't find a confident match. Please consult a doctor or rephrase your question.\",\n",
    "                'similarity': 0.0}]\n",
    "    \n",
    "    return top_matches[:n]  # Return exactly n results"
   ]
  },
  {
   "cell_type": "markdown",
   "metadata": {},
   "source": [
    "## MODEL EVALUATION"
   ]
  },
  {
   "cell_type": "code",
   "execution_count": 72,
   "metadata": {},
   "outputs": [
    {
     "name": "stdout",
     "output_type": "stream",
     "text": [
      "================================================================================\n",
      "MEDICAL CHATBOT EVALUATION REPORT\n",
      "================================================================================\n",
      "\n",
      "TEST CASE: prostate cancer symptoms\n",
      "DISEASE FILTER: prostate\n",
      "SIMILARITY THRESHOLD: 0.50\n",
      "------------------------------------------------------------\n",
      "EXPECTED KEYWORDS: urinary, urination, flow, frequent, weak stream\n",
      "FOUND KEYWORDS: flow, frequent, urination, urinary\n",
      "TOP MATCH SIMILARITY: 0.89\n",
      "BEST MATCH QUESTION: symptom prostate\n",
      "BEST MATCH ANSWER: sign prostate weak flow urine frequent urination sign symptom caused prostate condition check weak interrupted stop-and-go flow urine sudden urge urin...\n",
      "RESULT: PASS\n",
      "\n",
      "TEST CASE: breast cancer treatment options\n",
      "DISEASE FILTER: breast\n",
      "SIMILARITY THRESHOLD: 0.45\n",
      "------------------------------------------------------------\n",
      "EXPECTED KEYWORDS: surgery, radiation, chemotherapy, mastectomy, lumpectomy\n",
      "FOUND KEYWORDS: radiation, lumpectomy, mastectomy, surgery, chemotherapy\n",
      "TOP MATCH SIMILARITY: 0.84\n",
      "BEST MATCH QUESTION: treatment breast\n",
      "BEST MATCH ANSWER: different type treatment patient breast five type standard treatment used surgery radiation therapy chemotherapy hormone therapy targeted therapy new ...\n",
      "RESULT: PASS\n",
      "\n",
      "TEST CASE: leukemia causes\n",
      "DISEASE FILTER: leukemia\n",
      "SIMILARITY THRESHOLD: 0.40\n",
      "------------------------------------------------------------\n",
      "EXPECTED KEYWORDS: genetic, mutation, radiation, chemical, chromosome\n",
      "FOUND KEYWORDS: chromosome, genetic\n",
      "TOP MATCH SIMILARITY: 0.51\n",
      "BEST MATCH QUESTION: childhood acute lymphoblastic leukemia\n",
      "BEST MATCH ANSWER: childhood acute lymphoblastic leukemia type bone marrow make many immature lymphocyte type white blood cell leukemia affect red blood cell white blood...\n",
      "RESULT: PASS\n",
      "\n",
      "================================================================================\n",
      "SUMMARY\n",
      "================================================================================\n",
      "TOTAL TESTS: 3\n",
      "PASSED: 3\n",
      "FAILED: 0\n",
      "ACCURACY: 100.00%\n",
      "================================================================================\n",
      "\n",
      "FAILED CASE DETAILS:\n"
     ]
    }
   ],
   "source": [
    "# Enhanced validation set with disease-specific testing\n",
    "validation_data = [\n",
    "    {\n",
    "        \"query\": \"prostate cancer symptoms\", \n",
    "        \"expected\": [\"urinary\", \"urination\", \"flow\", \"frequent\", \"weak stream\"],\n",
    "        \"disease\": \"prostate\",\n",
    "        \"min_similarity\": 0.5\n",
    "    },\n",
    "    {\n",
    "        \"query\": \"breast cancer treatment options\", \n",
    "        \"expected\": [\"surgery\", \"radiation\", \"chemotherapy\", \"mastectomy\", \"lumpectomy\"],\n",
    "        \"disease\": \"breast\",\n",
    "        \"min_similarity\": 0.45\n",
    "    },\n",
    "    {\n",
    "        \"query\": \"leukemia causes\", \n",
    "        \"expected\": [\"genetic\", \"mutation\", \"radiation\", \"chemical\", \"chromosome\"],\n",
    "        \"disease\": \"leukemia\",\n",
    "        \"min_similarity\": 0.4\n",
    "    }\n",
    "]\n",
    "def evaluate_model(validation_set, n=3):\n",
    "    total = len(validation_set)\n",
    "    correct = 0\n",
    "    detailed_results = []\n",
    "    \n",
    "    print(\"=\"*80)\n",
    "    print(\"MEDICAL CHATBOT EVALUATION REPORT\")\n",
    "    print(\"=\"*80)\n",
    "    \n",
    "    for test in validation_set:\n",
    "        # Perform hybrid search with disease filtering\n",
    "        results = hybrid_search(\n",
    "            test[\"query\"],\n",
    "            n=n,\n",
    "            disease_filter=test.get(\"disease\"),\n",
    "            threshold=test.get(\"min_similarity\", 0.4)\n",
    "        )\n",
    "        \n",
    "        # Analyze matches\n",
    "        found_keywords = set()\n",
    "        best_match = None\n",
    "        best_score = 0\n",
    "        \n",
    "        for res in results:\n",
    "            answer = res['answer'].lower()\n",
    "            for keyword in test[\"expected\"]:\n",
    "                if keyword.lower() in answer:\n",
    "                    found_keywords.add(keyword)\n",
    "            \n",
    "            if res['similarity'] > best_score:\n",
    "                best_match = res\n",
    "                best_score = res['similarity']\n",
    "        \n",
    "        # Determine if test passed\n",
    "        passed_test = len(found_keywords) > 0\n",
    "        if passed_test:\n",
    "            correct += 1\n",
    "        \n",
    "        # Store detailed results\n",
    "        detailed_results.append({\n",
    "            \"query\": test[\"query\"],\n",
    "            \"passed\": passed_test,\n",
    "            \"found_keywords\": list(found_keywords),\n",
    "            \"best_match\": best_match,\n",
    "            \"expected_keywords\": test[\"expected\"]\n",
    "        })\n",
    "        # Print test case results\n",
    "        print(f\"\\nTEST CASE: {test['query']}\")\n",
    "        print(f\"DISEASE FILTER: {test.get('disease', 'None')}\")\n",
    "        print(f\"SIMILARITY THRESHOLD: {test.get('min_similarity', 0.4):.2f}\")\n",
    "        print(\"-\"*60)\n",
    "        print(f\"EXPECTED KEYWORDS: {', '.join(test['expected'])}\")\n",
    "        print(f\"FOUND KEYWORDS: {', '.join(found_keywords) if found_keywords else 'None'}\")\n",
    "        print(f\"TOP MATCH SIMILARITY: {best_score:.2f}\" if best_match else \"No matches\")\n",
    "        if best_match:\n",
    "            print(f\"BEST MATCH QUESTION: {best_match['question']}\")\n",
    "            print(f\"BEST MATCH ANSWER: {best_match['answer'][:150]}...\")\n",
    "        print(f\"RESULT: {'PASS' if passed_test else 'FAIL'}\")\n",
    "\n",
    "       # Print summary\n",
    "    print(\"\\n\" + \"=\"*80)\n",
    "    print(\"SUMMARY\")\n",
    "    print(\"=\"*80)\n",
    "    print(f\"TOTAL TESTS: {total}\")\n",
    "    print(f\"PASSED: {correct}\")\n",
    "    print(f\"FAILED: {total - correct}\")\n",
    "    print(f\"ACCURACY: {correct/total:.2%}\")\n",
    "    print(\"=\"*80)\n",
    "    \n",
    "    return detailed_results\n",
    "\n",
    "# Run the evaluation\n",
    "evaluation_results = evaluate_model(validation_data)\n",
    "\n",
    "# Optional: Display failed cases in detail\n",
    "print(\"\\nFAILED CASE DETAILS:\")\n",
    "for result in evaluation_results:\n",
    "    if not result[\"passed\"]:\n",
    "        print(f\"\\nQuery: {result['query']}\")\n",
    "        print(f\"Expected Keywords: {result['expected_keywords']}\")\n",
    "        if result['best_match']:\n",
    "            print(f\"Closest Match: {result['best_match']['question']}\")\n",
    "            print(f\"Match Answer: {result['best_match']['answer'][:200]}...\")\n",
    "        else:\n",
    "            print(\"No matches found\")    "
   ]
  },
  {
   "cell_type": "code",
   "execution_count": 73,
   "metadata": {},
   "outputs": [
    {
     "name": "stdout",
     "output_type": "stream",
     "text": [
      "Top-3 Accuracy: 100.00%\n"
     ]
    }
   ],
   "source": [
    "# Evaluating the model's accuracy on a validation set\n",
    "\n",
    "correct = 0\n",
    "total = len(validation_data)\n",
    "k = 3  # Top-k\n",
    "\n",
    "for item in validation_data:\n",
    "    query = item[\"query\"]\n",
    "    expected_keywords = item[\"expected\"]\n",
    "\n",
    "    top_results = hybrid_search(query, n=k, threshold=0.0)\n",
    "\n",
    "    found = any(\n",
    "        any(keyword.lower() in result[\"answer\"].lower() for keyword in expected_keywords)\n",
    "        for result in top_results\n",
    "    )\n",
    "\n",
    "    if found:\n",
    "        correct += 1\n",
    "\n",
    "accuracy = correct / total\n",
    "print(f\"Top-{k} Accuracy: {accuracy:.2%}\")"
   ]
  },
  {
   "cell_type": "code",
   "execution_count": 74,
   "metadata": {},
   "outputs": [],
   "source": [
    "# Function to get a response based on user input with a similarity threshold\n",
    "from difflib import SequenceMatcher\n",
    "\n",
    "def get_response(user_input, threshold=0.7):\n",
    "    processed_input = clean_text(user_input)\n",
    "    for index, row in cancer_df.iterrows():\n",
    "        question = clean_text(row['question'])\n",
    "        similarity = SequenceMatcher(None, processed_input, question).ratio()\n",
    "        if similarity >= threshold:\n",
    "            return row['answer']\n",
    "    return \"I'm sorry, I don't have information on that. Please consult a doctor.\""
   ]
  },
  {
   "cell_type": "code",
   "execution_count": 75,
   "metadata": {},
   "outputs": [
    {
     "name": "stdout",
     "output_type": "stream",
     "text": [
      "I couldn't find a confident match. Please consult a doctor or rephrase your question.\n"
     ]
    }
   ],
   "source": [
    "for item in hybrid_search(\"Signs of throat cancer?\"):\n",
    "    print(item[\"answer\"])\n"
   ]
  },
  {
   "cell_type": "markdown",
   "metadata": {},
   "source": [
    "### USER INTERFACE"
   ]
  },
  {
   "cell_type": "code",
   "execution_count": null,
   "metadata": {},
   "outputs": [
    {
     "name": "stdout",
     "output_type": "stream",
     "text": [
      "* Running on local URL:  http://127.0.0.1:7861\n",
      "* To create a public link, set `share=True` in `launch()`.\n"
     ]
    },
    {
     "data": {
      "text/html": [
       "<div><iframe src=\"http://127.0.0.1:7861/\" width=\"100%\" height=\"500\" allow=\"autoplay; camera; microphone; clipboard-read; clipboard-write;\" frameborder=\"0\" allowfullscreen></iframe></div>"
      ],
      "text/plain": [
       "<IPython.core.display.HTML object>"
      ]
     },
     "metadata": {},
     "output_type": "display_data"
    },
    {
     "data": {
      "text/plain": []
     },
     "execution_count": 76,
     "metadata": {},
     "output_type": "execute_result"
    },
    {
     "name": "stderr",
     "output_type": "stream",
     "text": [
      "Traceback (most recent call last):\n",
      "  File \"c:\\Users\\User\\anaconda3\\Lib\\site-packages\\gradio\\queueing.py\", line 626, in process_events\n",
      "    response = await route_utils.call_process_api(\n",
      "               ^^^^^^^^^^^^^^^^^^^^^^^^^^^^^^^^^^^\n",
      "  File \"c:\\Users\\User\\anaconda3\\Lib\\site-packages\\gradio\\route_utils.py\", line 322, in call_process_api\n",
      "    output = await app.get_blocks().process_api(\n",
      "             ^^^^^^^^^^^^^^^^^^^^^^^^^^^^^^^^^^^\n",
      "  File \"c:\\Users\\User\\anaconda3\\Lib\\site-packages\\gradio\\blocks.py\", line 2229, in process_api\n",
      "    result = await self.call_function(\n",
      "             ^^^^^^^^^^^^^^^^^^^^^^^^^\n",
      "  File \"c:\\Users\\User\\anaconda3\\Lib\\site-packages\\gradio\\blocks.py\", line 1740, in call_function\n",
      "    prediction = await anyio.to_thread.run_sync(  # type: ignore\n",
      "                 ^^^^^^^^^^^^^^^^^^^^^^^^^^^^^^^^^^^^^^^^^^^^^^^\n",
      "  File \"c:\\Users\\User\\anaconda3\\Lib\\site-packages\\anyio\\to_thread.py\", line 56, in run_sync\n",
      "    return await get_async_backend().run_sync_in_worker_thread(\n",
      "           ^^^^^^^^^^^^^^^^^^^^^^^^^^^^^^^^^^^^^^^^^^^^^^^^^^^^\n",
      "  File \"c:\\Users\\User\\anaconda3\\Lib\\site-packages\\anyio\\_backends\\_asyncio.py\", line 2134, in run_sync_in_worker_thread\n",
      "    return await future\n",
      "           ^^^^^^^^^^^^\n",
      "  File \"c:\\Users\\User\\anaconda3\\Lib\\site-packages\\anyio\\_backends\\_asyncio.py\", line 851, in run\n",
      "    result = context.run(func, *args)\n",
      "             ^^^^^^^^^^^^^^^^^^^^^^^^\n",
      "  File \"c:\\Users\\User\\anaconda3\\Lib\\site-packages\\gradio\\utils.py\", line 940, in wrapper\n",
      "    response = f(*args, **kwargs)\n",
      "               ^^^^^^^^^^^^^^^^^^\n",
      "  File \"C:\\Users\\User\\AppData\\Local\\Temp\\ipykernel_11684\\885079107.py\", line 6, in chatbot\n",
      "    if top_result[\"question\"] is None:\n",
      "       ~~~~~~~~~~^^^^^^^^^^^^\n",
      "KeyError: 'question'\n",
      "Traceback (most recent call last):\n",
      "  File \"c:\\Users\\User\\anaconda3\\Lib\\site-packages\\gradio\\queueing.py\", line 626, in process_events\n",
      "    response = await route_utils.call_process_api(\n",
      "               ^^^^^^^^^^^^^^^^^^^^^^^^^^^^^^^^^^^\n",
      "  File \"c:\\Users\\User\\anaconda3\\Lib\\site-packages\\gradio\\route_utils.py\", line 322, in call_process_api\n",
      "    output = await app.get_blocks().process_api(\n",
      "             ^^^^^^^^^^^^^^^^^^^^^^^^^^^^^^^^^^^\n",
      "  File \"c:\\Users\\User\\anaconda3\\Lib\\site-packages\\gradio\\blocks.py\", line 2229, in process_api\n",
      "    result = await self.call_function(\n",
      "             ^^^^^^^^^^^^^^^^^^^^^^^^^\n",
      "  File \"c:\\Users\\User\\anaconda3\\Lib\\site-packages\\gradio\\blocks.py\", line 1740, in call_function\n",
      "    prediction = await anyio.to_thread.run_sync(  # type: ignore\n",
      "                 ^^^^^^^^^^^^^^^^^^^^^^^^^^^^^^^^^^^^^^^^^^^^^^^\n",
      "  File \"c:\\Users\\User\\anaconda3\\Lib\\site-packages\\anyio\\to_thread.py\", line 56, in run_sync\n",
      "    return await get_async_backend().run_sync_in_worker_thread(\n",
      "           ^^^^^^^^^^^^^^^^^^^^^^^^^^^^^^^^^^^^^^^^^^^^^^^^^^^^\n",
      "  File \"c:\\Users\\User\\anaconda3\\Lib\\site-packages\\anyio\\_backends\\_asyncio.py\", line 2134, in run_sync_in_worker_thread\n",
      "    return await future\n",
      "           ^^^^^^^^^^^^\n",
      "  File \"c:\\Users\\User\\anaconda3\\Lib\\site-packages\\anyio\\_backends\\_asyncio.py\", line 851, in run\n",
      "    result = context.run(func, *args)\n",
      "             ^^^^^^^^^^^^^^^^^^^^^^^^\n",
      "  File \"c:\\Users\\User\\anaconda3\\Lib\\site-packages\\gradio\\utils.py\", line 940, in wrapper\n",
      "    response = f(*args, **kwargs)\n",
      "               ^^^^^^^^^^^^^^^^^^\n",
      "  File \"C:\\Users\\User\\AppData\\Local\\Temp\\ipykernel_11684\\885079107.py\", line 6, in chatbot\n",
      "    if top_result[\"question\"] is None:\n",
      "       ~~~~~~~~~~^^^^^^^^^^^^\n",
      "KeyError: 'question'\n"
     ]
    }
   ],
   "source": [
    "import gradio as gr\n",
    "\n",
    "def chatbot(query):\n",
    "    results = hybrid_search(query)\n",
    "    top_result = results[0]\n",
    "    if top_result[\"question\"] is None:\n",
    "        return top_result[\"answer\"]\n",
    "    return f\"*Question: {top_result['question']}\\nAnswer: {top_result['answer']}\\nSimilarity*: {top_result['similarity']:.2f}\"\n",
    "\n",
    "interface = gr.Interface(\n",
    "    fn=chatbot,\n",
    "    inputs=gr.Textbox(label=\"Enter your question about cancer\"),\n",
    "    outputs=gr.Textbox(label=\"Answer\"),\n",
    "    title=\"Cancer QA Chatbot\",\n",
    "    description=\"Ask questions about cancer symptoms, treatments, or risk factors.\"\n",
    ")\n",
    "interface.launch()"
   ]
  }
 ],
 "metadata": {
  "kernelspec": {
   "display_name": "base",
   "language": "python",
   "name": "python3"
  },
  "language_info": {
   "codemirror_mode": {
    "name": "ipython",
    "version": 3
   },
   "file_extension": ".py",
   "mimetype": "text/x-python",
   "name": "python",
   "nbconvert_exporter": "python",
   "pygments_lexer": "ipython3",
   "version": "3.12.11"
  }
 },
 "nbformat": 4,
 "nbformat_minor": 2
}
