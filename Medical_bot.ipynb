{
 "cells": [
  {
   "cell_type": "markdown",
   "metadata": {},
   "source": [
    "## DATA UNDERSTANDING"
   ]
  },
  {
   "cell_type": "code",
   "execution_count": 25,
   "metadata": {},
   "outputs": [],
   "source": [
    "import pandas as pd\n",
    "import nltk\n",
    "import re\n",
    "from nltk.corpus import stopwords\n",
    "from nltk.tokenize import word_tokenize\n",
    "from nltk.stem import WordNetLemmatizer\n",
    "from sklearn.feature_extraction.text import TfidfVectorizer\n",
    "from sklearn.metrics.pairwise import cosine_similarity\n",
    "import numpy as np\n",
    "import warnings\n",
    "import xml.etree.ElementTree as ET\n",
    "warnings.filterwarnings('ignore')\n",
    "import os\n"
   ]
  },
  {
   "cell_type": "code",
   "execution_count": 26,
   "metadata": {},
   "outputs": [
    {
     "data": {
      "text/plain": [
       "\"\\n#Cell already run\\nnltk.download('punkt')\\nnltk.download('stopwords')\\nnltk.download('wordnet')\\n\""
      ]
     },
     "execution_count": 26,
     "metadata": {},
     "output_type": "execute_result"
    }
   ],
   "source": [
    "\"\"\"\n",
    "#Cell already run\n",
    "nltk.download('punkt')\n",
    "nltk.download('stopwords')\n",
    "nltk.download('wordnet')\n",
    "\"\"\""
   ]
  },
  {
   "cell_type": "code",
   "execution_count": 27,
   "metadata": {},
   "outputs": [],
   "source": [
    "class CancerQALoader:\n",
    "    def __init__(self, filepath):\n",
    "        self.filepath = filepath\n",
    "        self.questions = []\n",
    "        self.answers = []\n",
    "        self.root = None\n",
    "        self.source = os.path.splitext(os.path.basename(filepath))[0] \n",
    "\n",
    "    def parse_xml(self):\n",
    "        try:\n",
    "            tree = ET.parse(self.filepath)\n",
    "            self.root = tree.getroot()\n",
    "        except ET.ParseError as e:\n",
    "            print(f\"Error parsing XML in {self.filepath}: {e}\")\n",
    "        except FileNotFoundError:\n",
    "            print(f\"File not found: {self.filepath}\")\n",
    "\n",
    "    def extract_qa_pairs(self):\n",
    "        if self.root is None:\n",
    "            return\n",
    "\n",
    "        for qa_pair in self.root.findall('.//QAPair'):\n",
    "            question = qa_pair.find('Question').text\n",
    "            answer = qa_pair.find('Answer').text\n",
    "            if question and answer:\n",
    "                self.questions.append(question)\n",
    "                self.answers.append(answer)\n",
    "\n",
    "    def get_dataframe(self):\n",
    "        return pd.DataFrame({\n",
    "            'question': self.questions,\n",
    "            'answer': self.answers,\n",
    "            'source': [self.source] * len(self.questions)  # Add source to each row\n",
    "        })\n",
    "\n",
    "    def load_all_qa_from_folder(folder_path):\n",
    "        all_dfs = []\n",
    "\n",
    "        for filename in os.listdir(folder_path):\n",
    "            if filename.endswith(\".xml\"):\n",
    "                full_path = os.path.join(folder_path, filename)\n",
    "                loader = CancerQALoader(full_path)\n",
    "                loader.parse_xml()\n",
    "                loader.extract_qa_pairs()\n",
    "                df = loader.get_dataframe()\n",
    "                all_dfs.append(df)\n",
    "\n",
    "        return pd.concat(all_dfs, ignore_index=True)"
   ]
  },
  {
   "cell_type": "code",
   "execution_count": 28,
   "metadata": {},
   "outputs": [],
   "source": [
    "folder = \"1_CancerGov_QA\"\n",
    "cancer_df = CancerQALoader.load_all_qa_from_folder(folder)"
   ]
  },
  {
   "cell_type": "code",
   "execution_count": 29,
   "metadata": {},
   "outputs": [
    {
     "name": "stdout",
     "output_type": "stream",
     "text": [
      "Reading 116 files\n"
     ]
    }
   ],
   "source": [
    "print(f\"Reading {cancer_df['source'].nunique()} files\")"
   ]
  },
  {
   "cell_type": "code",
   "execution_count": 30,
   "metadata": {},
   "outputs": [
    {
     "data": {
      "application/vnd.microsoft.datawrangler.viewer.v0+json": {
       "columns": [
        {
         "name": "index",
         "rawType": "int64",
         "type": "integer"
        },
        {
         "name": "question",
         "rawType": "object",
         "type": "string"
        },
        {
         "name": "answer",
         "rawType": "object",
         "type": "string"
        },
        {
         "name": "source",
         "rawType": "object",
         "type": "string"
        }
       ],
       "ref": "18cefe95-c544-475e-913c-19c0849ccf52",
       "rows": [
        [
         "0",
         "What is (are) Adult Acute Lymphoblastic Leukemia ?",
         "Key Points\n                    - Adult acute lymphoblastic leukemia (ALL) is a type of cancer in which the bone marrow makes too many lymphocytes (a type of white blood cell).    - Leukemia may affect red blood cells, white blood cells, and platelets.    - Previous chemotherapy and exposure to radiation may increase the risk of developing ALL.    - Signs and symptoms of adult ALL include fever, feeling tired, and easy bruising or bleeding.     - Tests that examine the blood and bone marrow are used to detect (find) and diagnose adult ALL.    - Certain factors affect prognosis (chance of recovery) and treatment options.\n                \n                \n                    Adult acute lymphoblastic leukemia (ALL) is a type of cancer in which the bone marrow makes too many lymphocytes (a type of white blood cell).\n                    Adult acute lymphoblastic leukemia (ALL; also called acute lymphocytic leukemia) is a cancer of the blood and bone marrow. This type of cancer usually gets worse quickly if it is not treated.\n                \n                \n                    Leukemia may affect red blood cells, white blood cells, and platelets.\n                    Normally, the bone marrow makes blood stem cells (immature cells) that become mature blood cells over time. A blood stem cell may become a myeloid stem cell or a lymphoid stem cell.   A myeloid stem cell becomes one of three types of mature blood cells:          -  Red blood cells that carry oxygen and other substances to all tissues of the body.    -  Platelets that form blood clots to stop bleeding.    -  Granulocytes (white blood cells) that fight infection and disease.         A lymphoid stem cell becomes a lymphoblast cell and then one of three types of lymphocytes (white blood cells):         -  B lymphocytes that make antibodies to help fight infection.    -  T lymphocytes that help B lymphocytes make the antibodies that help fight infection.    -  Natural killer cells that attack cancer cells and viruses.         In ALL, too many stem cells become lymphoblasts, B lymphocytes, or T lymphocytes. These cells are also called leukemia cells. These leukemia cells are not able to fight infection very well. Also, as the number of leukemia cells increases in the blood and bone marrow, there is less room for healthy white blood cells, red blood cells, and platelets. This may cause infection, anemia, and easy bleeding. The cancer can also spread to the central nervous system (brain and spinal cord).     This summary is about adult acute lymphoblastic leukemia. See the following PDQ summaries for information about other types of leukemia:          -  Childhood Acute Lymphoblastic Leukemia Treatment.    -  Adult Acute Myeloid Leukemia Treatment.    -  Childhood Acute Myeloid Leukemia/Other Myeloid Malignancies Treatment.    -  Chronic Lymphocytic Leukemia Treatment.    -  Chronic Myelogenous Leukemia Treatment.    -  Hairy Cell Leukemia Treatment.",
         "0000001_1"
        ],
        [
         "1",
         "What are the symptoms of Adult Acute Lymphoblastic Leukemia ?",
         "Signs and symptoms of adult ALL include fever, feeling tired, and easy bruising or bleeding. The early signs and symptoms of ALL may be like the flu or other common diseases. Check with your doctor if you have any of the following:         - Weakness or feeling tired.    -  Fever or night sweats.    - Easy bruising or bleeding.    -  Petechiae (flat, pinpoint spots under the skin, caused by bleeding).    - Shortness of breath.    - Weight loss or loss of appetite.    - Pain in the bones or stomach.    - Pain or feeling of fullness below the ribs.    - Painless lumps in the neck, underarm, stomach, or groin.    - Having many infections.        These and other signs and symptoms may be caused by adult acute lymphoblastic leukemia or by other conditions.",
         "0000001_1"
        ],
        [
         "2",
         "How to diagnose Adult Acute Lymphoblastic Leukemia ?",
         "Tests that examine the blood and bone marrow are used to detect (find) and diagnose adult ALL. The following tests and procedures may be used:          -   Physical exam and history : An exam of the body to check general signs of health, including checking for signs of disease, such as infection or anything else that seems unusual. A history of the patient's health habits and past illnesses and treatments will also be taken.    -   Complete blood count (CBC) with differential : A procedure in which a sample of blood is drawn and checked for the following:                -  The number of red blood cells and platelets.      - The number and type of white blood cells.      - The amount of hemoglobin (the protein that carries oxygen) in the red blood cells.      - The portion of the blood sample made up of red blood cells.              -   Blood chemistry studies : A procedure in which a blood sample is checked to measure the amounts of certain substances released into the blood by organs and tissues in the body. An unusual (higher or lower than normal) amount of a substance can be a sign of disease.    -   Peripheral blood smear : A procedure in which a sample of blood is checked for blast cells, the number and kinds of white blood cells, the number of platelets, and changes in the shape of blood cells.    -   Bone marrow aspiration and biopsy : The removal of bone marrow, blood, and a small piece of bone by inserting a hollow needle into the hipbone or breastbone. A pathologist views the bone marrow, blood, and bone under a microscope to look for abnormal cells. The following tests may be done on the samples of blood or bone marrow tissue that are removed:               -  Cytogenetic analysis:  A laboratory test in which the cells in a sample of blood or bone marrow are looked at under a microscope to find out if there are certain changes in the chromosomes of lymphocytes. For example, in Philadelphia chromosome positive ALL, part of one chromosome switches places with part of another chromosome. This is called the Philadelphia chromosome.       -  Immunophenotyping : A process used to identify cells, based on the types of antigens or markers on the surface of the cell. This process is used to diagnose the subtype of ALL by comparing the cancer cells to normal cells of the immune system. For example, a cytochemistry study may test the cells in a sample of tissue using chemicals (dyes) to look for certain changes in the sample. A chemical may cause a color change in one type of leukemia cell but not in another type of leukemia cell.",
         "0000001_1"
        ],
        [
         "3",
         "What is the outlook for Adult Acute Lymphoblastic Leukemia ?",
         "Certain factors affect prognosis (chance of recovery) and treatment options. The prognosis (chance of recovery) and treatment options depend on the following:         - The age of the patient.    - Whether the cancer has spread to the brain or spinal cord.    - Whether there are certain changes in the genes, including the Philadelphia chromosome.    - Whether the cancer has been treated before or has recurred (come back).",
         "0000001_1"
        ],
        [
         "4",
         "Who is at risk for Adult Acute Lymphoblastic Leukemia? ?",
         "Previous chemotherapy and exposure to radiation may increase the risk of developing ALL. Anything that increases your risk of getting a disease is called a risk factor. Having a risk factor does not mean that you will get cancer; not having risk factors doesnt mean that you will not get cancer. Talk with your doctor if you think you may be at risk. Possible risk factors for ALL include the following:         - Being male.    - Being white.    - Being older than 70.    - Past treatment with chemotherapy or radiation therapy.    - Being exposed to high levels of radiation in the environment (such as nuclear radiation).    - Having certain genetic disorders, such as Down syndrome.",
         "0000001_1"
        ],
        [
         "5",
         "What are the stages of Adult Acute Lymphoblastic Leukemia ?",
         "Key Points\n                    - Once adult ALL has been diagnosed, tests are done to find out if the cancer has spread to the central nervous system (brain and spinal cord) or to other parts of the body.    - There is no standard staging system for adult ALL.\n                \n                \n                    Once adult ALL has been diagnosed, tests are done to find out if the cancer has spread to the central nervous system (brain and spinal cord) or to other parts of the body.\n                    The extent or spread of cancer is usually described as stages. It is important to know whether the leukemia has spread outside the blood and bone marrow in order to plan treatment. The following tests and procedures may be used to determine if the leukemia has spread:          -   Chest x-ray : An x-ray of the organs and bones inside the chest. An x-ray is a type of energy beam that can go through the body and onto film, making a picture of areas inside the body.    -   Lumbar puncture : A procedure used to collect a sample of cerebrospinal fluid (CSF) from the spinal column. This is done by placing a needle between two bones in the spine and into the CSF around the spinal cord and removing a sample of the fluid. The sample of CSF is checked under a microscope for signs that leukemia cells have spread to the brain and spinal cord. This procedure is also called an LP or spinal tap.    -   CT scan (CAT scan): A procedure that makes a series of detailed pictures of the abdomen, taken from different angles. The pictures are made by a computer linked to an x-ray machine. A dye may be injected into a vein or swallowed to help the organs or tissues show up more clearly. This procedure is also called computed tomography, computerized tomography, or computerized axial tomography.    -   MRI (magnetic resonance imaging): A procedure that uses a magnet, radio waves, and a computer to make a series of detailed pictures of areas inside the body. This procedure is also called nuclear magnetic resonance imaging (NMRI).\n                \n                \n                    There is no standard staging system for adult ALL.\n                    The disease is described as untreated, in remission, or recurrent.    Untreated adult ALL    The ALL is newly diagnosed and has not been treated except to relieve signs and symptoms such as fever, bleeding, or pain.          - The complete blood count is abnormal.    - More than 5% of the cells in the bone marrow are blasts (leukemia cells).    - There are signs and symptoms of leukemia.         Adult ALL in remission    The ALL has been treated.         - The complete blood count is normal.    - 5% or fewer of the cells in the bone marrow are blasts (leukemia cells).    - There are no signs or symptoms of leukemia other than in the bone marrow.",
         "0000001_1"
        ],
        [
         "6",
         "What are the treatments for Adult Acute Lymphoblastic Leukemia ?",
         "Key Points\n                    - There are different types of treatment for patients with adult ALL.     - The treatment of adult ALL usually has two phases.    - Four types of standard treatment are used:          - Chemotherapy      - Radiation therapy      - Chemotherapy with stem cell transplant     - Targeted therapy         - New types of treatment are being tested in clinical trials.          - Biologic therapy        - Patients may want to think about taking part in a clinical trial.    - Patients can enter clinical trials before, during, or after starting their cancer treatment.    - Patients with ALL may have late effects after treatment.    - Follow-up tests may be needed.\n                \n                \n                    There are different types of treatment for patients with adult ALL.\n                    Different types of treatment are available for patients with adult acute lymphoblastic leukemia (ALL). Some treatments are standard (the currently used treatment), and some are being tested in clinical trials. A treatment clinical trial is a research study meant to help improve current treatments or obtain information on new treatments for patients with cancer. When clinical trials show that a new treatment is better than the standard treatment, the new treatment may become the standard treatment. Patients may want to think about taking part in a clinical trial. Some clinical trials are open only to patients who have not started treatment.\n                \n                \n                    The treatment of adult ALL usually has two phases.\n                    The treatment of adult ALL is done in phases:         -  Remission induction therapy: This is the first phase of treatment. The goal is to kill the leukemia cells in the blood and bone marrow. This puts the leukemia into remission.    -  Post-remission therapy: This is the second phase of treatment. It begins once the leukemia is in remission. The goal of post-remission therapy is to kill any remaining leukemia cells that may not be active but could begin to regrow and cause a relapse. This phase is also called remission continuation therapy.        Treatment called central nervous system (CNS) sanctuary therapy is usually given during each phase of therapy. Because standard doses of chemotherapy may not reach leukemia cells in the CNS (brain and spinal cord), the cells are able to \"find sanctuary\" (hide) in the CNS. Systemic chemotherapy given in high doses, intrathecal chemotherapy, and radiation therapy to the brain are able to reach leukemia cells in the CNS. They are given to kill the leukemia cells and lessen the chance the leukemia will recur (come back). CNS sanctuary therapy is also called CNS prophylaxis.\n                \n                \n                    Four types of standard treatment are used:\n                    Chemotherapy      Chemotherapy is a cancer treatment that uses drugs to stop the growth of cancer cells, either by killing the cells or by stopping them from dividing. When chemotherapy is taken by mouth or injected into a vein or muscle, the drugs enter the bloodstream and can reach cancer cells throughout the body (systemic chemotherapy). When chemotherapy is placed directly into the cerebrospinal fluid (intrathecal chemotherapy), an organ, or a body cavity such as the abdomen, the drugs mainly affect cancer cells in those areas (regional chemotherapy). Combination chemotherapy is treatment using more than one anticancer drug. The way the chemotherapy is given depends on the type and stage of the cancer being treated.    Intrathecal chemotherapy may be used to treat adult ALL that has spread, or may spread, to the brain and spinal cord. When used to lessen the chance leukemia cells will spread to the brain and spinal cord, it is called central nervous system (CNS) sanctuary therapy or CNS prophylaxis.        See Drugs Approved for Acute Lymphoblastic Leukemia for more information.       Radiation therapy      Radiation therapy is a cancer treatment that uses high-energy x-rays or other types of radiation to kill cancer cells or keep them from growing. There are two types of radiation therapy:             -  External radiation therapy uses a machine outside the body to send radiation toward the cancer.      -  Internal radiation therapy uses a radioactive substance sealed in needles, seeds, wires, or catheters that are placed directly into or near the cancer.           The way the radiation therapy is given depends on the type of cancer. External radiation therapy may be used to treat adult ALL that has spread, or may spread, to the brain and spinal cord. When used this way, it is called central nervous system (CNS) sanctuary therapy or CNS prophylaxis. External radiation therapy may also be used as palliative therapy to relieve symptoms and improve quality of life.       Chemotherapy with stem cell transplant     Stem cell transplant is a method of giving chemotherapy and replacing blood-forming cells destroyed by the cancer treatment. Stem cells (immature blood cells) are removed from the blood or bone marrow of the patient or a donor and are frozen and stored. After the chemotherapy is completed, the stored stem cells are thawed and given back to the patient through an infusion. These reinfused stem cells grow into (and restore) the body's blood cells.    See Drugs Approved for Acute Lymphoblastic Leukemia for more information.        Targeted therapy      Targeted therapy is a type of treatment that uses drugs or other substances to identify and attack specific cancer cells without harming normal cells.    Targeted therapy drugs called tyrosine kinase inhibitors are used to treat some types of adult ALL. These drugs block the enzyme, tyrosine kinase, that causes stem cells to develop into more white blood cells (blasts) than the body needs. Three of the drugs used are imatinib mesylate (Gleevec), dasatinib, and nilotinib.    See Drugs Approved for Acute Lymphoblastic Leukemia for more information.\n                \n                \n                    New types of treatment are being tested in clinical trials.\n                    This summary section describes treatments that are being studied in clinical trials. It may not mention every new treatment being studied. Information about clinical trials is available from the NCI website.     Biologic therapy     Biologic therapy is a treatment that uses the patient's immune system to fight cancer. Substances made by the body or made in a laboratory are used to boost, direct, or restore the body's natural defenses against cancer. This type of cancer treatment is also called biotherapy or immunotherapy.\n                \n                \n                    Patients may want to think about taking part in a clinical trial.\n                    For some patients, taking part in a clinical trial may be the best treatment choice. Clinical trials are part of the cancer research process. Clinical trials are done to find out if new cancer treatments are safe and effective or better than the standard treatment.   Many of today's standard treatments for cancer are based on earlier clinical trials. Patients who take part in a clinical trial may receive the standard treatment or be among the first to receive a new treatment.   Patients who take part in clinical trials also help improve the way cancer will be treated in the future. Even when clinical trials do not lead to effective new treatments, they often answer important questions and help move research forward.\n                \n                \n                    Patients can enter clinical trials before, during, or after starting their cancer treatment.\n                    Some clinical trials only include patients who have not yet received treatment. Other trials test treatments for patients whose cancer has not gotten better. There are also clinical trials that test new ways to stop cancer from recurring (coming back) or reduce the side effects of cancer treatment.   Clinical trials are taking place in many parts of the country. See the Treatment Options section that follows for links to current treatment clinical trials. These have been retrieved from NCI's listing of clinical trials.\n                \n                \n                    Patients with ALL may have late effects after treatment.\n                    Side effects from cancer treatment that begin during or after treatment and continue for months or years are called late effects. Late effects of treatment for ALL may include the risk of second cancers (new types of cancer). Regular follow-up exams are very important for long-term survivors.\n                \n                \n                    Follow-up tests may be needed.\n                    Some of the tests that were done to diagnose the cancer or to find out the stage of the cancer may be repeated. Some tests will be repeated in order to see how well the treatment is working. Decisions about whether to continue, change, or stop treatment may be based on the results of these tests.   Some of the tests will continue to be done from time to time after treatment has ended. The results of these tests can show if your condition has changed or if the cancer has recurred (come back). These tests are sometimes called follow-up tests or check-ups.\n                                \n                        \n\t\t\t\t\t\t\t\t\t\t\t\t\t\t            Treatment Options for Adult Acute Lymphoblastic Leukemia\n\t\t\t\t\t\t\t\t\t\t\t\t\t\t            \n\t\t\t\t\t\t\t\t\t\t\t\t\t\t                \n\t\t\t\t\t\t\t\t\t\t\t\t\t\t                    Untreated Adult Acute Lymphoblastic Leukemia\n\t\t\t\t\t\t\t\t\t\t\t\t\t\t                    Standard treatment of adult acute lymphoblastic leukemia (ALL) during the remission induction phase includes the following:         -  Combination chemotherapy.    -  Tyrosine kinase inhibitor therapy with imatinib mesylate, in certain patients. Some of these patients will also have combination chemotherapy.    -  Supportive care including antibiotics and red blood cell and platelet transfusions.    -  CNS prophylaxis therapy including chemotherapy (intrathecal and/or systemic) with or without radiation therapy to the brain.        Check the list of NCI-supported cancer clinical trials that are now accepting patients with untreated adult acute lymphoblastic leukemia. For more specific results, refine the search by using other search features, such as the location of the trial, the type of treatment, or the name of the drug. Talk with your doctor about clinical trials that may be right for you. General information about clinical trials is available from the NCI website.\n\t\t\t\t\t\t\t\t\t\t\t\t\t\t                \n\t\t\t\t\t\t\t\t\t\t\t\t\t\t                \n\t\t\t\t\t\t\t\t\t\t\t\t\t\t                    Adult Acute Lymphoblastic Leukemia in Remission\n\t\t\t\t\t\t\t\t\t\t\t\t\t\t                    Standard treatment of adult ALL during the post-remission phase includes the following:          -  Chemotherapy.    -  Tyrosine kinase inhibitor therapy.    -  Chemotherapy with stem cell transplant.    -  CNS prophylaxis  therapy including chemotherapy (intrathecal and/or systemic) with or without radiation therapy to the brain.        Check the list of NCI-supported cancer clinical trials that are now accepting patients with adult acute lymphoblastic leukemia in remission. For more specific results, refine the search by using other search features, such as the location of the trial, the type of treatment, or the name of the drug. Talk with your doctor about clinical trials that may be right for you. General information about clinical trials is available from the NCI website.\n\t\t\t\t\t\t\t\t\t\t\t\t\t\t                \n\t\t\t\t\t\t\t\t\t\t\t\t\t\t                \n\t\t\t\t\t\t\t\t\t\t\t\t\t\t                    Recurrent Adult Acute Lymphoblastic Leukemia\n\t\t\t\t\t\t\t\t\t\t\t\t\t\t                    Standard treatment of recurrent adult ALL may include the following:         -  Combination chemotherapy followed by stem cell transplant.     - Low-dose radiation therapy as palliative care to relieve symptoms and improve the quality of life.    -  Tyrosine kinase inhibitor therapy with dasatinib for certain patients.        Some of the treatments being studied in clinical trials for recurrent adult ALL include the following:         - A clinical trial of stem cell transplant using the patient's stem cells.    - A clinical trial of biologic therapy.    - A clinical trial of new anticancer drugs.        Check the list of NCI-supported cancer clinical trials that are now accepting patients with recurrent adult acute lymphoblastic leukemia. For more specific results, refine the search by using other search features, such as the location of the trial, the type of treatment, or the name of the drug. Talk with your doctor about clinical trials that may be right for you. General information about clinical trials is available from the NCI website.",
         "0000001_1"
        ],
        [
         "7",
         "What is (are) Adult Acute Myeloid Leukemia ?",
         "Key Points\n                    - Adult acute myeloid leukemia (AML) is a type of cancer in which the bone marrow makes abnormal myeloblasts (a type of white blood cell), red blood cells, or platelets.     - Leukemia may affect red blood cells, white blood cells, and platelets.    - There are different subtypes of AML.     - Smoking, previous chemotherapy treatment, and exposure to radiation may affect the risk of adult AML.    - Signs and symptoms of adult AML include fever, feeling tired, and easy bruising or bleeding.    - Tests that examine the blood and bone marrow are used to detect (find) and diagnose adult AML.    - Certain factors affect prognosis (chance of recovery) and treatment options.\n                \n                \n                    Adult acute myeloid leukemia (AML) is a type of cancer in which the bone marrow makes abnormal myeloblasts (a type of white blood cell), red blood cells, or platelets.\n                    Adult acute myeloid leukemia (AML) is a cancer of the blood and bone marrow. This type of cancer usually gets worse quickly if it is not treated. It is the most common type of acute leukemia in adults. AML is also called acute myelogenous leukemia, acute myeloblastic leukemia, acute granulocytic leukemia, and acute nonlymphocytic leukemia.\n                \n                \n                    Leukemia may affect red blood cells, white blood cells, and platelets.\n                    Normally, the bone marrow makes blood stem cells (immature cells) that become mature blood cells over time. A blood stem cell may become a myeloid stem cell or a lymphoid stem cell. A lymphoid stem cell becomes a white blood cell.    A myeloid stem cell becomes one of three types of mature blood cells:         -  Red blood cells that carry oxygen and other substances to all tissues of the body.    - White blood cells that fight infection and disease.    -  Platelets that form blood clots to stop bleeding.         In AML, the myeloid stem cells usually become a type of immature white blood cell called myeloblasts (or myeloid blasts). The myeloblasts in AML are abnormal and do not become healthy white blood cells. Sometimes in AML, too many stem cells become abnormal red blood cells or platelets. These abnormal white blood cells, red blood cells, or platelets are also called leukemia cells or blasts. Leukemia cells can build up in the bone marrow and blood so there is less room for healthy white blood cells, red blood cells, and platelets. When this happens, infection, anemia, or easy bleeding may occur. The leukemia cells can spread outside the blood to other parts of the body, including the central nervous system (brain and spinal cord), skin, and gums.   This summary is about adult AML. See the following PDQ summaries for information about other types of leukemia:         -  Childhood Acute Myeloid Leukemia/Other Myeloid Malignancies Treatment     -  Chronic Myelogenous Leukemia Treatment     -  Adult Acute Lymphoblastic Leukemia Treatment     -  Childhood Acute Lymphoblastic Leukemia Treatment     -  Chronic Lymphocytic Leukemia Treatment     -  Hairy Cell Leukemia Treatment\n                \n                \n                    There are different subtypes of AML.\n                    Most AML subtypes are based on how mature (developed) the cancer cells are at the time of diagnosis and how different they are from normal cells.     Acute promyelocytic leukemia (APL) is a subtype of AML that occurs when parts of two genes stick together. APL usually occurs in middle-aged adults. Signs of APL may include both bleeding and forming blood clots.",
         "0000001_2"
        ],
        [
         "8",
         "Who is at risk for Adult Acute Myeloid Leukemia? ?",
         "Smoking, previous chemotherapy treatment, and exposure to radiation may affect the risk of adult AML. Anything that increases your risk of getting a disease is called a risk factor. Having a risk factor does not mean that you will get cancer; not having risk factors doesnt mean that you will not get cancer. Talk with your doctor if you think you may be at risk. Possible risk factors for AML include the following:         - Being male.    - Smoking, especially after age 60.    - Having had treatment with chemotherapy or radiation therapy in the past.    - Having had treatment for childhood acute lymphoblastic leukemia (ALL) in the past.    - Being exposed to radiation from an atomic bomb or to the chemical benzene.    - Having a history of a blood disorder such as myelodysplastic syndrome.",
         "0000001_2"
        ],
        [
         "9",
         "What are the symptoms of Adult Acute Myeloid Leukemia ?",
         "Signs and symptoms of adult AML include fever, feeling tired, and easy bruising or bleeding. The early signs and symptoms of AML may be like those caused by the flu or other common diseases. Check with your doctor if you have any of the following:         -  Fever.    - Shortness of breath.    - Easy bruising or bleeding.    -  Petechiae (flat, pinpoint spots under the skin caused by bleeding).    - Weakness or feeling tired.    - Weight loss or loss of appetite.",
         "0000001_2"
        ],
        [
         "10",
         "How to diagnose Adult Acute Myeloid Leukemia ?",
         "Tests that examine the blood and bone marrow are used to detect (find) and diagnose adult AML. The following tests and procedures may be used:         -   Physical exam and history : An exam of the body to check general signs of health, including checking for signs of disease, such as lumps or anything else that seems unusual. A history of the patients health habits and past illnesses and treatments will also be taken.     -   Complete blood count (CBC): A procedure in which a sample of blood is drawn and checked for the following:                - The number of red blood cells, white blood cells, and platelets.      - The amount of hemoglobin (the protein that carries oxygen) in the red blood cells.      - The portion of the sample made up of red blood cells.             -   Peripheral blood smear : A procedure in which a sample of blood is checked for blast cells, the number and kinds of white blood cells, the number of platelets, and changes in the shape of blood cells.     -   Bone marrow aspiration and biopsy : The removal of bone marrow, blood, and a small piece of bone by inserting a hollow needle into the hipbone or breastbone. A pathologist views the bone marrow, blood, and bone under a microscope to look for signs of cancer.     -   Cytogenetic analysis : A laboratory test in which the cells in a sample of blood or bone marrow are viewed under a microscope to look for certain changes in the chromosomes. Other tests, such as fluorescence in situ hybridization (FISH), may also be done to look for certain changes in the chromosomes.    -   Immunophenotyping : A process used to identify cells, based on the types of antigens or markers on the surface of the cell. This process is used to diagnose the subtype of AML by comparing the cancer cells to normal cells of the immune system. For example, a cytochemistry study may test the cells in a sample of tissue using chemicals (dyes) to look for certain changes in the sample. A chemical may cause a color change in one type of leukemia cell but not in another type of leukemia cell.    -   Reverse transcriptionpolymerase chain reaction test (RTPCR): A laboratory test in which cells in a sample of tissue are studied using chemicals to look for certain changes in the structure or function of genes. This test is used to diagnose certain types of AML including acute promyelocytic leukemia (APL).",
         "0000001_2"
        ],
        [
         "11",
         "What is the outlook for Adult Acute Myeloid Leukemia ?",
         "Certain factors affect prognosis (chance of recovery) and treatment options. The prognosis (chance of recovery) and treatment options depend on:         - The age of the patient.    - The subtype of AML.    - Whether the patient received chemotherapy in the past to treat a different cancer.    - Whether there is a history of a blood disorder such as myelodysplastic syndrome.    - Whether the cancer has spread to the central nervous system.    - Whether the cancer has been treated before or recurred (come back).         It is important that acute leukemia be treated right away.",
         "0000001_2"
        ],
        [
         "12",
         "What are the stages of Adult Acute Myeloid Leukemia ?",
         "Key Points\n                    - Once adult acute myeloid leukemia (AML) has been diagnosed, tests are done to find out if the cancer has spread to other parts of the body.     - There is no standard staging system for adult AML.\n                \n                \n                    Once adult acute myeloid leukemia (AML) has been diagnosed, tests are done to find out if the cancer has spread to other parts of the body.\n                    The extent or spread of cancer is usually described as stages. In adult acute myeloid leukemia (AML), the subtype of AML and whether the leukemia has spread outside the blood and bone marrow are used instead of the stage to plan treatment. The following tests and procedures may be used to determine if the leukemia has spread:         -   Lumbar puncture : A procedure used to collect a sample of cerebrospinal fluid (CSF) from the spinal column. This is done by placing a needle between two bones in the spine and into the CSF around the spinal cord and removing a sample of the fluid. The sample of CSF is checked under a microscope for signs that leukemia cells have spread to the brain and spinal cord. This procedure is also called an LP or spinal tap.    -   CT scan (CAT scan): A procedure that makes a series of detailed pictures of the abdomen, taken from different angles. The pictures are made by a computer linked to an x-ray machine. A dye may be injected into a vein or swallowed to help the organs or tissues show up more clearly. This procedure is also called computed tomography, computerized tomography, or computerized axial tomography.\n                \n                \n                    There is no standard staging system for adult AML.\n                    The disease is described as untreated, in remission, or recurrent.    Untreated adult AML    In untreated adult AML, the disease is newly diagnosed. It has not been treated except to relieve signs and symptoms such as fever, bleeding, or pain, and the following are true:         - The complete blood count is abnormal.    - At least 20% of the cells in the bone marrow are blasts (leukemia cells).    - There are signs or symptoms of leukemia.         Adult AML in remission    In adult AML in remission, the disease has been treated and the following are true:         - The complete blood count is normal.    - Less than 5% of the cells in the bone marrow are blasts (leukemia cells).    - There are no signs or symptoms of leukemia in the brain and spinal cord or elsewhere in the body.         Recurrent Adult AML     Recurrent AML is cancer that has recurred (come back) after it has been treated. The AML may come back in the blood or bone marrow.",
         "0000001_2"
        ],
        [
         "13",
         "What are the treatments for Adult Acute Myeloid Leukemia ?",
         "Key Points\n                    - There are different types of treatment for patients with adult acute myeloid leukemia.     - The treatment of adult AML usually has 2 phases.    - Four types of standard treatment are used:         - Chemotherapy      - Radiation therapy      - Stem cell transplant     - Other drug therapy        - New types of treatment are being tested in clinical trials.          - Targeted therapy        - Patients may want to think about taking part in a clinical trial.    - Patients can enter clinical trials before, during, or after starting their cancer treatment.    - Follow-up tests may be needed.\n                \n                \n                    There are different types of treatment for patients with adult acute myeloid leukemia.\n                    Different types of treatment are available for patients with adult acute myeloid leukemia (AML). Some treatments are standard (the currently used treatment), and some are being tested in clinical trials. A treatment clinical trial is a research study meant to help improve current treatments or obtain information on new treatments for patients with cancer. When clinical trials show that a new treatment is better than the standard treatment, the new treatment may become the standard treatment. Patients may want to think about taking part in a clinical trial. Some clinical trials are open only to patients who have not started treatment.\n                \n                \n                    The treatment of adult AML usually has 2 phases.\n                    The 2 treatment phases of adult AML are:         -  Remission induction therapy: This is the first phase of treatment. The goal is to kill the leukemia cells in the blood and bone marrow. This puts the leukemia into remission.    -  Post-remission therapy: This is the second phase of treatment. It begins after the leukemia is in remission. The goal of post-remission therapy is to kill any remaining leukemia cells that may not be active but could begin to regrow and cause a relapse. This phase is also called remission continuation therapy.\n                \n                \n                    Four types of standard treatment are used:\n                    Chemotherapy      Chemotherapy is a cancer treatment that uses drugs to stop the growth of cancer cells, either by killing the cells or by stopping them from dividing. When chemotherapy is taken by mouth or injected into a vein or muscle, the drugs enter the bloodstream and can reach cancer cells throughout the body (systemic chemotherapy). When chemotherapy is placed directly into the cerebrospinal fluid (intrathecal chemotherapy), an organ, or a body cavity such as the abdomen, the drugs mainly affect cancer cells in those areas (regional chemotherapy). Intrathecal chemotherapy may be used to treat adult AML that has spread to the brain and spinal cord. Combination chemotherapy is treatment using more than one anticancer drug.    The way the chemotherapy is given depends on the subtype of AML being treated and whether leukemia cells have spread to the brain and spinal cord.       See Drugs Approved for Acute Myeloid Leukemia for more information.       Radiation therapy      Radiation therapy is a cancer treatment that uses high-energy x-rays or other types of radiation to kill cancer cells or keep them from growing. There are two types of radiation therapy:            -  External radiation therapy uses a machine outside the body to send radiation toward the cancer.     -  Internal radiation therapy uses a radioactive substance sealed in needles, seeds, wires, or catheters that are placed directly into or near the cancer.           The way the radiation therapy is given depends on the type of cancer being treated and whether leukemia cells have spread to the brain and spinal cord. External radiation therapy is used to treat adult AML.       Stem cell transplant     Stem cell transplant is a method of giving chemotherapy and replacing blood -forming cells that are abnormal or destroyed by the cancer treatment. Stem cells (immature blood cells) are removed from the blood or bone marrow of the patient or a donor and are frozen and stored. After the chemotherapy is completed, the stored stem cells are thawed and given back to the patient through an infusion. These reinfused stem cells grow into (and restore) the body's blood cells.        Other drug therapy     Arsenic trioxide and all-trans retinoic acid (ATRA) are anticancer drugs that kill leukemia cells, stop the leukemia cells from dividing, or help the leukemia cells mature into white blood cells. These drugs are used in the treatment of a subtype of AML called acute promyelocytic leukemia.    See Drugs Approved for Acute Myeloid Leukemia for more information.\n                \n                \n                    New types of treatment are being tested in clinical trials.\n                    This summary section describes treatments that are being studied in clinical trials. It may not mention every new treatment being studied. Information about clinical trials is available from the NCI website.     Targeted therapy     Targeted therapy is a type of treatment that uses drugs or other substances to identify and attack specific cancer cells without harming normal cells. Monoclonal antibody therapy is one type of targeted therapy being studied in the treatment of adult AML.    Monoclonal antibody therapy is a cancer treatment that uses antibodies made in the laboratory from a single type of immune system cell. These antibodies can identify substances on cancer cells or normal substances that may help cancer cells grow. The antibodies attach to the substances and kill the cancer cells, block their growth, or keep them from spreading. Monoclonal antibodies are given by infusion. They may be used alone or to carry drugs, toxins, or radioactive material directly to cancer cells.\n                \n                \n                    Patients may want to think about taking part in a clinical trial.\n                    For some patients, taking part in a clinical trial may be the best treatment choice. Clinical trials are part of the cancer research process. Clinical trials are done to find out if new cancer treatments are safe and effective or better than the standard treatment.   Many of today's standard treatments for cancer are based on earlier clinical trials. Patients who take part in a clinical trial may receive the standard treatment or be among the first to receive a new treatment.   Patients who take part in clinical trials also help improve the way cancer will be treated in the future. Even when clinical trials do not lead to effective new treatments, they often answer important questions and help move research forward.\n                \n                \n                    Patients can enter clinical trials before, during, or after starting their cancer treatment.\n                    Some clinical trials only include patients who have not yet received treatment. Other trials test treatments for patients whose cancer has not gotten better. There are also clinical trials that test new ways to stop cancer from recurring (coming back) or reduce the side effects of cancer treatment.   Clinical trials are taking place in many parts of the country. See the Treatment Options section that follows for links to current treatment clinical trials. These have been retrieved from NCI's listing of clinical trials.\n                \n                \n                    Follow-up tests may be needed.\n                    Some of the tests that were done to diagnose the cancer or to find out the stage of the cancer may be repeated. Some tests will be repeated in order to see how well the treatment is working. Decisions about whether to continue, change, or stop treatment may be based on the results of these tests.   Some of the tests will continue to be done from time to time after treatment has ended. The results of these tests can show if your condition has changed or if the cancer has recurred (come back). These tests are sometimes called follow-up tests or check-ups.\n                \n                \n                \n\t\t\t\t\t\t\t            Treatment Options for Adult Acute Myeloid Leukemia\n\t\t\t\t\t\t\t            \n\t\t\t\t\t\t\t                \n\t\t\t\t\t\t\t                    Untreated Adult Acute Myeloid Leukemia\n\t\t\t\t\t\t\t                    Standard treatment of untreated adult acute myeloid leukemia (AML) during the remission induction phase depends on the subtype of AML and may include the following:         -  Combination chemotherapy.    -  High-dose combination chemotherapy.    - Low-dose chemotherapy.    -  Intrathecal chemotherapy.    -  All-trans retinoic acid (ATRA) plus arsenic trioxide for the treatment of acute promyelocytic leukemia (APL).    - ATRA plus combination chemotherapy followed by arsenic trioxide for the treatment of APL.        Check the list of NCI-supported cancer clinical trials that are now accepting patients with untreated adult acute myeloid leukemia. For more specific results, refine the search by using other search features, such as the location of the trial, the type of treatment, or the name of the drug. Talk with your doctor about clinical trials that may be right for you. General information about clinical trials is available from the NCI website.\n\t\t\t\t\t\t\t                \n\t\t\t\t\t\t\t                \n\t\t\t\t\t\t\t                    Adult Acute Myeloid Leukemia in Remission\n\t\t\t\t\t\t\t                    Treatment of adult AML during the remission phase depends on the subtype of AML and may include the following:         -  Combination chemotherapy.     -  High-dose chemotherapy, with or without radiation therapy, and stem cell transplant using the patient's stem cells.     - High-dose chemotherapy and stem cell transplant using donor stem cells.    - A clinical trial of arsenic trioxide.        Check the list of NCI-supported cancer clinical trials that are now accepting patients with adult acute myeloid leukemia in remission. For more specific results, refine the search by using other search features, such as the location of the trial, the type of treatment, or the name of the drug. Talk with your doctor about clinical trials that may be right for you. General information about clinical trials is available from the NCI website.\n\t\t\t\t\t\t\t                \n\t\t\t\t\t\t\t                \n\t\t\t\t\t\t\t                    Recurrent Adult Acute Myeloid Leukemia\n\t\t\t\t\t\t\t                    There is no standard treatment for recurrent adult AML. Treatment depends on the subtype of AML and may include the following:         -  Combination chemotherapy.     -  Targeted therapy with monoclonal antibodies.    -  Stem cell transplant.     -  Arsenic trioxide therapy.     - A clinical trial of arsenic trioxide therapy followed by stem cell transplant.        Check the list of NCI-supported cancer clinical trials that are now accepting patients with recurrent adult acute myeloid leukemia. For more specific results, refine the search by using other search features, such as the location of the trial, the type of treatment, or the name of the drug. Talk with your doctor about clinical trials that may be right for you. General information about clinical trials is available from the NCI website.",
         "0000001_2"
        ],
        [
         "14",
         "what research (or clinical trials) is being done for Adult Acute Myeloid Leukemia ?",
         "New types of treatment are being tested in clinical trials.\n\t\t\t\t                    This summary section describes treatments that are being studied in clinical trials. It may not mention every new treatment being studied. Information about clinical trials is available from the NCI website.     Targeted therapy     Targeted therapy is a type of treatment that uses drugs or other substances to identify and attack specific cancer cells without harming normal cells. Monoclonal antibody therapy is one type of targeted therapy being studied in the treatment of adult AML.    Monoclonal antibody therapy is a cancer treatment that uses antibodies made in the laboratory from a single type of immune system cell. These antibodies can identify substances on cancer cells or normal substances that may help cancer cells grow. The antibodies attach to the substances and kill the cancer cells, block their growth, or keep them from spreading. Monoclonal antibodies are given by infusion. They may be used alone or to carry drugs, toxins, or radioactive material directly to cancer cells.\n\t\t\t\t                \n\t\t\t\t                \n\t\t\t\t                    Patients may want to think about taking part in a clinical trial.\n\t\t\t\t                    For some patients, taking part in a clinical trial may be the best treatment choice. Clinical trials are part of the cancer research process. Clinical trials are done to find out if new cancer treatments are safe and effective or better than the standard treatment.   Many of today's standard treatments for cancer are based on earlier clinical trials. Patients who take part in a clinical trial may receive the standard treatment or be among the first to receive a new treatment.   Patients who take part in clinical trials also help improve the way cancer will be treated in the future. Even when clinical trials do not lead to effective new treatments, they often answer important questions and help move research forward.\n\t\t\t\t                \n\t\t\t\t                \n\t\t\t\t                    Patients can enter clinical trials before, during, or after starting their cancer treatment.\n\t\t\t\t                    Some clinical trials only include patients who have not yet received treatment. Other trials test treatments for patients whose cancer has not gotten better. There are also clinical trials that test new ways to stop cancer from recurring (coming back) or reduce the side effects of cancer treatment.   Clinical trials are taking place in many parts of the country. See the Treatment Options section that follows for links to current treatment clinical trials. These have been retrieved from NCI's listing of clinical trials.",
         "0000001_2"
        ],
        [
         "15",
         "What is (are) Chronic Lymphocytic Leukemia ?",
         "Key Points\n                    - Chronic lymphocytic leukemia is a type of cancer in which the bone marrow makes too many lymphocytes (a type of white blood cell).    - Leukemia may affect red blood cells, white blood cells, and platelets.    - Older age can affect the risk of developing chronic lymphocytic leukemia.    - Signs and symptoms of chronic lymphocytic leukemia include swollen lymph nodes and tiredness.     - Tests that examine the blood, bone marrow, and lymph nodes are used to detect (find) and diagnose chronic lymphocytic leukemia.    - Certain factors affect treatment options and prognosis (chance of recovery).\n                \n                \n                    Chronic lymphocytic leukemia is a type of cancer in which the bone marrow makes too many lymphocytes (a type of white blood cell).\n                    Chronic lymphocytic leukemia (also called CLL) is a blood and bone marrow disease that usually gets worse slowly. CLL is one of the most common types of leukemia in adults. It often occurs during or after middle age; it rarely occurs in children.\n                \n                \n                    Leukemia may affect red blood cells, white blood cells, and platelets.\n                    Normally, the body makes blood stem cells (immature cells) that become mature blood cells over time. A blood stem cell may become a myeloid stem cell or a lymphoid stem cell.   A myeloid stem cell becomes one of three types of mature blood cells:         -  Red blood cells that carry oxygen and other substances to all tissues of the body.    -  White blood cells that fight infection and disease.     -  Platelets that form blood clots to stop bleeding.        A lymphoid stem cell becomes a lymphoblast cell and then one of three types of lymphocytes (white blood cells):         -  B lymphocytes that make antibodies to help fight infection.    -  T lymphocytes that help B lymphocytes make antibodies to fight infection.    -  Natural killer cells that attack cancer cells and viruses.         In CLL, too many blood stem cells become abnormal lymphocytes and do not become healthy white blood cells. The abnormal lymphocytes may also be called leukemia cells. The lymphocytes are not able to fight infection very well. Also, as the number of lymphocytes increases in the blood and bone marrow, there is less room for healthy white blood cells, red blood cells, and platelets. This may cause infection, anemia, and easy bleeding.    This summary is about chronic lymphocytic leukemia. See the following PDQ summaries for more information about leukemia:          -  Adult Acute Lymphoblastic Leukemia Treatment.    -  Childhood Acute Lymphoblastic Leukemia Treatment.    -  Adult Acute Myeloid Leukemia Treatment.    -  Childhood Acute Myeloid Leukemia/Other Myeloid Malignancies Treatment.    -  Chronic Myelogenous Leukemia Treatment.    -  Hairy Cell Leukemia Treatment.",
         "0000001_3"
        ],
        [
         "16",
         "Who is at risk for Chronic Lymphocytic Leukemia? ?",
         "Older age can affect the risk of developing chronic lymphocytic leukemia. Anything that increases your risk of getting a disease is called a risk factor. Having a risk factor does not mean that you will get cancer; not having risk factors doesnt mean that you will not get cancer. Talk with your doctor if you think you may be at risk. Risk factors for CLL include the following:         - Being middle-aged or older, male, or white.    - A family history of CLL or cancer of the lymph system.    - Having relatives who are Russian Jews or Eastern European Jews.",
         "0000001_3"
        ],
        [
         "17",
         "What are the symptoms of Chronic Lymphocytic Leukemia ?",
         "Signs and symptoms of chronic lymphocytic leukemia include swollen lymph nodes and tiredness. Usually CLL does not cause any signs or symptoms and is found during a routine blood test. Signs and symptoms may be caused by CLL or by other conditions. Check with your doctor if you have any of the following:         - Painless swelling of the lymph nodes in the neck, underarm, stomach, or groin.    - Feeling very tired.    - Pain or fullness below the ribs.    -  Fever and infection.    - Weight loss for no known reason.",
         "0000001_3"
        ],
        [
         "18",
         "How to diagnose Chronic Lymphocytic Leukemia ?",
         "Tests that examine the blood, bone marrow, and lymph nodes are used to detect (find) and diagnose chronic lymphocytic leukemia. The following tests and procedures may be used:         -   Physical exam and history : An exam of the body to check general signs of health, including checking for signs of disease, such as lumps or anything else that seems unusual. A history of the patients health habits and past illnesses and treatments will also be taken.     -   Complete blood count (CBC) with differential : A procedure in which a sample of blood is drawn and checked for the following:                -  The number of red blood cells and platelets.      - The number and type of white blood cells.      - The amount of hemoglobin (the protein that carries oxygen) in the red blood cells.      - The portion of the blood sample made up of red blood cells.              -   Immunophenotyping : A laboratory test in which the antigens or markers on the surface of a blood or bone marrow cell are checked to see if they are lymphocytes or myeloid cells. If the cells are malignant lymphocytes (cancer), they are checked to see if they are B lymphocytes or T lymphocytes.    -   FISH (fluorescence in situ hybridization): A laboratory technique used to look at genes or chromosomes in cells and tissues. Pieces of DNA that contain a fluorescent dye are made in the laboratory and added to cells or tissues on a glass slide. When these pieces of DNA bind to specific genes or areas of chromosomes on the slide, they light up when viewed under a microscope with a special light.     -   Flow cytometry : A laboratory test that measures the number of cells in a sample, the percentage of live cells in a sample, and certain characteristics of cells, such as size, shape, and the presence of tumor markers on the cell surface. The cells are stained with a light-sensitive dye, placed in a fluid, and passed in a stream before a laser or other type of light. The measurements are based on how the light-sensitive dye reacts to the light.    -   IgVH gene mutation test: A laboratory test done on a bone marrow or blood sample to check for an IgVH gene mutation. Patients with an IgVH gene mutation have a better prognosis.    -   Bone marrow aspiration and biopsy : The removal of bone marrow, blood, and a small piece of bone by inserting a hollow needle into the hipbone or breastbone. A pathologist views the bone marrow, blood, and bone under a microscope to look for abnormal cells.",
         "0000001_3"
        ],
        [
         "19",
         "What is the outlook for Chronic Lymphocytic Leukemia ?",
         "Certain factors affect treatment options and prognosis (chance of recovery). Treatment options depend on:         - The stage of the disease.    - Red blood cell, white blood cell, and platelet blood counts.    - Whether there are signs or symptoms, such as fever, chills, or weight loss.    - Whether the liver, spleen, or lymph nodes are larger than normal.    - The response to initial treatment.    - Whether the CLL has recurred (come back).        The prognosis (chance of recovery) depends on:         - Whether there is a change in the DNA and the type of change, if there is one.    - Whether lymphocytes are spread throughout the bone marrow.    - The stage of the disease.    - Whether the CLL gets better with treatment or has recurred (come back).    - Whether the CLL progresses to lymphoma or prolymphocytic leukemia.    - The patient's general health.",
         "0000001_3"
        ]
       ],
       "shape": {
        "columns": 3,
        "rows": 20
       }
      },
      "text/html": [
       "<div>\n",
       "<style scoped>\n",
       "    .dataframe tbody tr th:only-of-type {\n",
       "        vertical-align: middle;\n",
       "    }\n",
       "\n",
       "    .dataframe tbody tr th {\n",
       "        vertical-align: top;\n",
       "    }\n",
       "\n",
       "    .dataframe thead th {\n",
       "        text-align: right;\n",
       "    }\n",
       "</style>\n",
       "<table border=\"1\" class=\"dataframe\">\n",
       "  <thead>\n",
       "    <tr style=\"text-align: right;\">\n",
       "      <th></th>\n",
       "      <th>question</th>\n",
       "      <th>answer</th>\n",
       "      <th>source</th>\n",
       "    </tr>\n",
       "  </thead>\n",
       "  <tbody>\n",
       "    <tr>\n",
       "      <th>0</th>\n",
       "      <td>What is (are) Adult Acute Lymphoblastic Leukem...</td>\n",
       "      <td>Key Points\\n                    - Adult acute ...</td>\n",
       "      <td>0000001_1</td>\n",
       "    </tr>\n",
       "    <tr>\n",
       "      <th>1</th>\n",
       "      <td>What are the symptoms of Adult Acute Lymphobla...</td>\n",
       "      <td>Signs and symptoms of adult ALL include fever,...</td>\n",
       "      <td>0000001_1</td>\n",
       "    </tr>\n",
       "    <tr>\n",
       "      <th>2</th>\n",
       "      <td>How to diagnose Adult Acute Lymphoblastic Leuk...</td>\n",
       "      <td>Tests that examine the blood and bone marrow a...</td>\n",
       "      <td>0000001_1</td>\n",
       "    </tr>\n",
       "    <tr>\n",
       "      <th>3</th>\n",
       "      <td>What is the outlook for Adult Acute Lymphoblas...</td>\n",
       "      <td>Certain factors affect prognosis (chance of re...</td>\n",
       "      <td>0000001_1</td>\n",
       "    </tr>\n",
       "    <tr>\n",
       "      <th>4</th>\n",
       "      <td>Who is at risk for Adult Acute Lymphoblastic L...</td>\n",
       "      <td>Previous chemotherapy and exposure to radiatio...</td>\n",
       "      <td>0000001_1</td>\n",
       "    </tr>\n",
       "    <tr>\n",
       "      <th>5</th>\n",
       "      <td>What are the stages of Adult Acute Lymphoblast...</td>\n",
       "      <td>Key Points\\n                    - Once adult A...</td>\n",
       "      <td>0000001_1</td>\n",
       "    </tr>\n",
       "    <tr>\n",
       "      <th>6</th>\n",
       "      <td>What are the treatments for Adult Acute Lympho...</td>\n",
       "      <td>Key Points\\n                    - There are di...</td>\n",
       "      <td>0000001_1</td>\n",
       "    </tr>\n",
       "    <tr>\n",
       "      <th>7</th>\n",
       "      <td>What is (are) Adult Acute Myeloid Leukemia ?</td>\n",
       "      <td>Key Points\\n                    - Adult acute ...</td>\n",
       "      <td>0000001_2</td>\n",
       "    </tr>\n",
       "    <tr>\n",
       "      <th>8</th>\n",
       "      <td>Who is at risk for Adult Acute Myeloid Leukemi...</td>\n",
       "      <td>Smoking, previous chemotherapy treatment, and ...</td>\n",
       "      <td>0000001_2</td>\n",
       "    </tr>\n",
       "    <tr>\n",
       "      <th>9</th>\n",
       "      <td>What are the symptoms of Adult Acute Myeloid L...</td>\n",
       "      <td>Signs and symptoms of adult AML include fever,...</td>\n",
       "      <td>0000001_2</td>\n",
       "    </tr>\n",
       "    <tr>\n",
       "      <th>10</th>\n",
       "      <td>How to diagnose Adult Acute Myeloid Leukemia ?</td>\n",
       "      <td>Tests that examine the blood and bone marrow a...</td>\n",
       "      <td>0000001_2</td>\n",
       "    </tr>\n",
       "    <tr>\n",
       "      <th>11</th>\n",
       "      <td>What is the outlook for Adult Acute Myeloid Le...</td>\n",
       "      <td>Certain factors affect prognosis (chance of re...</td>\n",
       "      <td>0000001_2</td>\n",
       "    </tr>\n",
       "    <tr>\n",
       "      <th>12</th>\n",
       "      <td>What are the stages of Adult Acute Myeloid Leu...</td>\n",
       "      <td>Key Points\\n                    - Once adult a...</td>\n",
       "      <td>0000001_2</td>\n",
       "    </tr>\n",
       "    <tr>\n",
       "      <th>13</th>\n",
       "      <td>What are the treatments for Adult Acute Myeloi...</td>\n",
       "      <td>Key Points\\n                    - There are di...</td>\n",
       "      <td>0000001_2</td>\n",
       "    </tr>\n",
       "    <tr>\n",
       "      <th>14</th>\n",
       "      <td>what research (or clinical trials) is being do...</td>\n",
       "      <td>New types of treatment are being tested in cli...</td>\n",
       "      <td>0000001_2</td>\n",
       "    </tr>\n",
       "    <tr>\n",
       "      <th>15</th>\n",
       "      <td>What is (are) Chronic Lymphocytic Leukemia ?</td>\n",
       "      <td>Key Points\\n                    - Chronic lymp...</td>\n",
       "      <td>0000001_3</td>\n",
       "    </tr>\n",
       "    <tr>\n",
       "      <th>16</th>\n",
       "      <td>Who is at risk for Chronic Lymphocytic Leukemi...</td>\n",
       "      <td>Older age can affect the risk of developing ch...</td>\n",
       "      <td>0000001_3</td>\n",
       "    </tr>\n",
       "    <tr>\n",
       "      <th>17</th>\n",
       "      <td>What are the symptoms of Chronic Lymphocytic L...</td>\n",
       "      <td>Signs and symptoms of chronic lymphocytic leuk...</td>\n",
       "      <td>0000001_3</td>\n",
       "    </tr>\n",
       "    <tr>\n",
       "      <th>18</th>\n",
       "      <td>How to diagnose Chronic Lymphocytic Leukemia ?</td>\n",
       "      <td>Tests that examine the blood, bone marrow, and...</td>\n",
       "      <td>0000001_3</td>\n",
       "    </tr>\n",
       "    <tr>\n",
       "      <th>19</th>\n",
       "      <td>What is the outlook for Chronic Lymphocytic Le...</td>\n",
       "      <td>Certain factors affect treatment options and p...</td>\n",
       "      <td>0000001_3</td>\n",
       "    </tr>\n",
       "  </tbody>\n",
       "</table>\n",
       "</div>"
      ],
      "text/plain": [
       "                                             question  \\\n",
       "0   What is (are) Adult Acute Lymphoblastic Leukem...   \n",
       "1   What are the symptoms of Adult Acute Lymphobla...   \n",
       "2   How to diagnose Adult Acute Lymphoblastic Leuk...   \n",
       "3   What is the outlook for Adult Acute Lymphoblas...   \n",
       "4   Who is at risk for Adult Acute Lymphoblastic L...   \n",
       "5   What are the stages of Adult Acute Lymphoblast...   \n",
       "6   What are the treatments for Adult Acute Lympho...   \n",
       "7        What is (are) Adult Acute Myeloid Leukemia ?   \n",
       "8   Who is at risk for Adult Acute Myeloid Leukemi...   \n",
       "9   What are the symptoms of Adult Acute Myeloid L...   \n",
       "10     How to diagnose Adult Acute Myeloid Leukemia ?   \n",
       "11  What is the outlook for Adult Acute Myeloid Le...   \n",
       "12  What are the stages of Adult Acute Myeloid Leu...   \n",
       "13  What are the treatments for Adult Acute Myeloi...   \n",
       "14  what research (or clinical trials) is being do...   \n",
       "15       What is (are) Chronic Lymphocytic Leukemia ?   \n",
       "16  Who is at risk for Chronic Lymphocytic Leukemi...   \n",
       "17  What are the symptoms of Chronic Lymphocytic L...   \n",
       "18     How to diagnose Chronic Lymphocytic Leukemia ?   \n",
       "19  What is the outlook for Chronic Lymphocytic Le...   \n",
       "\n",
       "                                               answer     source  \n",
       "0   Key Points\\n                    - Adult acute ...  0000001_1  \n",
       "1   Signs and symptoms of adult ALL include fever,...  0000001_1  \n",
       "2   Tests that examine the blood and bone marrow a...  0000001_1  \n",
       "3   Certain factors affect prognosis (chance of re...  0000001_1  \n",
       "4   Previous chemotherapy and exposure to radiatio...  0000001_1  \n",
       "5   Key Points\\n                    - Once adult A...  0000001_1  \n",
       "6   Key Points\\n                    - There are di...  0000001_1  \n",
       "7   Key Points\\n                    - Adult acute ...  0000001_2  \n",
       "8   Smoking, previous chemotherapy treatment, and ...  0000001_2  \n",
       "9   Signs and symptoms of adult AML include fever,...  0000001_2  \n",
       "10  Tests that examine the blood and bone marrow a...  0000001_2  \n",
       "11  Certain factors affect prognosis (chance of re...  0000001_2  \n",
       "12  Key Points\\n                    - Once adult a...  0000001_2  \n",
       "13  Key Points\\n                    - There are di...  0000001_2  \n",
       "14  New types of treatment are being tested in cli...  0000001_2  \n",
       "15  Key Points\\n                    - Chronic lymp...  0000001_3  \n",
       "16  Older age can affect the risk of developing ch...  0000001_3  \n",
       "17  Signs and symptoms of chronic lymphocytic leuk...  0000001_3  \n",
       "18  Tests that examine the blood, bone marrow, and...  0000001_3  \n",
       "19  Certain factors affect treatment options and p...  0000001_3  "
      ]
     },
     "execution_count": 30,
     "metadata": {},
     "output_type": "execute_result"
    }
   ],
   "source": [
    "cancer_df.head(20)"
   ]
  },
  {
   "cell_type": "code",
   "execution_count": 31,
   "metadata": {},
   "outputs": [
    {
     "name": "stdout",
     "output_type": "stream",
     "text": [
      "<class 'pandas.core.frame.DataFrame'>\n",
      "RangeIndex: 729 entries, 0 to 728\n",
      "Data columns (total 3 columns):\n",
      " #   Column    Non-Null Count  Dtype \n",
      "---  ------    --------------  ----- \n",
      " 0   question  729 non-null    object\n",
      " 1   answer    729 non-null    object\n",
      " 2   source    729 non-null    object\n",
      "dtypes: object(3)\n",
      "memory usage: 17.2+ KB\n"
     ]
    }
   ],
   "source": [
    "cancer_df.info()"
   ]
  },
  {
   "cell_type": "code",
   "execution_count": 32,
   "metadata": {},
   "outputs": [
    {
     "data": {
      "application/vnd.microsoft.datawrangler.viewer.v0+json": {
       "columns": [
        {
         "name": "index",
         "rawType": "object",
         "type": "string"
        },
        {
         "name": "0",
         "rawType": "int64",
         "type": "integer"
        }
       ],
       "ref": "19e06a30-b723-4107-92ff-8674f9128447",
       "rows": [
        [
         "question",
         "0"
        ],
        [
         "answer",
         "0"
        ],
        [
         "source",
         "0"
        ]
       ],
       "shape": {
        "columns": 1,
        "rows": 3
       }
      },
      "text/plain": [
       "question    0\n",
       "answer      0\n",
       "source      0\n",
       "dtype: int64"
      ]
     },
     "execution_count": 32,
     "metadata": {},
     "output_type": "execute_result"
    }
   ],
   "source": [
    "cancer_df.isnull().sum()"
   ]
  },
  {
   "cell_type": "code",
   "execution_count": 33,
   "metadata": {},
   "outputs": [
    {
     "data": {
      "text/plain": [
       "729"
      ]
     },
     "execution_count": 33,
     "metadata": {},
     "output_type": "execute_result"
    }
   ],
   "source": [
    "len(cancer_df)"
   ]
  },
  {
   "cell_type": "code",
   "execution_count": 34,
   "metadata": {},
   "outputs": [
    {
     "data": {
      "text/plain": [
       "pandas.core.frame.DataFrame"
      ]
     },
     "execution_count": 34,
     "metadata": {},
     "output_type": "execute_result"
    }
   ],
   "source": [
    "type(cancer_df)"
   ]
  },
  {
   "cell_type": "markdown",
   "metadata": {},
   "source": [
    "## EXPLORITARY DATA ANALYSIS"
   ]
  },
  {
   "cell_type": "code",
   "execution_count": 35,
   "metadata": {},
   "outputs": [
    {
     "name": "stderr",
     "output_type": "stream",
     "text": [
      "[nltk_data] Downloading package wordnet to\n",
      "[nltk_data]     C:\\Users\\PapaDay\\AppData\\Roaming\\nltk_data...\n",
      "[nltk_data] Downloading package omw-1.4 to\n",
      "[nltk_data]     C:\\Users\\PapaDay\\AppData\\Roaming\\nltk_data...\n",
      "[nltk_data] Downloading package punkt to\n",
      "[nltk_data]     C:\\Users\\PapaDay\\AppData\\Roaming\\nltk_data...\n",
      "[nltk_data]   Package punkt is already up-to-date!\n",
      "[nltk_data] Downloading package stopwords to\n",
      "[nltk_data]     C:\\Users\\PapaDay\\AppData\\Roaming\\nltk_data...\n",
      "[nltk_data]   Package stopwords is already up-to-date!\n"
     ]
    },
    {
     "data": {
      "text/plain": [
       "True"
      ]
     },
     "execution_count": 35,
     "metadata": {},
     "output_type": "execute_result"
    }
   ],
   "source": [
    "\n",
    "nltk.download('wordnet')      \n",
    "nltk.download('omw-1.4')      \n",
    "nltk.download('punkt')        \n",
    "nltk.download('stopwords')    \n"
   ]
  },
  {
   "cell_type": "code",
   "execution_count": 36,
   "metadata": {},
   "outputs": [],
   "source": [
    "stop_words = set(stopwords.words('english'))\n",
    "lemmatizer = WordNetLemmatizer()\n",
    "def preprocess_text(text):\n",
    "    text = re.sub(r'\\W', ' ', text)  # Remove non-word characters\n",
    "    text = text.lower()  # Convert to lowercase\n",
    "    tokens = word_tokenize(text)  # Tokenize the text\n",
    "    tokens = [lemmatizer.lemmatize(word) for word in tokens if word not in stop_words]  # Lemmatize and remove stopwords\n",
    "    return ' '.join(tokens)\n"
   ]
  },
  {
   "cell_type": "code",
   "execution_count": null,
   "metadata": {},
   "outputs": [],
   "source": [
    "# Vectorization\n",
    "vectorizer = TfidfVectorizer(preprocessor=preprocess_text, stop_words='english')\n",
    "X = vectorizer.fit_transform(cancer_df['question'])\n",
    "y = cancer_df['answer']"
   ]
  },
  {
   "cell_type": "code",
   "execution_count": 40,
   "metadata": {},
   "outputs": [],
   "source": [
    "# train-test split\n",
    "from sklearn.model_selection import train_test_split\n",
    "X_train, X_test, y_train, y_test = train_test_split(X, y, test_size=0.2, random_state=42)\n"
   ]
  },
  {
   "cell_type": "code",
   "execution_count": 41,
   "metadata": {},
   "outputs": [
    {
     "name": "stdout",
     "output_type": "stream",
     "text": [
      "Number of unique answers: 705\n",
      "answer\n",
      "New types of treatment are being tested in clinical trials.\\n                    Information about clinical trials is available from the NCI website.\\n                \\n                \\n                    Patients may want to think about taking part in a clinical trial.\\n                    For some patients, taking part in a clinical trial may be the best treatment choice. Clinical trials are part of the cancer research process. Clinical trials are done to find out if new cancer treatments are safe and effective or better than the standard treatment.   Many of today's standard treatments for cancer are based on earlier clinical trials. Patients who take part in a clinical trial may receive the standard treatment or be among the first to receive a new treatment.   Patients who take part in clinical trials also help improve the way cancer will be treated in the future. Even when clinical trials do not lead to effective new treatments, they often answer important questions and help move research forward.\\n                \\n                \\n                    Patients can enter clinical trials before, during, or after starting their cancer treatment.\\n                    Some clinical trials only include patients who have not yet received treatment. Other trials test treatments for patients whose cancer has not gotten better. There are also clinical trials that test new ways to stop cancer from recurring (coming back) or reduce the side effects of cancer treatment.   Clinical trials are taking place in many parts of the country. See the Treatment Options section that follows for links to current treatment clinical trials. These have been retrieved from NCI's listing of clinical trials.                                                                                                                                                                                                                                                                                                                                                                                                                                                                                                                                                                                                                                                                                                                                                                                                                                                                                                                                                                                                                                                                                                                                                                                                                                                                                                                                                                                                                                                                                                                                                                                                                                                                                                                                                                                                                                                                                                                                                                                                                                                                                                                                                                                                                                                                                                                                                                                                                                                                                                                                                                                                                                                                                                                                                                                                                                                                                                                                                                                                                                                                                                                                                                                                                                                                                                                                                                                                                                                                                                                                                                                                                                                                                                                                                                                                                                                                                                                                                                                                                                                                                                                                                                                                                                                                                                                                                                                                                                                                                                                                                                                                                                                                                                                                                                                                                                                                                                                                                                                                                                                                                                                                                                                                                                                                                                                                                                                                                                                                                                                                                                                                                                                                                                                                                                                                                                                                                                                                                                                                                                                                                                                                                                                                                                                                                                                                                                                                                                                                                                                                                                                                                                                                                                                                                                                                                                                                                                                                                                                                                                                                                                                                                                                                                                                                                                                                                                                                                                                                                                                                                                                                                                                                                                                                                                                                                                                                                                                                                                                                                                                                                                                                                                                                                                                                                                                                                                                                                                                                                                                                                                                                                                                                                                                                                                                                                                                                                                                                                                                                                                                                                                                                                                                                                                                      22\n",
      "New types of treatment are being tested in clinical trials.\\n                    This summary section describes treatments that are being studied in clinical trials. It may not mention every new treatment being studied. Information about clinical trials is available from the NCI website.     Radiosensitizers     Radiosensitizers are drugs that make tumor cells more sensitive to radiation therapy. Combining radiation therapy with radiosensitizers may kill more tumor cells.\\n                \\n                \\n                    Patients may want to think about taking part in a clinical trial.\\n                    For some patients, taking part in a clinical trial may be the best treatment choice. Clinical trials are part of the cancer research process. Clinical trials are done to find out if new cancer treatments are safe and effective or better than the standard treatment.   Many of today's standard treatments for cancer are based on earlier clinical trials. Patients who take part in a clinical trial may receive the standard treatment or be among the first to receive a new treatment.   Patients who take part in clinical trials also help improve the way cancer will be treated in the future. Even when clinical trials do not lead to effective new treatments, they often answer important questions and help move research forward.\\n                \\n                \\n                    Patients can enter clinical trials before, during, or after starting their cancer treatment.\\n                    Some clinical trials only include patients who have not yet received treatment. Other trials test treatments for patients whose cancer has not gotten better. There are also clinical trials that test new ways to stop cancer from recurring (coming back) or reduce the side effects of cancer treatment.   Clinical trials are taking place in many parts of the country. See the Treatment Options section that follows for links to current treatment clinical trials. These have been retrieved from NCI's listing of clinical trials.                                                                                                                                                                                                                                                                                                                                                                                                                                                                                                                                                                                                                                                                                                                                                                                                                                                                                                                                                                                                                                                                                                                                                                                                                                                                                                                                                                                                                                                                                                                                                                                                                                                                                                                                                                                                                                                                                                                                                                                                                                                                                                                                                                                                                                                                                                                                                                                                                                                                                                                                                                                                                                                                                                                                                                                                                                                                                                                                                                                                                                                                                                                                                                                                                                                                                                                                                                                                                                                                                                                                                                                                                                                                                                                                                                                                                                                                                                                                                                                                                                                                                                                                                                                                                                                                                                                                                                                                                                                                                                                                                                                                                                                                                                                                                                                                                                                                                                                                                                                                                                                                                                                                                                                                                                                                                                                                                                                                                                                                                                                                                                                                                                                                                                                                                                                                                                                                                                                                                                                                                                                                                                                                                                                                                                                                                                                                                                                                                                                                                                                                                                                                                                                                                                                                                                                                                                                                                                                                                                                                                                                                                                                                                                                                                                                                                                                                                                                                                                                                                                                                                                                                                                                                                                                                                                                                                                                                                                                                                                                                                                                                                                                                                                                                                                                                                                                                                                                                                                                                                                                                                                                                                                                                                                                                                                                                                                                                                                                2\n",
      "The cause of most childhood brain tumors is unknown.                                                                                                                                                                                                                                                                                                                                                                                                                                                                                                                                                                                                                                                                                                                                                                                                                                                                                                                                                                                                                                                                                                                                                                                                                                                                                                                                                                                                                                                                                                                                                                                                                                                                                                                                                                                                                                                                                                                                                                                                                                                                                                                                                                                                                                                                                                                                                                                                                                                                                                                                                                                                                                                                                                                                                                                                                                                                                                                                                                                                                                                                                                                                                                                                                                                                                                                                                                                                                                                                                                                                                                                                                                                                                                                                                                                                                                                                                                                                                                                                                                                                                                                                                                                                                                                                                                                                                                                                                                                                                                                                                                                                                                                                                                                                                                                                                                                                                                                                                                                                                                                                                                                                                                                                                                                                                                                                                                                                                                                                                                                                                                                                                                                                                                                                                                                                                                                                                                                                                                                                                                                                                                                                                                                                                                                                                                                                                                                                                                                                                                                                                                                                                                                                                                                                                                                                                                                                                                                                                                                                                                                                                                                                                                                                                                                                                                                                                                                                                                                                                                                                                                                                                                                                                                                                                                                                                                                                                                                                                                                                                                                                                                                                                                                                                                                                                                                                                                                                                                                                                                                                                                                                                                                                                                                                                                                                                                                                                                                                                                                                                                                                                                                                                                                                                                                                                                                                                                                                                                                                                                                                                                                                                                                                                                                                                                                                                                                                                                                                                                                                                                                                                                                                                                                                                                                                                                                                                                                                                                                                                                                                                                                                                                                                                                                                                                                                                                                                                                                                                                                      2\n",
      "Key Points\\n                    - Avoiding risk factors and increasing protective factors may help prevent lung cancer.    - The following are risk factors for lung cancer:         - Cigarette, cigar, and pipe smoking      - Secondhand smoke     - Family history     - HIV infection     - Environmental risk factors     - Beta carotene supplements in heavy smokers        - The following are protective factors for lung cancer:         - Not smoking     - Quitting smoking     - Lower exposure to workplace risk factors      - Lower exposure to radon        - It is not clear if the following decrease the risk of lung cancer:         - Diet     - Physical activity        - The following do not decrease the risk of lung cancer:         - Beta carotene supplements in nonsmokers     - Vitamin E supplements         - Cancer prevention clinical trials are used to study ways to prevent cancer.    -  New ways to prevent lung cancer are being studied in clinical trials.\\n                \\n                \\n                    Avoiding risk factors and increasing protective factors may help prevent lung cancer.\\n                    Avoiding cancer risk factors may help prevent certain cancers. Risk factors include smoking, being overweight, and not getting enough exercise. Increasing protective factors such as quitting smoking and exercising may also help prevent some cancers. Talk to your doctor or other health care professional about how you might lower your risk of cancer.\\n                \\n                \\n                    The following are risk factors for lung cancer:\\n                    Cigarette, cigar, and pipe smoking      Tobacco smoking is the most important risk factor for lung cancer. Cigarette, cigar, and pipe smoking all increase the risk of lung cancer. Tobacco smoking causes about 9 out of 10 cases of lung cancer in men and about 8 out of 10 cases of lung cancer in women.    Studies have shown that smoking low tar or low nicotine cigarettes does not lower the risk of lung cancer.     Studies also show that the risk of lung cancer from smoking cigarettes increases with the number of cigarettes smoked per day and the number of years smoked. People who smoke have about 20 times the risk of lung cancer compared to those who do not smoke.       Secondhand smoke    Being exposed to secondhand tobacco smoke is also a risk factor for lung cancer. Secondhand smoke is the smoke that comes from a burning cigarette or other tobacco product, or that is exhaled by smokers. People who inhale secondhand smoke are exposed to the same cancer -causing agents as smokers, although in smaller amounts. Inhaling secondhand smoke is called involuntary or passive smoking.       Family history    Having a family history of lung cancer is a risk factor for lung cancer. People with a relative who has had lung cancer may be twice as likely to have lung cancer as people who do not have a relative who has had lung cancer. Because cigarette smoking tends to run in families and family members are exposed to secondhand smoke, it is hard to know whether the increased risk of lung cancer is from the family history of lung cancer or from being exposed to cigarette smoke.       HIV infection    Being infected with the human immunodeficiency virus (HIV), the cause of acquired immunodeficiency syndrome (AIDS), is linked with a higher risk of lung cancer. People infected with HIV may have more than twice the risk of lung cancer than those who are not infected. Since smoking rates are higher in those infected with HIV than in those not infected, it is not clear whether the increased risk of lung cancer is from HIV infection or from being exposed to cigarette smoke.        Environmental risk factors            -   Radiation exposure: Being exposed to radiation is a risk factor for lung cancer. Atomic bomb radiation, radiation therapy, imaging tests, and radon are sources of radiation exposure:                   - Atomic bomb radiation: Being exposed to radiation after an atomic bomb explosion increases the risk of lung cancer.       - Radiation therapy: Radiation therapy to the chest may be used to treat certain cancers, including breast cancer and Hodgkin lymphoma. Radiation therapy uses x-rays, gamma rays, or other types of radiation that may increase the risk of lung cancer. The higher the dose of radiation received, the higher the risk. The risk of lung cancer following radiation therapy is higher in patients who smoke than in nonsmokers.       - Imaging tests: Imaging tests, such as CT scans, expose patients to radiation. Low-dose spiral CT scans expose patients to less radiation than higher dose CT scans. In lung cancer screening, the use of low-dose spiral CT scans can lessen the harmful effects of radiation.       - Radon: Radon is a radioactive gas that comes from the breakdown of uranium in rocks and soil. It seeps up through the ground, and leaks into the air or water supply. Radon can enter homes through cracks in floors, walls, or the foundation, and levels of radon can build up over time.             Studies show that high levels of radon gas inside the home or workplace increase the number of new cases of lung cancer and the number of deaths caused by lung cancer. The risk of lung cancer is higher in smokers exposed to radon than in nonsmokers who are exposed to it. In people who have never smoked, about 30% of deaths caused by lung cancer have been linked to being exposed to radon.     -  Workplace exposure: Studies show that being exposed to the following substances increases the risk of lung cancer:                  -  Asbestos.       -  Arsenic.       - Chromium.       - Nickel.       - Beryllium.       -  Cadmium.       - Tar and soot.            These substances can cause lung cancer in people who are exposed to them in the workplace and have never smoked. As the level of exposure to these substances increases, the risk of lung cancer also increases. The risk of lung cancer is even higher in people who are exposed and also smoke.      -  Air pollution: Studies show that living in areas with higher levels of air pollution increases the risk of lung cancer.              Beta carotene supplements in heavy smokers    Taking beta carotene supplements (pills) increases the risk of lung cancer, especially in smokers who smoke one or more packs a day. The risk is higher in smokers who have at least one alcoholic drink every day.\\n                \\n                \\n                    The following are protective factors for lung cancer:\\n                    Not smoking    The best way to prevent lung cancer is to not smoke.       Quitting smoking    Smokers can decrease their risk of lung cancer by quitting. In smokers who have been treated for lung cancer, quitting smoking lowers the risk of new lung cancers. Counseling, the use of nicotine replacement products, and antidepressant therapy have helped smokers quit for good.    In a person who has quit smoking, the chance of preventing lung cancer depends on how many years and how much the person smoked and the length of time since quitting. After a person has quit smoking for 10 years, the risk of lung cancer decreases 30% to 50%.    See the following for more information on quitting smoking:            -  Tobacco (includes help with quitting)     -  Cigarette Smoking: Health Risks and How to Quit               Lower exposure to workplace risk factors     Laws that protect workers from being exposed to cancer-causing substances, such as asbestos, arsenic, nickel, and chromium, may help lower their risk of developing lung cancer. Laws that prevent smoking in the workplace help lower the risk of lung cancer caused by secondhand smoke.       Lower exposure to radon     Lowering radon levels may lower the risk of lung cancer, especially among cigarette smokers. High levels of radon in homes may be reduced by taking steps to prevent radon leakage, such as sealing basements.\\n                \\n                \\n                    It is not clear if the following decrease the risk of lung cancer:\\n                    Diet     Some studies show that people who eat high amounts of fruits or vegetables have a lower risk of lung cancer than those who eat low amounts. However, since smokers tend to have less healthy diets than nonsmokers, it is hard to know whether the decreased risk is from having a healthy diet or from not smoking.       Physical activity    Some studies show that people who are physically active have a lower risk of lung cancer than people who are not. However, since smokers tend to have different levels of physical activity than nonsmokers, it is hard to know if physical activity affects the risk of lung cancer.\\n                \\n                \\n                    The following do not decrease the risk of lung cancer:\\n                    Beta carotene supplements in nonsmokers    Studies of nonsmokers show that taking beta carotene supplements does not lower their risk of lung cancer.       Vitamin E supplements      Studies show that taking vitamin E supplements does not affect the risk of lung cancer.\\n                \\n                \\n                    Cancer prevention clinical trials are used to study ways to prevent cancer.\\n                    Cancer prevention clinical trials are used to study ways to lower the risk of developing certain types of cancer. Some cancer prevention trials are conducted with healthy people who have not had cancer but who have an increased risk for cancer. Other prevention trials are conducted with people who have had cancer and are trying to prevent another cancer of the same type or to lower their chance of developing a new type of cancer. Other trials are done with healthy volunteers who are not known to have any risk factors for cancer.    The purpose of some cancer prevention clinical trials is to find out whether actions people take can prevent cancer. These may include eating fruits and vegetables, exercising, quitting smoking, or taking certain medicines, vitamins, minerals, or food supplements.\\n                \\n                \\n                    New ways to prevent lung cancer are being studied in clinical trials.\\n                    Clinical trials are taking place in many parts of the country. Information about clinical trials can be found in the Clinical Trials section of the NCI website. Check the list of NCI-supported cancer clinical trials for prevention trials for non-small cell lung cancer and small cell lung cancer that are now accepting patients. These include trials for quitting smoking.     2\n",
      "Key Points\\n                    - Adult acute lymphoblastic leukemia (ALL) is a type of cancer in which the bone marrow makes too many lymphocytes (a type of white blood cell).    - Leukemia may affect red blood cells, white blood cells, and platelets.    - Previous chemotherapy and exposure to radiation may increase the risk of developing ALL.    - Signs and symptoms of adult ALL include fever, feeling tired, and easy bruising or bleeding.     - Tests that examine the blood and bone marrow are used to detect (find) and diagnose adult ALL.    - Certain factors affect prognosis (chance of recovery) and treatment options.\\n                \\n                \\n                    Adult acute lymphoblastic leukemia (ALL) is a type of cancer in which the bone marrow makes too many lymphocytes (a type of white blood cell).\\n                    Adult acute lymphoblastic leukemia (ALL; also called acute lymphocytic leukemia) is a cancer of the blood and bone marrow. This type of cancer usually gets worse quickly if it is not treated.\\n                \\n                \\n                    Leukemia may affect red blood cells, white blood cells, and platelets.\\n                    Normally, the bone marrow makes blood stem cells (immature cells) that become mature blood cells over time. A blood stem cell may become a myeloid stem cell or a lymphoid stem cell.   A myeloid stem cell becomes one of three types of mature blood cells:          -  Red blood cells that carry oxygen and other substances to all tissues of the body.    -  Platelets that form blood clots to stop bleeding.    -  Granulocytes (white blood cells) that fight infection and disease.         A lymphoid stem cell becomes a lymphoblast cell and then one of three types of lymphocytes (white blood cells):         -  B lymphocytes that make antibodies to help fight infection.    -  T lymphocytes that help B lymphocytes make the antibodies that help fight infection.    -  Natural killer cells that attack cancer cells and viruses.         In ALL, too many stem cells become lymphoblasts, B lymphocytes, or T lymphocytes. These cells are also called leukemia cells. These leukemia cells are not able to fight infection very well. Also, as the number of leukemia cells increases in the blood and bone marrow, there is less room for healthy white blood cells, red blood cells, and platelets. This may cause infection, anemia, and easy bleeding. The cancer can also spread to the central nervous system (brain and spinal cord).     This summary is about adult acute lymphoblastic leukemia. See the following PDQ summaries for information about other types of leukemia:          -  Childhood Acute Lymphoblastic Leukemia Treatment.    -  Adult Acute Myeloid Leukemia Treatment.    -  Childhood Acute Myeloid Leukemia/Other Myeloid Malignancies Treatment.    -  Chronic Lymphocytic Leukemia Treatment.    -  Chronic Myelogenous Leukemia Treatment.    -  Hairy Cell Leukemia Treatment.                                                                                                                                                                                                                                                                                                                                                                                                                                                                                                                                                                                                                                                                                                                                                                                                                                                                                                                                                                                                                                                                                                                                                                                                                                                                                                                                                                                                                                                                                                                                                                                                                                                                                                                                                                                                                                                                                                                                                                                                                                                                                                                                                                                                                                                                                                                                                                                                                                                                                                                                                                                                                                                                                                                                                                                                                                                                                                                                                                                                                                                                                                                                                                                                                                                                                                                                                                                                                                                                                                                                                                                                                                                                                                                                                                                                                                                                                                                                                                                                                                                                                                                                                                                                                                                                                                                                                                                                                                                                                                                                                                                                                                                                                                                                                                                                                                                                                                                                                                                                                                                                                                                                                                                                                                                                                                                                                                                                                                                                                                                                                                                                                                                                                                                                                                                                                                                                                                                                                                                                                                                                                                                                                                                                                                                                                                                                                                                                                                                                                                                                                                                                                                                                                                                                                                                                                                                                                                                                                                                                                                                                                                                                                                                                                                                                                                                                                                                                                                                                                                                                                                                                                                                                                                                                                                                                                                                                                                                                                        1\n",
      "Name: count, dtype: int64\n"
     ]
    }
   ],
   "source": [
    "print(f\"Number of unique answers: {cancer_df['answer'].nunique()}\")\n",
    "print(cancer_df['answer'].value_counts().head(5))\n"
   ]
  },
  {
   "cell_type": "code",
   "execution_count": null,
   "metadata": {},
   "outputs": [],
   "source": [
    "# Training a model\n",
    "from sklearn.ensemble import RandomForestClassifier\n",
    "model = RandomForestClassifier(n_estimators=100, random_state=42)\n",
    "model.fit(X_train, y_train)\n",
    "\n",
    "# Predicting answers for the test set\n",
    "y_pred = model.predict(X_test)\n",
    "\n"
   ]
  }
 ],
 "metadata": {
  "kernelspec": {
   "display_name": "base",
   "language": "python",
   "name": "python3"
  },
  "language_info": {
   "codemirror_mode": {
    "name": "ipython",
    "version": 3
   },
   "file_extension": ".py",
   "mimetype": "text/x-python",
   "name": "python",
   "nbconvert_exporter": "python",
   "pygments_lexer": "ipython3",
   "version": "3.11.7"
  }
 },
 "nbformat": 4,
 "nbformat_minor": 2
}
