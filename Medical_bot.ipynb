{
 "cells": [
  {
   "cell_type": "markdown",
   "metadata": {},
   "source": [
    "## DATA UNDERSTANDING"
   ]
  },
  {
   "cell_type": "code",
   "execution_count": 117,
   "metadata": {},
   "outputs": [],
   "source": [
    "import pandas as pd\n",
    "import nltk\n",
    "import re\n",
    "from nltk.corpus import stopwords\n",
    "from nltk.tokenize import word_tokenize\n",
    "from nltk.stem import WordNetLemmatizer\n",
    "from sklearn.feature_extraction.text import TfidfVectorizer\n",
    "from sklearn.metrics.pairwise import cosine_similarity\n",
    "import numpy as np\n",
    "import warnings\n",
    "import xml.etree.ElementTree as ET\n",
    "warnings.filterwarnings('ignore')\n",
    "import os\n"
   ]
  },
  {
   "cell_type": "code",
   "execution_count": 118,
   "metadata": {},
   "outputs": [
    {
     "data": {
      "text/plain": [
       "\"\\n#Cell already run\\nnltk.download('punkt')\\nnltk.download('stopwords')\\nnltk.download('wordnet')\\n\""
      ]
     },
     "execution_count": 118,
     "metadata": {},
     "output_type": "execute_result"
    }
   ],
   "source": [
    "\"\"\"\n",
    "#Cell already run\n",
    "nltk.download('punkt')\n",
    "nltk.download('stopwords')\n",
    "nltk.download('wordnet')\n",
    "\"\"\""
   ]
  },
  {
   "cell_type": "code",
   "execution_count": 119,
   "metadata": {},
   "outputs": [],
   "source": [
    "class CancerQALoader:\n",
    "    def __init__(self, filepath):\n",
    "        self.filepath = filepath\n",
    "        self.questions = []\n",
    "        self.answers = []\n",
    "        self.root = None\n",
    "        self.source = os.path.splitext(os.path.basename(filepath))[0] \n",
    "\n",
    "    def parse_xml(self):\n",
    "        try:\n",
    "            tree = ET.parse(self.filepath)\n",
    "            self.root = tree.getroot()\n",
    "        except ET.ParseError as e:\n",
    "            print(f\"Error parsing XML in {self.filepath}: {e}\")\n",
    "        except FileNotFoundError:\n",
    "            print(f\"File not found: {self.filepath}\")\n",
    "\n",
    "    def extract_qa_pairs(self):\n",
    "        if self.root is None:\n",
    "            return\n",
    "\n",
    "        for qa_pair in self.root.findall('.//QAPair'):\n",
    "            question = qa_pair.find('Question').text\n",
    "            answer = qa_pair.find('Answer').text\n",
    "            if question and answer:\n",
    "                self.questions.append(question)\n",
    "                self.answers.append(answer)\n",
    "\n",
    "    def get_dataframe(self):\n",
    "        return pd.DataFrame({\n",
    "            'question': self.questions,\n",
    "            'answer': self.answers,\n",
    "            'source': [self.source] * len(self.questions)  # Add source to each row\n",
    "        })\n",
    "\n",
    "    def load_all_qa_from_folder(folder_path):\n",
    "        all_dfs = []\n",
    "\n",
    "        for filename in os.listdir(folder_path):\n",
    "            if filename.endswith(\".xml\"):\n",
    "                full_path = os.path.join(folder_path, filename)\n",
    "                loader = CancerQALoader(full_path)\n",
    "                loader.parse_xml()\n",
    "                loader.extract_qa_pairs()\n",
    "                df = loader.get_dataframe()\n",
    "                all_dfs.append(df)\n",
    "\n",
    "        return pd.concat(all_dfs, ignore_index=True)"
   ]
  },
  {
   "cell_type": "code",
   "execution_count": 120,
   "metadata": {},
   "outputs": [],
   "source": [
    "folder = \"1_CancerGov_QA\"\n",
    "cancer_df = CancerQALoader.load_all_qa_from_folder(folder)"
   ]
  },
  {
   "cell_type": "code",
   "execution_count": 121,
   "metadata": {},
   "outputs": [
    {
     "name": "stdout",
     "output_type": "stream",
     "text": [
      "Reading 116 files\n"
     ]
    }
   ],
   "source": [
    "print(f\"Reading {cancer_df['source'].nunique()} files\")"
   ]
  },
  {
   "cell_type": "code",
   "execution_count": 122,
   "metadata": {},
   "outputs": [
    {
     "data": {
      "text/html": [
       "<div>\n",
       "<style scoped>\n",
       "    .dataframe tbody tr th:only-of-type {\n",
       "        vertical-align: middle;\n",
       "    }\n",
       "\n",
       "    .dataframe tbody tr th {\n",
       "        vertical-align: top;\n",
       "    }\n",
       "\n",
       "    .dataframe thead th {\n",
       "        text-align: right;\n",
       "    }\n",
       "</style>\n",
       "<table border=\"1\" class=\"dataframe\">\n",
       "  <thead>\n",
       "    <tr style=\"text-align: right;\">\n",
       "      <th></th>\n",
       "      <th>question</th>\n",
       "      <th>answer</th>\n",
       "      <th>source</th>\n",
       "    </tr>\n",
       "  </thead>\n",
       "  <tbody>\n",
       "    <tr>\n",
       "      <th>0</th>\n",
       "      <td>What is (are) Adult Acute Lymphoblastic Leukem...</td>\n",
       "      <td>Key Points\\n                    - Adult acute ...</td>\n",
       "      <td>0000001_1</td>\n",
       "    </tr>\n",
       "    <tr>\n",
       "      <th>1</th>\n",
       "      <td>What are the symptoms of Adult Acute Lymphobla...</td>\n",
       "      <td>Signs and symptoms of adult ALL include fever,...</td>\n",
       "      <td>0000001_1</td>\n",
       "    </tr>\n",
       "    <tr>\n",
       "      <th>2</th>\n",
       "      <td>How to diagnose Adult Acute Lymphoblastic Leuk...</td>\n",
       "      <td>Tests that examine the blood and bone marrow a...</td>\n",
       "      <td>0000001_1</td>\n",
       "    </tr>\n",
       "    <tr>\n",
       "      <th>3</th>\n",
       "      <td>What is the outlook for Adult Acute Lymphoblas...</td>\n",
       "      <td>Certain factors affect prognosis (chance of re...</td>\n",
       "      <td>0000001_1</td>\n",
       "    </tr>\n",
       "    <tr>\n",
       "      <th>4</th>\n",
       "      <td>Who is at risk for Adult Acute Lymphoblastic L...</td>\n",
       "      <td>Previous chemotherapy and exposure to radiatio...</td>\n",
       "      <td>0000001_1</td>\n",
       "    </tr>\n",
       "    <tr>\n",
       "      <th>5</th>\n",
       "      <td>What are the stages of Adult Acute Lymphoblast...</td>\n",
       "      <td>Key Points\\n                    - Once adult A...</td>\n",
       "      <td>0000001_1</td>\n",
       "    </tr>\n",
       "    <tr>\n",
       "      <th>6</th>\n",
       "      <td>What are the treatments for Adult Acute Lympho...</td>\n",
       "      <td>Key Points\\n                    - There are di...</td>\n",
       "      <td>0000001_1</td>\n",
       "    </tr>\n",
       "    <tr>\n",
       "      <th>7</th>\n",
       "      <td>What is (are) Adult Acute Myeloid Leukemia ?</td>\n",
       "      <td>Key Points\\n                    - Adult acute ...</td>\n",
       "      <td>0000001_2</td>\n",
       "    </tr>\n",
       "    <tr>\n",
       "      <th>8</th>\n",
       "      <td>Who is at risk for Adult Acute Myeloid Leukemi...</td>\n",
       "      <td>Smoking, previous chemotherapy treatment, and ...</td>\n",
       "      <td>0000001_2</td>\n",
       "    </tr>\n",
       "    <tr>\n",
       "      <th>9</th>\n",
       "      <td>What are the symptoms of Adult Acute Myeloid L...</td>\n",
       "      <td>Signs and symptoms of adult AML include fever,...</td>\n",
       "      <td>0000001_2</td>\n",
       "    </tr>\n",
       "    <tr>\n",
       "      <th>10</th>\n",
       "      <td>How to diagnose Adult Acute Myeloid Leukemia ?</td>\n",
       "      <td>Tests that examine the blood and bone marrow a...</td>\n",
       "      <td>0000001_2</td>\n",
       "    </tr>\n",
       "    <tr>\n",
       "      <th>11</th>\n",
       "      <td>What is the outlook for Adult Acute Myeloid Le...</td>\n",
       "      <td>Certain factors affect prognosis (chance of re...</td>\n",
       "      <td>0000001_2</td>\n",
       "    </tr>\n",
       "    <tr>\n",
       "      <th>12</th>\n",
       "      <td>What are the stages of Adult Acute Myeloid Leu...</td>\n",
       "      <td>Key Points\\n                    - Once adult a...</td>\n",
       "      <td>0000001_2</td>\n",
       "    </tr>\n",
       "    <tr>\n",
       "      <th>13</th>\n",
       "      <td>What are the treatments for Adult Acute Myeloi...</td>\n",
       "      <td>Key Points\\n                    - There are di...</td>\n",
       "      <td>0000001_2</td>\n",
       "    </tr>\n",
       "    <tr>\n",
       "      <th>14</th>\n",
       "      <td>what research (or clinical trials) is being do...</td>\n",
       "      <td>New types of treatment are being tested in cli...</td>\n",
       "      <td>0000001_2</td>\n",
       "    </tr>\n",
       "    <tr>\n",
       "      <th>15</th>\n",
       "      <td>What is (are) Chronic Lymphocytic Leukemia ?</td>\n",
       "      <td>Key Points\\n                    - Chronic lymp...</td>\n",
       "      <td>0000001_3</td>\n",
       "    </tr>\n",
       "    <tr>\n",
       "      <th>16</th>\n",
       "      <td>Who is at risk for Chronic Lymphocytic Leukemi...</td>\n",
       "      <td>Older age can affect the risk of developing ch...</td>\n",
       "      <td>0000001_3</td>\n",
       "    </tr>\n",
       "    <tr>\n",
       "      <th>17</th>\n",
       "      <td>What are the symptoms of Chronic Lymphocytic L...</td>\n",
       "      <td>Signs and symptoms of chronic lymphocytic leuk...</td>\n",
       "      <td>0000001_3</td>\n",
       "    </tr>\n",
       "    <tr>\n",
       "      <th>18</th>\n",
       "      <td>How to diagnose Chronic Lymphocytic Leukemia ?</td>\n",
       "      <td>Tests that examine the blood, bone marrow, and...</td>\n",
       "      <td>0000001_3</td>\n",
       "    </tr>\n",
       "    <tr>\n",
       "      <th>19</th>\n",
       "      <td>What is the outlook for Chronic Lymphocytic Le...</td>\n",
       "      <td>Certain factors affect treatment options and p...</td>\n",
       "      <td>0000001_3</td>\n",
       "    </tr>\n",
       "  </tbody>\n",
       "</table>\n",
       "</div>"
      ],
      "text/plain": [
       "                                             question  \\\n",
       "0   What is (are) Adult Acute Lymphoblastic Leukem...   \n",
       "1   What are the symptoms of Adult Acute Lymphobla...   \n",
       "2   How to diagnose Adult Acute Lymphoblastic Leuk...   \n",
       "3   What is the outlook for Adult Acute Lymphoblas...   \n",
       "4   Who is at risk for Adult Acute Lymphoblastic L...   \n",
       "5   What are the stages of Adult Acute Lymphoblast...   \n",
       "6   What are the treatments for Adult Acute Lympho...   \n",
       "7        What is (are) Adult Acute Myeloid Leukemia ?   \n",
       "8   Who is at risk for Adult Acute Myeloid Leukemi...   \n",
       "9   What are the symptoms of Adult Acute Myeloid L...   \n",
       "10     How to diagnose Adult Acute Myeloid Leukemia ?   \n",
       "11  What is the outlook for Adult Acute Myeloid Le...   \n",
       "12  What are the stages of Adult Acute Myeloid Leu...   \n",
       "13  What are the treatments for Adult Acute Myeloi...   \n",
       "14  what research (or clinical trials) is being do...   \n",
       "15       What is (are) Chronic Lymphocytic Leukemia ?   \n",
       "16  Who is at risk for Chronic Lymphocytic Leukemi...   \n",
       "17  What are the symptoms of Chronic Lymphocytic L...   \n",
       "18     How to diagnose Chronic Lymphocytic Leukemia ?   \n",
       "19  What is the outlook for Chronic Lymphocytic Le...   \n",
       "\n",
       "                                               answer     source  \n",
       "0   Key Points\\n                    - Adult acute ...  0000001_1  \n",
       "1   Signs and symptoms of adult ALL include fever,...  0000001_1  \n",
       "2   Tests that examine the blood and bone marrow a...  0000001_1  \n",
       "3   Certain factors affect prognosis (chance of re...  0000001_1  \n",
       "4   Previous chemotherapy and exposure to radiatio...  0000001_1  \n",
       "5   Key Points\\n                    - Once adult A...  0000001_1  \n",
       "6   Key Points\\n                    - There are di...  0000001_1  \n",
       "7   Key Points\\n                    - Adult acute ...  0000001_2  \n",
       "8   Smoking, previous chemotherapy treatment, and ...  0000001_2  \n",
       "9   Signs and symptoms of adult AML include fever,...  0000001_2  \n",
       "10  Tests that examine the blood and bone marrow a...  0000001_2  \n",
       "11  Certain factors affect prognosis (chance of re...  0000001_2  \n",
       "12  Key Points\\n                    - Once adult a...  0000001_2  \n",
       "13  Key Points\\n                    - There are di...  0000001_2  \n",
       "14  New types of treatment are being tested in cli...  0000001_2  \n",
       "15  Key Points\\n                    - Chronic lymp...  0000001_3  \n",
       "16  Older age can affect the risk of developing ch...  0000001_3  \n",
       "17  Signs and symptoms of chronic lymphocytic leuk...  0000001_3  \n",
       "18  Tests that examine the blood, bone marrow, and...  0000001_3  \n",
       "19  Certain factors affect treatment options and p...  0000001_3  "
      ]
     },
     "execution_count": 122,
     "metadata": {},
     "output_type": "execute_result"
    }
   ],
   "source": [
    "cancer_df.head(20)"
   ]
  },
  {
   "cell_type": "code",
   "execution_count": 123,
   "metadata": {},
   "outputs": [
    {
     "data": {
      "text/plain": [
       "(729, 3)"
      ]
     },
     "execution_count": 123,
     "metadata": {},
     "output_type": "execute_result"
    }
   ],
   "source": [
    "cancer_df.shape"
   ]
  },
  {
   "cell_type": "code",
   "execution_count": 124,
   "metadata": {},
   "outputs": [
    {
     "name": "stdout",
     "output_type": "stream",
     "text": [
      "<class 'pandas.core.frame.DataFrame'>\n",
      "RangeIndex: 729 entries, 0 to 728\n",
      "Data columns (total 3 columns):\n",
      " #   Column    Non-Null Count  Dtype \n",
      "---  ------    --------------  ----- \n",
      " 0   question  729 non-null    object\n",
      " 1   answer    729 non-null    object\n",
      " 2   source    729 non-null    object\n",
      "dtypes: object(3)\n",
      "memory usage: 17.2+ KB\n"
     ]
    }
   ],
   "source": [
    "cancer_df.info()"
   ]
  },
  {
   "cell_type": "code",
   "execution_count": 125,
   "metadata": {},
   "outputs": [
    {
     "data": {
      "text/plain": [
       "question    0\n",
       "answer      0\n",
       "source      0\n",
       "dtype: int64"
      ]
     },
     "execution_count": 125,
     "metadata": {},
     "output_type": "execute_result"
    }
   ],
   "source": [
    "cancer_df.isnull().sum()"
   ]
  },
  {
   "cell_type": "code",
   "execution_count": 126,
   "metadata": {},
   "outputs": [
    {
     "data": {
      "text/plain": [
       "729"
      ]
     },
     "execution_count": 126,
     "metadata": {},
     "output_type": "execute_result"
    }
   ],
   "source": [
    "len(cancer_df)"
   ]
  },
  {
   "cell_type": "code",
   "execution_count": 127,
   "metadata": {},
   "outputs": [
    {
     "data": {
      "text/plain": [
       "pandas.core.frame.DataFrame"
      ]
     },
     "execution_count": 127,
     "metadata": {},
     "output_type": "execute_result"
    }
   ],
   "source": [
    "type(cancer_df)"
   ]
  },
  {
   "cell_type": "code",
   "execution_count": 128,
   "metadata": {},
   "outputs": [
    {
     "name": "stdout",
     "output_type": "stream",
     "text": [
      "Total duplicate questions: 78\n"
     ]
    },
    {
     "data": {
      "text/html": [
       "<div>\n",
       "<style scoped>\n",
       "    .dataframe tbody tr th:only-of-type {\n",
       "        vertical-align: middle;\n",
       "    }\n",
       "\n",
       "    .dataframe tbody tr th {\n",
       "        vertical-align: top;\n",
       "    }\n",
       "\n",
       "    .dataframe thead th {\n",
       "        text-align: right;\n",
       "    }\n",
       "</style>\n",
       "<table border=\"1\" class=\"dataframe\">\n",
       "  <thead>\n",
       "    <tr style=\"text-align: right;\">\n",
       "      <th></th>\n",
       "      <th>question</th>\n",
       "      <th>answer</th>\n",
       "      <th>source</th>\n",
       "    </tr>\n",
       "  </thead>\n",
       "  <tbody>\n",
       "    <tr>\n",
       "      <th>22</th>\n",
       "      <td>What is (are) Chronic Myelogenous Leukemia ?</td>\n",
       "      <td>Key Points\\n                    - Chronic myel...</td>\n",
       "      <td>0000001_4</td>\n",
       "    </tr>\n",
       "    <tr>\n",
       "      <th>29</th>\n",
       "      <td>What are the treatments for Chronic Myelogenou...</td>\n",
       "      <td>Key Points\\n                    - There are di...</td>\n",
       "      <td>0000001_4</td>\n",
       "    </tr>\n",
       "    <tr>\n",
       "      <th>246</th>\n",
       "      <td>What is (are) Liver (Hepatocellular) Cancer ?</td>\n",
       "      <td>Key Points\\n                    - Liver cancer...</td>\n",
       "      <td>0000007_4</td>\n",
       "    </tr>\n",
       "    <tr>\n",
       "      <th>247</th>\n",
       "      <td>Who is at risk for Liver (Hepatocellular) Canc...</td>\n",
       "      <td>Being infected with certain types of the hepat...</td>\n",
       "      <td>0000007_4</td>\n",
       "    </tr>\n",
       "    <tr>\n",
       "      <th>250</th>\n",
       "      <td>What is (are) Liver (Hepatocellular) Cancer ?</td>\n",
       "      <td>Key Points\\n                    - Liver cancer...</td>\n",
       "      <td>0000007_5</td>\n",
       "    </tr>\n",
       "    <tr>\n",
       "      <th>...</th>\n",
       "      <td>...</td>\n",
       "      <td>...</td>\n",
       "      <td>...</td>\n",
       "    </tr>\n",
       "    <tr>\n",
       "      <th>678</th>\n",
       "      <td>Who is at risk for Prostate Cancer? ?</td>\n",
       "      <td>Different factors increase or decrease the ris...</td>\n",
       "      <td>0000036_3</td>\n",
       "    </tr>\n",
       "    <tr>\n",
       "      <th>695</th>\n",
       "      <td>What is (are) Colorectal Cancer ?</td>\n",
       "      <td>Key Points\\n                    - Colorectal c...</td>\n",
       "      <td>0000037_3</td>\n",
       "    </tr>\n",
       "    <tr>\n",
       "      <th>697</th>\n",
       "      <td>Who is at risk for Colorectal Cancer? ?</td>\n",
       "      <td>Key Points\\n                    - Avoiding ris...</td>\n",
       "      <td>0000037_3</td>\n",
       "    </tr>\n",
       "    <tr>\n",
       "      <th>699</th>\n",
       "      <td>What is (are) Colorectal Cancer ?</td>\n",
       "      <td>Key Points\\n                    - Colorectal c...</td>\n",
       "      <td>0000037_4</td>\n",
       "    </tr>\n",
       "    <tr>\n",
       "      <th>700</th>\n",
       "      <td>Who is at risk for Colorectal Cancer? ?</td>\n",
       "      <td>Different factors increase or decrease the ris...</td>\n",
       "      <td>0000037_4</td>\n",
       "    </tr>\n",
       "  </tbody>\n",
       "</table>\n",
       "<p>78 rows × 3 columns</p>\n",
       "</div>"
      ],
      "text/plain": [
       "                                              question  \\\n",
       "22        What is (are) Chronic Myelogenous Leukemia ?   \n",
       "29   What are the treatments for Chronic Myelogenou...   \n",
       "246      What is (are) Liver (Hepatocellular) Cancer ?   \n",
       "247  Who is at risk for Liver (Hepatocellular) Canc...   \n",
       "250      What is (are) Liver (Hepatocellular) Cancer ?   \n",
       "..                                                 ...   \n",
       "678              Who is at risk for Prostate Cancer? ?   \n",
       "695                  What is (are) Colorectal Cancer ?   \n",
       "697            Who is at risk for Colorectal Cancer? ?   \n",
       "699                  What is (are) Colorectal Cancer ?   \n",
       "700            Who is at risk for Colorectal Cancer? ?   \n",
       "\n",
       "                                                answer     source  \n",
       "22   Key Points\\n                    - Chronic myel...  0000001_4  \n",
       "29   Key Points\\n                    - There are di...  0000001_4  \n",
       "246  Key Points\\n                    - Liver cancer...  0000007_4  \n",
       "247  Being infected with certain types of the hepat...  0000007_4  \n",
       "250  Key Points\\n                    - Liver cancer...  0000007_5  \n",
       "..                                                 ...        ...  \n",
       "678  Different factors increase or decrease the ris...  0000036_3  \n",
       "695  Key Points\\n                    - Colorectal c...  0000037_3  \n",
       "697  Key Points\\n                    - Avoiding ris...  0000037_3  \n",
       "699  Key Points\\n                    - Colorectal c...  0000037_4  \n",
       "700  Different factors increase or decrease the ris...  0000037_4  \n",
       "\n",
       "[78 rows x 3 columns]"
      ]
     },
     "execution_count": 128,
     "metadata": {},
     "output_type": "execute_result"
    }
   ],
   "source": [
    "# Check how many duplicate questions exist\n",
    "duplicate_questions = cancer_df[cancer_df.duplicated(subset='question', keep=False)]\n",
    "print(f\"Total duplicate questions: {duplicate_questions.shape[0]}\")\n",
    "duplicate_questions\n"
   ]
  },
  {
   "cell_type": "code",
   "execution_count": 129,
   "metadata": {},
   "outputs": [],
   "source": [
    "cancer_df=cancer_df.drop_duplicates(subset='question', keep='first').reset_index(drop=True)"
   ]
  },
  {
   "cell_type": "code",
   "execution_count": 130,
   "metadata": {},
   "outputs": [
    {
     "data": {
      "text/plain": [
       "(683, 3)"
      ]
     },
     "execution_count": 130,
     "metadata": {},
     "output_type": "execute_result"
    }
   ],
   "source": [
    "cancer_df.shape"
   ]
  },
  {
   "cell_type": "markdown",
   "metadata": {},
   "source": [
    "## EXPLORATORY DATA ANALYSIS"
   ]
  },
  {
   "cell_type": "code",
   "execution_count": 131,
   "metadata": {},
   "outputs": [
    {
     "name": "stderr",
     "output_type": "stream",
     "text": [
      "[nltk_data] Downloading package wordnet to\n",
      "[nltk_data]     C:\\Users\\USER\\AppData\\Roaming\\nltk_data...\n",
      "[nltk_data]   Package wordnet is already up-to-date!\n",
      "[nltk_data] Downloading package omw-1.4 to\n",
      "[nltk_data]     C:\\Users\\USER\\AppData\\Roaming\\nltk_data...\n",
      "[nltk_data]   Package omw-1.4 is already up-to-date!\n",
      "[nltk_data] Downloading package punkt to\n",
      "[nltk_data]     C:\\Users\\USER\\AppData\\Roaming\\nltk_data...\n",
      "[nltk_data]   Package punkt is already up-to-date!\n",
      "[nltk_data] Downloading package stopwords to\n",
      "[nltk_data]     C:\\Users\\USER\\AppData\\Roaming\\nltk_data...\n",
      "[nltk_data]   Package stopwords is already up-to-date!\n"
     ]
    },
    {
     "data": {
      "text/plain": [
       "True"
      ]
     },
     "execution_count": 131,
     "metadata": {},
     "output_type": "execute_result"
    }
   ],
   "source": [
    "\n",
    "nltk.download('wordnet')      \n",
    "nltk.download('omw-1.4')      \n",
    "nltk.download('punkt')        \n",
    "nltk.download('stopwords')    \n"
   ]
  },
  {
   "cell_type": "code",
   "execution_count": 132,
   "metadata": {},
   "outputs": [],
   "source": [
    "stop_words = set(stopwords.words('english'))\n",
    "lemmatizer = WordNetLemmatizer()\n",
    "def preprocess_text(text):\n",
    "    text = re.sub(r'\\W', ' ', text)  # Remove non-word characters\n",
    "    text = text.lower()  # Convert to lowercase\n",
    "    tokens = word_tokenize(text)  # Tokenize the text\n",
    "    tokens = [lemmatizer.lemmatize(word) for word in tokens if word not in stop_words]  # Lemmatize and remove stopwords\n",
    "    return ' '.join(tokens)\n"
   ]
  },
  {
   "cell_type": "code",
   "execution_count": 133,
   "metadata": {},
   "outputs": [],
   "source": [
    "#remove spaces and new lines\n",
    "cancer_df['question'] = cancer_df['question'].str.strip().replace('\\n', ' ')\n",
    "cancer_df['answer'] = cancer_df['answer'].str.strip().replace('\\n', ' ')\n",
    "\n",
    "\n",
    "# Preprocess the questions and answers\n",
    "cancer_df['question'] = cancer_df['question'].apply(preprocess_text)\n",
    "cancer_df['answer'] = cancer_df['answer'].apply(preprocess_text)\n"
   ]
  },
  {
   "cell_type": "code",
   "execution_count": 134,
   "metadata": {},
   "outputs": [],
   "source": [
    "# Vectorization\n",
    "vectorizer = TfidfVectorizer(preprocessor=preprocess_text, stop_words='english')\n",
    "X = vectorizer.fit_transform(cancer_df['question'])\n",
    "y = cancer_df['answer']"
   ]
  },
  {
   "cell_type": "code",
   "execution_count": 135,
   "metadata": {},
   "outputs": [
    {
     "name": "stdout",
     "output_type": "stream",
     "text": [
      "Number of unique answers: 655\n",
      "answer\n",
      "new type treatment tested clinical trial information clinical trial available nci website patient may want think taking part clinical trial patient taking part clinical trial may best treatment choice clinical trial part cancer research process clinical trial done find new cancer treatment safe effective better standard treatment many today standard treatment cancer based earlier clinical trial patient take part clinical trial may receive standard treatment among first receive new treatment patient take part clinical trial also help improve way cancer treated future even clinical trial lead effective new treatment often answer important question help move research forward patient enter clinical trial starting cancer treatment clinical trial include patient yet received treatment trial test treatment patient whose cancer gotten better also clinical trial test new way stop cancer recurring coming back reduce side effect cancer treatment clinical trial taking place many part country see treatment option section follows link current treatment clinical trial retrieved nci listing clinical trial                                                                                                                                                                                                                                                                                                                                                                                                                                                                                                                                                                                                                                                                                                                                                                                                                                                                                                                                                                                                                                                                                                                                                                                                                                                                                                                                                                                                                                                                                                                                                                                                                                                                                                                                                                                                                                                                                                                                                                                                                                                                                                                                                                                                                                                                                                                                                                                                                                                                                                                                                                                                                                                                                                                                                                                                                                                                                                                                                                                                                                                                                                                                                                                                                                                                                                                                                                                                                                                                                                                                                                                                                                                                                                                                                                                                                                                                                                                                                                                                                                                                                                                                                                                                                                                                                                                                                                                                                                                                                                                                                                                                                                                                                                                                                                                                                                                                                                                                                                                                                                                                                                                                                                                                                                                                                                                                                                                                                                                                                                                                                                                                                                                                                                                                                                                                                                                                                                                                                                                                                           25\n",
      "new type treatment tested clinical trial summary section describes treatment studied clinical trial may mention every new treatment studied information clinical trial available nci website radiosensitizers radiosensitizers drug make tumor cell sensitive radiation therapy combining radiation therapy radiosensitizers may kill tumor cell patient may want think taking part clinical trial patient taking part clinical trial may best treatment choice clinical trial part cancer research process clinical trial done find new cancer treatment safe effective better standard treatment many today standard treatment cancer based earlier clinical trial patient take part clinical trial may receive standard treatment among first receive new treatment patient take part clinical trial also help improve way cancer treated future even clinical trial lead effective new treatment often answer important question help move research forward patient enter clinical trial starting cancer treatment clinical trial include patient yet received treatment trial test treatment patient whose cancer gotten better also clinical trial test new way stop cancer recurring coming back reduce side effect cancer treatment clinical trial taking place many part country see treatment option section follows link current treatment clinical trial retrieved nci listing clinical trial                                                                                                                                                                                                                                                                                                                                                                                                                                                                                                                                                                                                                                                                                                                                                                                                                                                                                                                                                                                                                                                                                                                                                                                                                                                                                                                                                                                                                                                                                                                                                                                                                                                                                                                                                                                                                                                                                                                                                                                                                                                                                                                                                                                                                                                                                                                                                                                                                                                                                                                                                                                                                                                                                                                                                                                                                                                                                                                                                                                                                                                                                                                                                                                                                                                                                                                                                                                                                                                                                                                                                                                                                                                                                                                                                                                                                                                                                                                                                                                                                                                                                                                                                                                                                                                                                                                                                                                                                                                                                                                                                                                                                                                                                                                                                                                                                                                                                                                                                                                                                                                                                                                                                                                                                                                                                                                                                                                                                                                                                                                                                                                                                                                                                                                                                                     2\n",
      "cause childhood brain tumor unknown                                                                                                                                                                                                                                                                                                                                                                                                                                                                                                                                                                                                                                                                                                                                                                                                                                                                                                                                                                                                                                                                                                                                                                                                                                                                                                                                                                                                                                                                                                                                                                                                                                                                                                                                                                                                                                                                                                                                                                                                                                                                                                                                                                                                                                                                                                                                                                                                                                                                                                                                                                                                                                                                                                                                                                                                                                                                                                                                                                                                                                                                                                                                                                                                                                                                                                                                                                                                                                                                                                                                                                                                                                                                                                                                                                                                                                                                                                                                                                                                                                                                                                                                                                                                                                                                                                                                                                                                                                                                                                                                                                                                                                                                                                                                                                                                                                                                                                                                                                                                                                                                                                                                                                                                                                                                                                                                                                                                                                                                                                                                                                                                                                                                                                                                                                                                                                                                                                                                                                                                                                                                                                                                                                                                                                                                                                                                                                                                                                                                                                                                                                                                                                                                                                                                                                                                                                                                                                                                                                                                                                                                                                                                           2\n",
      "key point avoiding risk factor increasing protective factor may help prevent lung cancer following risk factor lung cancer cigarette cigar pipe smoking secondhand smoke family history hiv infection environmental risk factor beta carotene supplement heavy smoker following protective factor lung cancer smoking quitting smoking lower exposure workplace risk factor lower exposure radon clear following decrease risk lung cancer diet physical activity following decrease risk lung cancer beta carotene supplement nonsmoker vitamin e supplement cancer prevention clinical trial used study way prevent cancer new way prevent lung cancer studied clinical trial avoiding risk factor increasing protective factor may help prevent lung cancer avoiding cancer risk factor may help prevent certain cancer risk factor include smoking overweight getting enough exercise increasing protective factor quitting smoking exercising may also help prevent cancer talk doctor health care professional might lower risk cancer following risk factor lung cancer cigarette cigar pipe smoking tobacco smoking important risk factor lung cancer cigarette cigar pipe smoking increase risk lung cancer tobacco smoking cause 9 10 case lung cancer men 8 10 case lung cancer woman study shown smoking low tar low nicotine cigarette lower risk lung cancer study also show risk lung cancer smoking cigarette increase number cigarette smoked per day number year smoked people smoke 20 time risk lung cancer compared smoke secondhand smoke exposed secondhand tobacco smoke also risk factor lung cancer secondhand smoke smoke come burning cigarette tobacco product exhaled smoker people inhale secondhand smoke exposed cancer causing agent smoker although smaller amount inhaling secondhand smoke called involuntary passive smoking family history family history lung cancer risk factor lung cancer people relative lung cancer may twice likely lung cancer people relative lung cancer cigarette smoking tends run family family member exposed secondhand smoke hard know whether increased risk lung cancer family history lung cancer exposed cigarette smoke hiv infection infected human immunodeficiency virus hiv cause acquired immunodeficiency syndrome aid linked higher risk lung cancer people infected hiv may twice risk lung cancer infected since smoking rate higher infected hiv infected clear whether increased risk lung cancer hiv infection exposed cigarette smoke environmental risk factor radiation exposure exposed radiation risk factor lung cancer atomic bomb radiation radiation therapy imaging test radon source radiation exposure atomic bomb radiation exposed radiation atomic bomb explosion increase risk lung cancer radiation therapy radiation therapy chest may used treat certain cancer including breast cancer hodgkin lymphoma radiation therapy us x ray gamma ray type radiation may increase risk lung cancer higher dose radiation received higher risk risk lung cancer following radiation therapy higher patient smoke nonsmoker imaging test imaging test ct scan expose patient radiation low dose spiral ct scan expose patient less radiation higher dose ct scan lung cancer screening use low dose spiral ct scan lessen harmful effect radiation radon radon radioactive gas come breakdown uranium rock soil seeps ground leak air water supply radon enter home crack floor wall foundation level radon build time study show high level radon gas inside home workplace increase number new case lung cancer number death caused lung cancer risk lung cancer higher smoker exposed radon nonsmoker exposed people never smoked 30 death caused lung cancer linked exposed radon workplace exposure study show exposed following substance increase risk lung cancer asbestos arsenic chromium nickel beryllium cadmium tar soot substance cause lung cancer people exposed workplace never smoked level exposure substance increase risk lung cancer also increase risk lung cancer even higher people exposed also smoke air pollution study show living area higher level air pollution increase risk lung cancer beta carotene supplement heavy smoker taking beta carotene supplement pill increase risk lung cancer especially smoker smoke one pack day risk higher smoker least one alcoholic drink every day following protective factor lung cancer smoking best way prevent lung cancer smoke quitting smoking smoker decrease risk lung cancer quitting smoker treated lung cancer quitting smoking lower risk new lung cancer counseling use nicotine replacement product antidepressant therapy helped smoker quit good person quit smoking chance preventing lung cancer depends many year much person smoked length time since quitting person quit smoking 10 year risk lung cancer decrease 30 50 see following information quitting smoking tobacco includes help quitting cigarette smoking health risk quit lower exposure workplace risk factor law protect worker exposed cancer causing substance asbestos arsenic nickel chromium may help lower risk developing lung cancer law prevent smoking workplace help lower risk lung cancer caused secondhand smoke lower exposure radon lowering radon level may lower risk lung cancer especially among cigarette smoker high level radon home may reduced taking step prevent radon leakage sealing basement clear following decrease risk lung cancer diet study show people eat high amount fruit vegetable lower risk lung cancer eat low amount however since smoker tend less healthy diet nonsmoker hard know whether decreased risk healthy diet smoking physical activity study show people physically active lower risk lung cancer people however since smoker tend different level physical activity nonsmoker hard know physical activity affect risk lung cancer following decrease risk lung cancer beta carotene supplement nonsmoker study nonsmoker show taking beta carotene supplement lower risk lung cancer vitamin e supplement study show taking vitamin e supplement affect risk lung cancer cancer prevention clinical trial used study way prevent cancer cancer prevention clinical trial used study way lower risk developing certain type cancer cancer prevention trial conducted healthy people cancer increased risk cancer prevention trial conducted people cancer trying prevent another cancer type lower chance developing new type cancer trial done healthy volunteer known risk factor cancer purpose cancer prevention clinical trial find whether action people take prevent cancer may include eating fruit vegetable exercising quitting smoking taking certain medicine vitamin mineral food supplement new way prevent lung cancer studied clinical trial clinical trial taking place many part country information clinical trial found clinical trial section nci website check list nci supported cancer clinical trial prevention trial non small cell lung cancer small cell lung cancer accepting patient include trial quitting smoking     2\n",
      "patient may want think taking part clinical trial patient taking part clinical trial may best treatment choice clinical trial part cancer research process clinical trial done find new cancer treatment safe effective better standard treatment many today standard treatment cancer based earlier clinical trial patient take part clinical trial may receive standard treatment among first receive new treatment patient take part clinical trial also help improve way cancer treated future even clinical trial lead effective new treatment often answer important question help move research forward patient enter clinical trial starting cancer treatment clinical trial include patient yet received treatment trial test treatment patient whose cancer gotten better also clinical trial test new way stop cancer recurring coming back reduce side effect cancer treatment clinical trial taking place many part country see treatment option section follows link current treatment clinical trial retrieved nci listing clinical trial                                                                                                                                                                                                                                                                                                                                                                                                                                                                                                                                                                                                                                                                                                                                                                                                                                                                                                                                                                                                                                                                                                                                                                                                                                                                                                                                                                                                                                                                                                                                                                                                                                                                                                                                                                                                                                                                                                                                                                                                                                                                                                                                                                                                                                                                                                                                                                                                                                                                                                                                                                                                                                                                                                                                                                                                                                                                                                                                                                                                                                                                                                                                                                                                                                                                                                                                                                                                                                                                                                                                                                                                                                                                                                                                                                                                                                                                                                                                                                                                                                                                                                                                                                                                                                                                                                                                                                                                                                                                                                                                                                                                                                                                                                                                                                                                                                                                                                                                                                                                                                                                                                                                                                                                                                                                                                                                                                                                                                                                                                                                                                                                                                                                                                                                                                                                                                                                                                                                                                                                                                                                                                                      2\n",
      "Name: count, dtype: int64\n"
     ]
    }
   ],
   "source": [
    "print(f\"Number of unique answers: {cancer_df['answer'].nunique()}\")\n",
    "print(cancer_df['answer'].value_counts().head(5))\n"
   ]
  },
  {
   "cell_type": "code",
   "execution_count": 136,
   "metadata": {},
   "outputs": [],
   "source": [
    "from sklearn.metrics.pairwise import cosine_similarity\n",
    "def get_answer(user_question):\n",
    "    user_vec = vectorizer.transform([user_question])\n",
    "    similarities = cosine_similarity(user_vec, X)\n",
    "    most_similar_idx = np.argmax(similarities)\n",
    "    return cancer_df.iloc[most_similar_idx]['answer']"
   ]
  },
  {
   "cell_type": "code",
   "execution_count": 137,
   "metadata": {},
   "outputs": [],
   "source": [
    "def get_top_n_answers(user_question, n=3):\n",
    "    user_vec = vectorizer.transform([user_question])\n",
    "    similarities = cosine_similarity(user_vec, X).flatten()\n",
    "    top_indices = similarities.argsort()[-n:][::-1]\n",
    "    \n",
    "    results = []\n",
    "    for idx in top_indices:\n",
    "        results.append({\n",
    "            \"question\": cancer_df.iloc[idx]['question'],\n",
    "            \"answer\": cancer_df.iloc[idx]['answer'],\n",
    "            \"similarity\": similarities[idx]\n",
    "        })\n",
    "    return results\n"
   ]
  },
  {
   "cell_type": "code",
   "execution_count": 138,
   "metadata": {},
   "outputs": [
    {
     "name": "stderr",
     "output_type": "stream",
     "text": [
      "[nltk_data] Downloading package punkt to\n",
      "[nltk_data]     C:\\Users\\USER\\AppData\\Roaming\\nltk_data...\n",
      "[nltk_data]   Package punkt is already up-to-date!\n",
      "[nltk_data] Downloading package stopwords to\n",
      "[nltk_data]     C:\\Users\\USER\\AppData\\Roaming\\nltk_data...\n",
      "[nltk_data]   Package stopwords is already up-to-date!\n",
      "[nltk_data] Downloading package wordnet to\n",
      "[nltk_data]     C:\\Users\\USER\\AppData\\Roaming\\nltk_data...\n",
      "[nltk_data]   Package wordnet is already up-to-date!\n"
     ]
    }
   ],
   "source": [
    "import re\n",
    "import nltk\n",
    "from nltk.corpus import stopwords\n",
    "from nltk.stem import WordNetLemmatizer\n",
    "\n",
    "# Download required resources (run only once)\n",
    "nltk.download('punkt')\n",
    "nltk.download('stopwords')\n",
    "nltk.download('wordnet')\n",
    "\n",
    "stop_words = set(stopwords.words(\"english\"))\n",
    "lemmatizer = WordNetLemmatizer()\n",
    "\n",
    "def clean_text(text):\n",
    "    # Remove HTML tags if any\n",
    "    text = re.sub(r\"<.*?>\", \"\", text)\n",
    "    # Lowercase and remove special characters\n",
    "    text = re.sub(r\"[^a-zA-Z\\s]\", \"\", text.lower())\n",
    "    # Tokenize words\n",
    "    tokens = nltk.word_tokenize(text)\n",
    "    # Remove stopwords and lemmatize\n",
    "    tokens = [lemmatizer.lemmatize(word) for word in tokens if word not in stop_words]\n",
    "    return \" \".join(tokens)\n"
   ]
  },
  {
   "cell_type": "code",
   "execution_count": 139,
   "metadata": {},
   "outputs": [],
   "source": [
    "def get_top_n_answers(user_question, n=3):\n",
    "    # Clean and embed the user question\n",
    "    cleaned_question = clean_text(user_question)\n",
    "    user_vec = model.encode([cleaned_question])\n",
    "\n",
    "    # Compute cosine similarity with all questions in dataset\n",
    "    similarities = cosine_similarity(user_vec, question_embeddings).flatten()\n",
    "    top_indices = similarities.argsort()[-n:][::-1]\n",
    "\n",
    "    results = []\n",
    "    for idx in top_indices:\n",
    "        results.append({\n",
    "            \"question\": df.iloc[idx]['question'],\n",
    "            \"answer\": df.iloc[idx]['answer'],\n",
    "            \"similarity\": float(similarities[idx])\n",
    "        })\n",
    "    return results\n",
    "\n"
   ]
  },
  {
   "cell_type": "code",
   "execution_count": 140,
   "metadata": {},
   "outputs": [
    {
     "name": "stdout",
     "output_type": "stream",
     "text": [
      "Example question: What are symptoms of breast cancer?\n",
      "Answer: sign breast cancer include lump change breast sign may caused breast cancer condition check doctor following lump thickening near breast underarm area change size shape breast dimple puckering skin breast nipple turned inward breast fluid breast milk nipple especially bloody scaly red swollen skin breast nipple areola dark area skin around nipple dimple breast look like skin orange called peau dorange\n"
     ]
    }
   ],
   "source": [
    "# Example usage\n",
    "print(\"Example question: What are symptoms of breast cancer?\")\n",
    "print(\"Answer:\", get_answer(\"What are symptoms of breast cancer?\")) \n",
    "\n"
   ]
  },
  {
   "cell_type": "code",
   "execution_count": 141,
   "metadata": {},
   "outputs": [
    {
     "name": "stdout",
     "output_type": "stream",
     "text": [
      "Requirement already satisfied: gradio in c:\\users\\user\\anaconda3\\lib\\site-packages (5.37.0)\n",
      "Requirement already satisfied: aiofiles<25.0,>=22.0 in c:\\users\\user\\anaconda3\\lib\\site-packages (from gradio) (24.1.0)\n",
      "Requirement already satisfied: anyio<5.0,>=3.0 in c:\\users\\user\\anaconda3\\lib\\site-packages (from gradio) (4.2.0)\n",
      "Requirement already satisfied: brotli>=1.1.0 in c:\\users\\user\\anaconda3\\lib\\site-packages (from gradio) (1.1.0)\n",
      "Requirement already satisfied: fastapi<1.0,>=0.115.2 in c:\\users\\user\\anaconda3\\lib\\site-packages (from gradio) (0.116.1)\n",
      "Requirement already satisfied: ffmpy in c:\\users\\user\\anaconda3\\lib\\site-packages (from gradio) (0.6.0)\n",
      "Requirement already satisfied: gradio-client==1.10.4 in c:\\users\\user\\anaconda3\\lib\\site-packages (from gradio) (1.10.4)\n",
      "Requirement already satisfied: groovy~=0.1 in c:\\users\\user\\anaconda3\\lib\\site-packages (from gradio) (0.1.2)\n",
      "Requirement already satisfied: httpx<1.0,>=0.24.1 in c:\\users\\user\\anaconda3\\lib\\site-packages (from gradio) (0.27.0)\n",
      "Requirement already satisfied: huggingface-hub>=0.28.1 in c:\\users\\user\\anaconda3\\lib\\site-packages (from gradio) (0.33.4)\n",
      "Requirement already satisfied: jinja2<4.0 in c:\\users\\user\\anaconda3\\lib\\site-packages (from gradio) (3.1.4)\n",
      "Requirement already satisfied: markupsafe<4.0,>=2.0 in c:\\users\\user\\anaconda3\\lib\\site-packages (from gradio) (2.1.3)\n",
      "Requirement already satisfied: numpy<3.0,>=1.0 in c:\\users\\user\\anaconda3\\lib\\site-packages (from gradio) (1.26.4)\n",
      "Requirement already satisfied: orjson~=3.0 in c:\\users\\user\\anaconda3\\lib\\site-packages (from gradio) (3.10.18)\n",
      "Requirement already satisfied: packaging in c:\\users\\user\\anaconda3\\lib\\site-packages (from gradio) (24.1)\n",
      "Requirement already satisfied: pandas<3.0,>=1.0 in c:\\users\\user\\anaconda3\\lib\\site-packages (from gradio) (2.2.2)\n",
      "Requirement already satisfied: pillow<12.0,>=8.0 in c:\\users\\user\\anaconda3\\lib\\site-packages (from gradio) (10.4.0)\n",
      "Requirement already satisfied: pydantic<2.12,>=2.0 in c:\\users\\user\\anaconda3\\lib\\site-packages (from gradio) (2.8.2)\n",
      "Requirement already satisfied: pydub in c:\\users\\user\\anaconda3\\lib\\site-packages (from gradio) (0.25.1)\n",
      "Requirement already satisfied: python-multipart>=0.0.18 in c:\\users\\user\\anaconda3\\lib\\site-packages (from gradio) (0.0.20)\n",
      "Requirement already satisfied: pyyaml<7.0,>=5.0 in c:\\users\\user\\anaconda3\\lib\\site-packages (from gradio) (6.0.1)\n",
      "Requirement already satisfied: ruff>=0.9.3 in c:\\users\\user\\anaconda3\\lib\\site-packages (from gradio) (0.12.3)\n",
      "Requirement already satisfied: safehttpx<0.2.0,>=0.1.6 in c:\\users\\user\\anaconda3\\lib\\site-packages (from gradio) (0.1.6)\n",
      "Requirement already satisfied: semantic-version~=2.0 in c:\\users\\user\\anaconda3\\lib\\site-packages (from gradio) (2.10.0)\n",
      "Requirement already satisfied: starlette<1.0,>=0.40.0 in c:\\users\\user\\anaconda3\\lib\\site-packages (from gradio) (0.47.1)\n",
      "Requirement already satisfied: tomlkit<0.14.0,>=0.12.0 in c:\\users\\user\\anaconda3\\lib\\site-packages (from gradio) (0.13.3)\n",
      "Requirement already satisfied: typer<1.0,>=0.12 in c:\\users\\user\\anaconda3\\lib\\site-packages (from gradio) (0.16.0)\n",
      "Requirement already satisfied: typing-extensions~=4.0 in c:\\users\\user\\anaconda3\\lib\\site-packages (from gradio) (4.11.0)\n",
      "Requirement already satisfied: uvicorn>=0.14.0 in c:\\users\\user\\anaconda3\\lib\\site-packages (from gradio) (0.35.0)\n",
      "Requirement already satisfied: fsspec in c:\\users\\user\\anaconda3\\lib\\site-packages (from gradio-client==1.10.4->gradio) (2024.6.1)\n",
      "Requirement already satisfied: websockets<16.0,>=10.0 in c:\\users\\user\\anaconda3\\lib\\site-packages (from gradio-client==1.10.4->gradio) (15.0.1)\n",
      "Requirement already satisfied: idna>=2.8 in c:\\users\\user\\anaconda3\\lib\\site-packages (from anyio<5.0,>=3.0->gradio) (3.7)\n",
      "Requirement already satisfied: sniffio>=1.1 in c:\\users\\user\\anaconda3\\lib\\site-packages (from anyio<5.0,>=3.0->gradio) (1.3.0)\n",
      "Requirement already satisfied: certifi in c:\\users\\user\\anaconda3\\lib\\site-packages (from httpx<1.0,>=0.24.1->gradio) (2025.1.31)\n",
      "Requirement already satisfied: httpcore==1.* in c:\\users\\user\\anaconda3\\lib\\site-packages (from httpx<1.0,>=0.24.1->gradio) (1.0.2)\n",
      "Requirement already satisfied: h11<0.15,>=0.13 in c:\\users\\user\\anaconda3\\lib\\site-packages (from httpcore==1.*->httpx<1.0,>=0.24.1->gradio) (0.14.0)\n",
      "Requirement already satisfied: filelock in c:\\users\\user\\anaconda3\\lib\\site-packages (from huggingface-hub>=0.28.1->gradio) (3.13.1)\n",
      "Requirement already satisfied: requests in c:\\users\\user\\anaconda3\\lib\\site-packages (from huggingface-hub>=0.28.1->gradio) (2.32.3)\n",
      "Requirement already satisfied: tqdm>=4.42.1 in c:\\users\\user\\anaconda3\\lib\\site-packages (from huggingface-hub>=0.28.1->gradio) (4.66.5)\n",
      "Requirement already satisfied: python-dateutil>=2.8.2 in c:\\users\\user\\anaconda3\\lib\\site-packages (from pandas<3.0,>=1.0->gradio) (2.9.0.post0)\n",
      "Requirement already satisfied: pytz>=2020.1 in c:\\users\\user\\anaconda3\\lib\\site-packages (from pandas<3.0,>=1.0->gradio) (2024.1)\n",
      "Requirement already satisfied: tzdata>=2022.7 in c:\\users\\user\\anaconda3\\lib\\site-packages (from pandas<3.0,>=1.0->gradio) (2023.3)\n",
      "Requirement already satisfied: annotated-types>=0.4.0 in c:\\users\\user\\anaconda3\\lib\\site-packages (from pydantic<2.12,>=2.0->gradio) (0.6.0)\n",
      "Requirement already satisfied: pydantic-core==2.20.1 in c:\\users\\user\\anaconda3\\lib\\site-packages (from pydantic<2.12,>=2.0->gradio) (2.20.1)\n",
      "Requirement already satisfied: click>=8.0.0 in c:\\users\\user\\anaconda3\\lib\\site-packages (from typer<1.0,>=0.12->gradio) (8.1.7)\n",
      "Requirement already satisfied: shellingham>=1.3.0 in c:\\users\\user\\anaconda3\\lib\\site-packages (from typer<1.0,>=0.12->gradio) (1.5.0)\n",
      "Requirement already satisfied: rich>=10.11.0 in c:\\users\\user\\anaconda3\\lib\\site-packages (from typer<1.0,>=0.12->gradio) (13.7.1)\n",
      "Requirement already satisfied: colorama in c:\\users\\user\\anaconda3\\lib\\site-packages (from click>=8.0.0->typer<1.0,>=0.12->gradio) (0.4.6)\n",
      "Requirement already satisfied: six>=1.5 in c:\\users\\user\\anaconda3\\lib\\site-packages (from python-dateutil>=2.8.2->pandas<3.0,>=1.0->gradio) (1.16.0)\n",
      "Requirement already satisfied: markdown-it-py>=2.2.0 in c:\\users\\user\\anaconda3\\lib\\site-packages (from rich>=10.11.0->typer<1.0,>=0.12->gradio) (2.2.0)\n",
      "Requirement already satisfied: pygments<3.0.0,>=2.13.0 in c:\\users\\user\\anaconda3\\lib\\site-packages (from rich>=10.11.0->typer<1.0,>=0.12->gradio) (2.15.1)\n",
      "Requirement already satisfied: charset-normalizer<4,>=2 in c:\\users\\user\\anaconda3\\lib\\site-packages (from requests->huggingface-hub>=0.28.1->gradio) (3.3.2)\n",
      "Requirement already satisfied: urllib3<3,>=1.21.1 in c:\\users\\user\\anaconda3\\lib\\site-packages (from requests->huggingface-hub>=0.28.1->gradio) (2.2.3)\n",
      "Requirement already satisfied: mdurl~=0.1 in c:\\users\\user\\anaconda3\\lib\\site-packages (from markdown-it-py>=2.2.0->rich>=10.11.0->typer<1.0,>=0.12->gradio) (0.1.0)\n",
      "Note: you may need to restart the kernel to use updated packages.\n"
     ]
    }
   ],
   "source": [
    "%pip install gradio\n"
   ]
  },
  {
   "cell_type": "code",
   "execution_count": 142,
   "metadata": {},
   "outputs": [],
   "source": [
    "from difflib import SequenceMatcher\n",
    "\n",
    "def get_response(user_input, threshold=0.7):\n",
    "    processed_input = preprocess_text(user_input)\n",
    "    for index, row in df.iterrows():\n",
    "        question = preprocess_text(row['question'])\n",
    "        similarity = SequenceMatcher(None, processed_input, question).ratio()\n",
    "        if similarity >= threshold:\n",
    "            return row['answer']\n",
    "    return \"I'm sorry, I don't have information on that. Please consult a doctor.\"\n"
   ]
  },
  {
   "cell_type": "code",
   "execution_count": 143,
   "metadata": {},
   "outputs": [
    {
     "name": "stdout",
     "output_type": "stream",
     "text": [
      "Requirement already satisfied: sentence-transformers in c:\\users\\user\\anaconda3\\lib\\site-packages (5.0.0)\n",
      "Requirement already satisfied: transformers<5.0.0,>=4.41.0 in c:\\users\\user\\anaconda3\\lib\\site-packages (from sentence-transformers) (4.53.2)\n",
      "Requirement already satisfied: tqdm in c:\\users\\user\\anaconda3\\lib\\site-packages (from sentence-transformers) (4.66.5)\n",
      "Requirement already satisfied: torch>=1.11.0 in c:\\users\\user\\anaconda3\\lib\\site-packages (from sentence-transformers) (2.7.1)\n",
      "Requirement already satisfied: scikit-learn in c:\\users\\user\\anaconda3\\lib\\site-packages (from sentence-transformers) (1.5.1)\n",
      "Requirement already satisfied: scipy in c:\\users\\user\\anaconda3\\lib\\site-packages (from sentence-transformers) (1.13.1)\n",
      "Requirement already satisfied: huggingface-hub>=0.20.0 in c:\\users\\user\\anaconda3\\lib\\site-packages (from sentence-transformers) (0.33.4)\n",
      "Requirement already satisfied: Pillow in c:\\users\\user\\anaconda3\\lib\\site-packages (from sentence-transformers) (10.4.0)\n",
      "Requirement already satisfied: typing_extensions>=4.5.0 in c:\\users\\user\\anaconda3\\lib\\site-packages (from sentence-transformers) (4.11.0)\n",
      "Requirement already satisfied: filelock in c:\\users\\user\\anaconda3\\lib\\site-packages (from huggingface-hub>=0.20.0->sentence-transformers) (3.13.1)\n",
      "Requirement already satisfied: fsspec>=2023.5.0 in c:\\users\\user\\anaconda3\\lib\\site-packages (from huggingface-hub>=0.20.0->sentence-transformers) (2024.6.1)\n",
      "Requirement already satisfied: packaging>=20.9 in c:\\users\\user\\anaconda3\\lib\\site-packages (from huggingface-hub>=0.20.0->sentence-transformers) (24.1)\n",
      "Requirement already satisfied: pyyaml>=5.1 in c:\\users\\user\\anaconda3\\lib\\site-packages (from huggingface-hub>=0.20.0->sentence-transformers) (6.0.1)\n",
      "Requirement already satisfied: requests in c:\\users\\user\\anaconda3\\lib\\site-packages (from huggingface-hub>=0.20.0->sentence-transformers) (2.32.3)\n",
      "Requirement already satisfied: sympy>=1.13.3 in c:\\users\\user\\anaconda3\\lib\\site-packages (from torch>=1.11.0->sentence-transformers) (1.14.0)\n",
      "Requirement already satisfied: networkx in c:\\users\\user\\anaconda3\\lib\\site-packages (from torch>=1.11.0->sentence-transformers) (3.3)\n",
      "Requirement already satisfied: jinja2 in c:\\users\\user\\anaconda3\\lib\\site-packages (from torch>=1.11.0->sentence-transformers) (3.1.4)\n",
      "Requirement already satisfied: setuptools in c:\\users\\user\\anaconda3\\lib\\site-packages (from torch>=1.11.0->sentence-transformers) (75.1.0)\n",
      "Requirement already satisfied: colorama in c:\\users\\user\\anaconda3\\lib\\site-packages (from tqdm->sentence-transformers) (0.4.6)\n",
      "Requirement already satisfied: numpy>=1.17 in c:\\users\\user\\anaconda3\\lib\\site-packages (from transformers<5.0.0,>=4.41.0->sentence-transformers) (1.26.4)\n",
      "Requirement already satisfied: regex!=2019.12.17 in c:\\users\\user\\anaconda3\\lib\\site-packages (from transformers<5.0.0,>=4.41.0->sentence-transformers) (2024.9.11)\n",
      "Requirement already satisfied: tokenizers<0.22,>=0.21 in c:\\users\\user\\anaconda3\\lib\\site-packages (from transformers<5.0.0,>=4.41.0->sentence-transformers) (0.21.2)\n",
      "Requirement already satisfied: safetensors>=0.4.3 in c:\\users\\user\\anaconda3\\lib\\site-packages (from transformers<5.0.0,>=4.41.0->sentence-transformers) (0.5.3)\n",
      "Requirement already satisfied: joblib>=1.2.0 in c:\\users\\user\\anaconda3\\lib\\site-packages (from scikit-learn->sentence-transformers) (1.4.2)\n",
      "Requirement already satisfied: threadpoolctl>=3.1.0 in c:\\users\\user\\anaconda3\\lib\\site-packages (from scikit-learn->sentence-transformers) (3.5.0)\n",
      "Requirement already satisfied: mpmath<1.4,>=1.1.0 in c:\\users\\user\\anaconda3\\lib\\site-packages (from sympy>=1.13.3->torch>=1.11.0->sentence-transformers) (1.3.0)\n",
      "Requirement already satisfied: MarkupSafe>=2.0 in c:\\users\\user\\anaconda3\\lib\\site-packages (from jinja2->torch>=1.11.0->sentence-transformers) (2.1.3)\n",
      "Requirement already satisfied: charset-normalizer<4,>=2 in c:\\users\\user\\anaconda3\\lib\\site-packages (from requests->huggingface-hub>=0.20.0->sentence-transformers) (3.3.2)\n",
      "Requirement already satisfied: idna<4,>=2.5 in c:\\users\\user\\anaconda3\\lib\\site-packages (from requests->huggingface-hub>=0.20.0->sentence-transformers) (3.7)\n",
      "Requirement already satisfied: urllib3<3,>=1.21.1 in c:\\users\\user\\anaconda3\\lib\\site-packages (from requests->huggingface-hub>=0.20.0->sentence-transformers) (2.2.3)\n",
      "Requirement already satisfied: certifi>=2017.4.17 in c:\\users\\user\\anaconda3\\lib\\site-packages (from requests->huggingface-hub>=0.20.0->sentence-transformers) (2025.1.31)\n",
      "Note: you may need to restart the kernel to use updated packages.\n"
     ]
    }
   ],
   "source": [
    "%pip install sentence-transformers\n"
   ]
  },
  {
   "cell_type": "code",
   "execution_count": 144,
   "metadata": {},
   "outputs": [],
   "source": [
    "from sentence_transformers import SentenceTransformer\n",
    "\n",
    "# Load a lightweight sentence embedding model\n",
    "model = SentenceTransformer(\"all-MiniLM-L6-v2\")\n"
   ]
  },
  {
   "cell_type": "code",
   "execution_count": 145,
   "metadata": {},
   "outputs": [],
   "source": [
    "def get_semantic_answer(user_question, n=3, threshold=0.6):\n",
    "    user_embedding = model.encode([user_question])\n",
    "    similarities = cosine_similarity(user_embedding, question_embeddings).flatten()\n",
    "    \n",
    "    top_indices = similarities.argsort()[-n:][::-1]\n",
    "    top_score = similarities[top_indices[0]]\n",
    "\n",
    "    # Fallback response if match is too weak\n",
    "    if top_score < threshold:\n",
    "        return [{\n",
    "            \"question\": None,\n",
    "            \"answer\": \"I'm sorry, I don't have information on that. Please consult a doctor.\",\n",
    "            \"similarity\": float(top_score)\n",
    "        }]\n",
    "\n",
    "    # Return top answers\n",
    "    results = []\n",
    "    for idx in top_indices:\n",
    "        results.append({\n",
    "            \"question\": cancer_df.iloc[idx]['question'],\n",
    "            \"answer\": cancer_df.iloc[idx]['answer'],\n",
    "            \"similarity\": float(similarities[idx])\n",
    "        })\n",
    "    return results"
   ]
  },
  {
   "cell_type": "code",
   "execution_count": 146,
   "metadata": {},
   "outputs": [],
   "source": [
    "from sklearn.metrics.pairwise import cosine_similarity\n"
   ]
  },
  {
   "cell_type": "code",
   "execution_count": 147,
   "metadata": {},
   "outputs": [
    {
     "name": "stdout",
     "output_type": "stream",
     "text": [
      "I'm sorry, I don't have information on that. Please consult a doctor.\n"
     ]
    }
   ],
   "source": [
    "# Compute embeddings for all questions if not already done\n",
    "question_embeddings = model.encode(cancer_df['question'].tolist())\n",
    "\n",
    "for item in get_semantic_answer(\"Signs of pregnancy?\"):\n",
    "    print(item[\"answer\"])"
   ]
  },
  {
   "cell_type": "code",
   "execution_count": 148,
   "metadata": {},
   "outputs": [
    {
     "name": "stdout",
     "output_type": "stream",
     "text": [
      "sign symptom laryngeal cancer include sore throat ear pain sign symptom may caused laryngeal cancer condition check doctor following sore throat cough go away trouble pain swallowing ear pain lump neck throat change hoarseness voice\n",
      "sign symptom oropharyngeal cancer include lump neck sore throat sign symptom may caused oropharyngeal cancer condition check doctor following sore throat go away trouble swallowing trouble opening mouth fully trouble moving tongue weight loss known reason ear pain lump back mouth throat neck white patch tongue lining mouth go away coughing blood sometimes oropharyngeal cancer cause early sign symptom\n",
      "sign salivary gland cancer include lump trouble swallowing salivary gland cancer may cause symptom may found regular dental check physical exam sign symptom may caused salivary gland cancer condition check doctor following lump usually painless area ear cheek jaw lip inside mouth fluid draining ear trouble swallowing opening mouth widely numbness weakness face pain face go away\n"
     ]
    }
   ],
   "source": [
    "#Example usage\n",
    "\n",
    "for item in get_semantic_answer(\"Signs of throat cancer?\"):\n",
    "    print(item[\"answer\"])"
   ]
  },
  {
   "cell_type": "code",
   "execution_count": 149,
   "metadata": {},
   "outputs": [],
   "source": [
    "#  Model Validation with Top-k Accuracy"
   ]
  },
  {
   "cell_type": "code",
   "execution_count": 150,
   "metadata": {},
   "outputs": [],
   "source": [
    "validation_data = [\n",
    "    {\n",
    "        \"query\": \"What are symptoms of prostate cancer?\",\n",
    "        \"expected_answer\": \"sign prostate cancer include weak flow urine frequent urination\"\n",
    "    },\n",
    "    {\n",
    "        \"query\": \"How is breast cancer treated?\",\n",
    "        \"expected_answer\": \"treatment breast cancer include surgery radiation therapy chemotherapy\"\n",
    "    },\n",
    "    {\n",
    "        \"query\": \"What causes leukemia?\",\n",
    "        \"expected_answer\": \"leukemia caused by abnormal blood cells developing in bone marrow\"\n",
    "    },\n",
    "]\n",
    "\n"
   ]
  },
  {
   "cell_type": "code",
   "execution_count": 151,
   "metadata": {},
   "outputs": [
    {
     "name": "stdout",
     "output_type": "stream",
     "text": [
      "Top-3 Accuracy: 33.33%\n"
     ]
    }
   ],
   "source": [
    "# Evaluation of Top-k Accuracy\n",
    "correct = 0\n",
    "total = len(validation_data)\n",
    "k = 3  # Top-k\n",
    "\n",
    "for item in validation_data:\n",
    "    query = item[\"query\"]\n",
    "    expected = item[\"expected_answer\"]\n",
    "\n",
    "    top_results = get_semantic_answer(query, n=k, threshold=0.0)\n",
    "\n",
    "    found = any(expected.lower() in result[\"answer\"].lower() for result in top_results)\n",
    "\n",
    "    if found:\n",
    "        correct += 1\n",
    "\n",
    "accuracy = correct / total\n",
    "print(f\"Top-{k} Accuracy: {accuracy:.2%}\")\n"
   ]
  },
  {
   "cell_type": "code",
   "execution_count": 152,
   "metadata": {},
   "outputs": [],
   "source": [
    "from torch.utils.data import DataLoader\n",
    "from sentence_transformers import InputExample\n",
    "\n",
    "# Prepare train_examples from cancer_df\n",
    "train_examples = [\n",
    "\tInputExample(texts=[row['question'], row['answer']])\n",
    "\tfor _, row in cancer_df.iterrows()\n",
    "]\n",
    "\n",
    "# Split into train and test sets\n",
    "train_data, test_data = train_test_split(train_examples, test_size=0.2, random_state=42)\n",
    "train_dataloader = DataLoader(train_data, shuffle=True, batch_size=16)\n",
    "test_dataloader = DataLoader(test_data, batch_size=16)"
   ]
  },
  {
   "cell_type": "code",
   "execution_count": null,
   "metadata": {},
   "outputs": [
    {
     "name": "stdout",
     "output_type": "stream",
     "text": [
      "Collecting datasets\n",
      "  Downloading datasets-4.0.0-py3-none-any.whl.metadata (19 kB)\n",
      "Requirement already satisfied: filelock in c:\\users\\user\\anaconda3\\lib\\site-packages (from datasets) (3.13.1)\n",
      "Requirement already satisfied: numpy>=1.17 in c:\\users\\user\\anaconda3\\lib\\site-packages (from datasets) (1.26.4)\n",
      "Requirement already satisfied: pyarrow>=15.0.0 in c:\\users\\user\\anaconda3\\lib\\site-packages (from datasets) (16.1.0)\n",
      "Requirement already satisfied: dill<0.3.9,>=0.3.0 in c:\\users\\user\\anaconda3\\lib\\site-packages (from datasets) (0.3.8)\n",
      "Requirement already satisfied: pandas in c:\\users\\user\\anaconda3\\lib\\site-packages (from datasets) (2.2.2)\n",
      "Requirement already satisfied: requests>=2.32.2 in c:\\users\\user\\anaconda3\\lib\\site-packages (from datasets) (2.32.3)\n",
      "Requirement already satisfied: tqdm>=4.66.3 in c:\\users\\user\\anaconda3\\lib\\site-packages (from datasets) (4.66.5)\n",
      "Collecting xxhash (from datasets)\n",
      "  Downloading xxhash-3.5.0-cp312-cp312-win_amd64.whl.metadata (13 kB)\n",
      "Collecting multiprocess<0.70.17 (from datasets)\n",
      "  Downloading multiprocess-0.70.16-py312-none-any.whl.metadata (7.2 kB)\n",
      "Requirement already satisfied: fsspec<=2025.3.0,>=2023.1.0 in c:\\users\\user\\anaconda3\\lib\\site-packages (from fsspec[http]<=2025.3.0,>=2023.1.0->datasets) (2024.6.1)\n",
      "Requirement already satisfied: huggingface-hub>=0.24.0 in c:\\users\\user\\anaconda3\\lib\\site-packages (from datasets) (0.33.4)\n",
      "Requirement already satisfied: packaging in c:\\users\\user\\anaconda3\\lib\\site-packages (from datasets) (24.1)\n",
      "Requirement already satisfied: pyyaml>=5.1 in c:\\users\\user\\anaconda3\\lib\\site-packages (from datasets) (6.0.1)\n",
      "Requirement already satisfied: aiohttp!=4.0.0a0,!=4.0.0a1 in c:\\users\\user\\anaconda3\\lib\\site-packages (from fsspec[http]<=2025.3.0,>=2023.1.0->datasets) (3.10.5)\n",
      "Requirement already satisfied: typing-extensions>=3.7.4.3 in c:\\users\\user\\anaconda3\\lib\\site-packages (from huggingface-hub>=0.24.0->datasets) (4.11.0)\n",
      "Requirement already satisfied: charset-normalizer<4,>=2 in c:\\users\\user\\anaconda3\\lib\\site-packages (from requests>=2.32.2->datasets) (3.3.2)\n",
      "Requirement already satisfied: idna<4,>=2.5 in c:\\users\\user\\anaconda3\\lib\\site-packages (from requests>=2.32.2->datasets) (3.7)\n",
      "Requirement already satisfied: urllib3<3,>=1.21.1 in c:\\users\\user\\anaconda3\\lib\\site-packages (from requests>=2.32.2->datasets) (2.2.3)\n",
      "Requirement already satisfied: certifi>=2017.4.17 in c:\\users\\user\\anaconda3\\lib\\site-packages (from requests>=2.32.2->datasets) (2025.1.31)\n",
      "Requirement already satisfied: colorama in c:\\users\\user\\anaconda3\\lib\\site-packages (from tqdm>=4.66.3->datasets) (0.4.6)\n",
      "Requirement already satisfied: python-dateutil>=2.8.2 in c:\\users\\user\\anaconda3\\lib\\site-packages (from pandas->datasets) (2.9.0.post0)\n",
      "Requirement already satisfied: pytz>=2020.1 in c:\\users\\user\\anaconda3\\lib\\site-packages (from pandas->datasets) (2024.1)\n",
      "Requirement already satisfied: tzdata>=2022.7 in c:\\users\\user\\anaconda3\\lib\\site-packages (from pandas->datasets) (2023.3)\n",
      "Requirement already satisfied: aiohappyeyeballs>=2.3.0 in c:\\users\\user\\anaconda3\\lib\\site-packages (from aiohttp!=4.0.0a0,!=4.0.0a1->fsspec[http]<=2025.3.0,>=2023.1.0->datasets) (2.4.0)\n",
      "Requirement already satisfied: aiosignal>=1.1.2 in c:\\users\\user\\anaconda3\\lib\\site-packages (from aiohttp!=4.0.0a0,!=4.0.0a1->fsspec[http]<=2025.3.0,>=2023.1.0->datasets) (1.2.0)\n",
      "Requirement already satisfied: attrs>=17.3.0 in c:\\users\\user\\anaconda3\\lib\\site-packages (from aiohttp!=4.0.0a0,!=4.0.0a1->fsspec[http]<=2025.3.0,>=2023.1.0->datasets) (23.1.0)\n",
      "Requirement already satisfied: frozenlist>=1.1.1 in c:\\users\\user\\anaconda3\\lib\\site-packages (from aiohttp!=4.0.0a0,!=4.0.0a1->fsspec[http]<=2025.3.0,>=2023.1.0->datasets) (1.4.0)\n",
      "Requirement already satisfied: multidict<7.0,>=4.5 in c:\\users\\user\\anaconda3\\lib\\site-packages (from aiohttp!=4.0.0a0,!=4.0.0a1->fsspec[http]<=2025.3.0,>=2023.1.0->datasets) (6.0.4)\n",
      "Requirement already satisfied: yarl<2.0,>=1.0 in c:\\users\\user\\anaconda3\\lib\\site-packages (from aiohttp!=4.0.0a0,!=4.0.0a1->fsspec[http]<=2025.3.0,>=2023.1.0->datasets) (1.11.0)\n",
      "Requirement already satisfied: six>=1.5 in c:\\users\\user\\anaconda3\\lib\\site-packages (from python-dateutil>=2.8.2->pandas->datasets) (1.16.0)\n",
      "Downloading datasets-4.0.0-py3-none-any.whl (494 kB)\n",
      "Downloading multiprocess-0.70.16-py312-none-any.whl (146 kB)\n",
      "Downloading xxhash-3.5.0-cp312-cp312-win_amd64.whl (30 kB)\n",
      "Installing collected packages: xxhash, multiprocess, datasets\n",
      "Successfully installed datasets-4.0.0 multiprocess-0.70.16 xxhash-3.5.0\n"
     ]
    }
   ],
   "source": [
    "!pip install datasets\n"
   ]
  },
  {
   "cell_type": "code",
   "execution_count": null,
   "metadata": {},
   "outputs": [],
   "source": [
    "from datasets import Dataset\n"
   ]
  }
 ],
 "metadata": {
  "kernelspec": {
   "display_name": "base",
   "language": "python",
   "name": "python3"
  },
  "language_info": {
   "codemirror_mode": {
    "name": "ipython",
    "version": 3
   },
   "file_extension": ".py",
   "mimetype": "text/x-python",
   "name": "python",
   "nbconvert_exporter": "python",
   "pygments_lexer": "ipython3",
   "version": "3.12.7"
  }
 },
 "nbformat": 4,
 "nbformat_minor": 2
}
