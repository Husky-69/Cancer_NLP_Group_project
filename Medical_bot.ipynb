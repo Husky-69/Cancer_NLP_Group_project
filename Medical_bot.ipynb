{
 "cells": [
  {
   "cell_type": "markdown",
   "metadata": {},
   "source": [
    "## DATA UNDERSTANDING"
   ]
  },
  {
   "cell_type": "code",
   "execution_count": 1,
   "metadata": {},
   "outputs": [],
   "source": [
    "import pandas as pd\n",
    "import nltk\n",
    "import re\n",
    "from nltk.corpus import stopwords\n",
    "from nltk.tokenize import word_tokenize\n",
    "from nltk.stem import WordNetLemmatizer\n",
    "from sklearn.feature_extraction.text import TfidfVectorizer\n",
    "from sklearn.metrics.pairwise import cosine_similarity\n",
    "import numpy as np\n",
    "import warnings\n",
    "import xml.etree.ElementTree as ET\n",
    "warnings.filterwarnings('ignore')\n",
    "import os\n"
   ]
  },
  {
   "cell_type": "code",
   "execution_count": 17,
   "metadata": {},
   "outputs": [
    {
     "data": {
      "text/plain": [
       "\"\\n#Cell already run\\nnltk.download('punkt')\\nnltk.download('stopwords')\\nnltk.download('wordnet')\\n\""
      ]
     },
     "execution_count": 17,
     "metadata": {},
     "output_type": "execute_result"
    }
   ],
   "source": [
    "\"\"\"\n",
    "#Cell already run\n",
    "nltk.download('punkt')\n",
    "nltk.download('stopwords')\n",
    "nltk.download('wordnet')\n",
    "\"\"\""
   ]
  },
  {
   "cell_type": "code",
   "execution_count": 18,
   "metadata": {},
   "outputs": [],
   "source": [
    "class CancerQALoader:\n",
    "    def __init__(self, filepath):\n",
    "        self.filepath = filepath\n",
    "        self.questions = []\n",
    "        self.answers = []\n",
    "        self.root = None\n",
    "        self.source = os.path.splitext(os.path.basename(filepath))[0] \n",
    "\n",
    "    def parse_xml(self):\n",
    "        try:\n",
    "            tree = ET.parse(self.filepath)\n",
    "            self.root = tree.getroot()\n",
    "        except ET.ParseError as e:\n",
    "            print(f\"Error parsing XML in {self.filepath}: {e}\")\n",
    "        except FileNotFoundError:\n",
    "            print(f\"File not found: {self.filepath}\")\n",
    "\n",
    "    def extract_qa_pairs(self):\n",
    "        if self.root is None:\n",
    "            return\n",
    "\n",
    "        for qa_pair in self.root.findall('.//QAPair'):\n",
    "            question = qa_pair.find('Question').text\n",
    "            answer = qa_pair.find('Answer').text\n",
    "            if question and answer:\n",
    "                self.questions.append(question)\n",
    "                self.answers.append(answer)\n",
    "\n",
    "    def get_dataframe(self):\n",
    "        return pd.DataFrame({\n",
    "            'question': self.questions,\n",
    "            'answer': self.answers,\n",
    "            'source': [self.source] * len(self.questions)  # Add source to each row\n",
    "        })\n",
    "\n",
    "    def load_all_qa_from_folder(folder_path):\n",
    "        all_dfs = []\n",
    "\n",
    "        for filename in os.listdir(folder_path):\n",
    "            if filename.endswith(\".xml\"):\n",
    "                full_path = os.path.join(folder_path, filename)\n",
    "                loader = CancerQALoader(full_path)\n",
    "                loader.parse_xml()\n",
    "                loader.extract_qa_pairs()\n",
    "                df = loader.get_dataframe()\n",
    "                all_dfs.append(df)\n",
    "\n",
    "        return pd.concat(all_dfs, ignore_index=True)"
   ]
  },
  {
   "cell_type": "code",
   "execution_count": 19,
   "metadata": {},
   "outputs": [],
   "source": [
    "folder = \"1_CancerGov_QA\"\n",
    "cancer_df = CancerQALoader.load_all_qa_from_folder(folder)"
   ]
  },
  {
   "cell_type": "code",
   "execution_count": 20,
   "metadata": {},
   "outputs": [
    {
     "name": "stdout",
     "output_type": "stream",
     "text": [
      "Reading 116 files\n"
     ]
    }
   ],
   "source": [
    "print(f\"Reading {cancer_df['source'].nunique()} files\")"
   ]
  },
  {
   "cell_type": "code",
   "execution_count": 21,
   "metadata": {},
   "outputs": [
    {
     "data": {
      "text/html": [
       "<div>\n",
       "<style scoped>\n",
       "    .dataframe tbody tr th:only-of-type {\n",
       "        vertical-align: middle;\n",
       "    }\n",
       "\n",
       "    .dataframe tbody tr th {\n",
       "        vertical-align: top;\n",
       "    }\n",
       "\n",
       "    .dataframe thead th {\n",
       "        text-align: right;\n",
       "    }\n",
       "</style>\n",
       "<table border=\"1\" class=\"dataframe\">\n",
       "  <thead>\n",
       "    <tr style=\"text-align: right;\">\n",
       "      <th></th>\n",
       "      <th>question</th>\n",
       "      <th>answer</th>\n",
       "      <th>source</th>\n",
       "    </tr>\n",
       "  </thead>\n",
       "  <tbody>\n",
       "    <tr>\n",
       "      <th>0</th>\n",
       "      <td>What is (are) Childhood Liver Cancer ?</td>\n",
       "      <td>Key Points\\n                    - Childhood li...</td>\n",
       "      <td>0000007_3</td>\n",
       "    </tr>\n",
       "    <tr>\n",
       "      <th>1</th>\n",
       "      <td>Who is at risk for Childhood Liver Cancer? ?</td>\n",
       "      <td>Certain diseases and disorders can increase th...</td>\n",
       "      <td>0000007_3</td>\n",
       "    </tr>\n",
       "    <tr>\n",
       "      <th>2</th>\n",
       "      <td>What are the symptoms of Childhood Liver Cancer ?</td>\n",
       "      <td>Signs and symptoms of childhood liver cancer i...</td>\n",
       "      <td>0000007_3</td>\n",
       "    </tr>\n",
       "    <tr>\n",
       "      <th>3</th>\n",
       "      <td>How to diagnose Childhood Liver Cancer ?</td>\n",
       "      <td>Tests that examine the liver and the blood are...</td>\n",
       "      <td>0000007_3</td>\n",
       "    </tr>\n",
       "    <tr>\n",
       "      <th>4</th>\n",
       "      <td>What is the outlook for Childhood Liver Cancer ?</td>\n",
       "      <td>Certain factors affect prognosis (chance of re...</td>\n",
       "      <td>0000007_3</td>\n",
       "    </tr>\n",
       "    <tr>\n",
       "      <th>5</th>\n",
       "      <td>What are the stages of Childhood Liver Cancer ?</td>\n",
       "      <td>Key Points\\n                    - After childh...</td>\n",
       "      <td>0000007_3</td>\n",
       "    </tr>\n",
       "    <tr>\n",
       "      <th>6</th>\n",
       "      <td>What are the treatments for Childhood Liver Ca...</td>\n",
       "      <td>Key Points\\n                    - There are di...</td>\n",
       "      <td>0000007_3</td>\n",
       "    </tr>\n",
       "    <tr>\n",
       "      <th>7</th>\n",
       "      <td>what research (or clinical trials) is being do...</td>\n",
       "      <td>New types of treatment are being tested in cli...</td>\n",
       "      <td>0000007_3</td>\n",
       "    </tr>\n",
       "    <tr>\n",
       "      <th>8</th>\n",
       "      <td>What is (are) Chronic Myeloproliferative Neopl...</td>\n",
       "      <td>Key Points\\n                    - Myeloprolife...</td>\n",
       "      <td>0000013_2</td>\n",
       "    </tr>\n",
       "    <tr>\n",
       "      <th>9</th>\n",
       "      <td>How to diagnose Chronic Myeloproliferative Neo...</td>\n",
       "      <td>Tests that examine the blood and bone marrow a...</td>\n",
       "      <td>0000013_2</td>\n",
       "    </tr>\n",
       "    <tr>\n",
       "      <th>10</th>\n",
       "      <td>What are the stages of Chronic Myeloproliferat...</td>\n",
       "      <td>Key Points\\n                    - There is no ...</td>\n",
       "      <td>0000013_2</td>\n",
       "    </tr>\n",
       "    <tr>\n",
       "      <th>11</th>\n",
       "      <td>What are the treatments for Chronic Myeloproli...</td>\n",
       "      <td>Key Points\\n                    - There are di...</td>\n",
       "      <td>0000013_2</td>\n",
       "    </tr>\n",
       "    <tr>\n",
       "      <th>12</th>\n",
       "      <td>What is (are) Hypopharyngeal Cancer ?</td>\n",
       "      <td>Key Points\\n                    - Hypopharynge...</td>\n",
       "      <td>0000024_1</td>\n",
       "    </tr>\n",
       "    <tr>\n",
       "      <th>13</th>\n",
       "      <td>Who is at risk for Hypopharyngeal Cancer? ?</td>\n",
       "      <td>Use of tobacco products and heavy drinking can...</td>\n",
       "      <td>0000024_1</td>\n",
       "    </tr>\n",
       "    <tr>\n",
       "      <th>14</th>\n",
       "      <td>What are the symptoms of Hypopharyngeal Cancer ?</td>\n",
       "      <td>Signs and symptoms of hypopharyngeal cancer in...</td>\n",
       "      <td>0000024_1</td>\n",
       "    </tr>\n",
       "    <tr>\n",
       "      <th>15</th>\n",
       "      <td>How to diagnose Hypopharyngeal Cancer ?</td>\n",
       "      <td>Tests that examine the throat and neck are use...</td>\n",
       "      <td>0000024_1</td>\n",
       "    </tr>\n",
       "    <tr>\n",
       "      <th>16</th>\n",
       "      <td>What is the outlook for Hypopharyngeal Cancer ?</td>\n",
       "      <td>Certain factors affect prognosis (chance of re...</td>\n",
       "      <td>0000024_1</td>\n",
       "    </tr>\n",
       "    <tr>\n",
       "      <th>17</th>\n",
       "      <td>What are the stages of Hypopharyngeal Cancer ?</td>\n",
       "      <td>Key Points\\n                    - After hypoph...</td>\n",
       "      <td>0000024_1</td>\n",
       "    </tr>\n",
       "    <tr>\n",
       "      <th>18</th>\n",
       "      <td>What are the treatments for Hypopharyngeal Can...</td>\n",
       "      <td>Key Points\\n                    - There are di...</td>\n",
       "      <td>0000024_1</td>\n",
       "    </tr>\n",
       "    <tr>\n",
       "      <th>19</th>\n",
       "      <td>what research (or clinical trials) is being do...</td>\n",
       "      <td>New types of treatment are being tested in cli...</td>\n",
       "      <td>0000024_1</td>\n",
       "    </tr>\n",
       "  </tbody>\n",
       "</table>\n",
       "</div>"
      ],
      "text/plain": [
       "                                             question  \\\n",
       "0              What is (are) Childhood Liver Cancer ?   \n",
       "1        Who is at risk for Childhood Liver Cancer? ?   \n",
       "2   What are the symptoms of Childhood Liver Cancer ?   \n",
       "3            How to diagnose Childhood Liver Cancer ?   \n",
       "4    What is the outlook for Childhood Liver Cancer ?   \n",
       "5     What are the stages of Childhood Liver Cancer ?   \n",
       "6   What are the treatments for Childhood Liver Ca...   \n",
       "7   what research (or clinical trials) is being do...   \n",
       "8   What is (are) Chronic Myeloproliferative Neopl...   \n",
       "9   How to diagnose Chronic Myeloproliferative Neo...   \n",
       "10  What are the stages of Chronic Myeloproliferat...   \n",
       "11  What are the treatments for Chronic Myeloproli...   \n",
       "12              What is (are) Hypopharyngeal Cancer ?   \n",
       "13        Who is at risk for Hypopharyngeal Cancer? ?   \n",
       "14   What are the symptoms of Hypopharyngeal Cancer ?   \n",
       "15            How to diagnose Hypopharyngeal Cancer ?   \n",
       "16    What is the outlook for Hypopharyngeal Cancer ?   \n",
       "17     What are the stages of Hypopharyngeal Cancer ?   \n",
       "18  What are the treatments for Hypopharyngeal Can...   \n",
       "19  what research (or clinical trials) is being do...   \n",
       "\n",
       "                                               answer     source  \n",
       "0   Key Points\\n                    - Childhood li...  0000007_3  \n",
       "1   Certain diseases and disorders can increase th...  0000007_3  \n",
       "2   Signs and symptoms of childhood liver cancer i...  0000007_3  \n",
       "3   Tests that examine the liver and the blood are...  0000007_3  \n",
       "4   Certain factors affect prognosis (chance of re...  0000007_3  \n",
       "5   Key Points\\n                    - After childh...  0000007_3  \n",
       "6   Key Points\\n                    - There are di...  0000007_3  \n",
       "7   New types of treatment are being tested in cli...  0000007_3  \n",
       "8   Key Points\\n                    - Myeloprolife...  0000013_2  \n",
       "9   Tests that examine the blood and bone marrow a...  0000013_2  \n",
       "10  Key Points\\n                    - There is no ...  0000013_2  \n",
       "11  Key Points\\n                    - There are di...  0000013_2  \n",
       "12  Key Points\\n                    - Hypopharynge...  0000024_1  \n",
       "13  Use of tobacco products and heavy drinking can...  0000024_1  \n",
       "14  Signs and symptoms of hypopharyngeal cancer in...  0000024_1  \n",
       "15  Tests that examine the throat and neck are use...  0000024_1  \n",
       "16  Certain factors affect prognosis (chance of re...  0000024_1  \n",
       "17  Key Points\\n                    - After hypoph...  0000024_1  \n",
       "18  Key Points\\n                    - There are di...  0000024_1  \n",
       "19  New types of treatment are being tested in cli...  0000024_1  "
      ]
     },
     "execution_count": 21,
     "metadata": {},
     "output_type": "execute_result"
    }
   ],
   "source": [
    "cancer_df.head(20)"
   ]
  },
  {
   "cell_type": "code",
   "execution_count": 22,
   "metadata": {},
   "outputs": [
    {
     "name": "stdout",
     "output_type": "stream",
     "text": [
      "<class 'pandas.core.frame.DataFrame'>\n",
      "RangeIndex: 729 entries, 0 to 728\n",
      "Data columns (total 3 columns):\n",
      " #   Column    Non-Null Count  Dtype \n",
      "---  ------    --------------  ----- \n",
      " 0   question  729 non-null    object\n",
      " 1   answer    729 non-null    object\n",
      " 2   source    729 non-null    object\n",
      "dtypes: object(3)\n",
      "memory usage: 17.2+ KB\n"
     ]
    }
   ],
   "source": [
    "cancer_df.info()"
   ]
  },
  {
   "cell_type": "code",
   "execution_count": 23,
   "metadata": {},
   "outputs": [
    {
     "data": {
      "text/plain": [
       "question    0\n",
       "answer      0\n",
       "source      0\n",
       "dtype: int64"
      ]
     },
     "execution_count": 23,
     "metadata": {},
     "output_type": "execute_result"
    }
   ],
   "source": [
    "cancer_df.isnull().sum()"
   ]
  },
  {
   "cell_type": "code",
   "execution_count": 9,
   "metadata": {},
   "outputs": [
    {
     "data": {
      "text/plain": [
       "729"
      ]
     },
     "execution_count": 9,
     "metadata": {},
     "output_type": "execute_result"
    }
   ],
   "source": [
    "len(cancer_df)"
   ]
  },
  {
   "cell_type": "code",
   "execution_count": 24,
   "metadata": {},
   "outputs": [
    {
     "data": {
      "text/plain": [
       "pandas.core.frame.DataFrame"
      ]
     },
     "execution_count": 24,
     "metadata": {},
     "output_type": "execute_result"
    }
   ],
   "source": [
    "type(cancer_df)"
   ]
  },
  {
   "cell_type": "markdown",
   "metadata": {},
   "source": [
    "## EXPLORITARY DATA ANALYSIS"
   ]
  },
  {
   "cell_type": "code",
   "execution_count": 25,
   "metadata": {},
   "outputs": [
    {
     "name": "stderr",
     "output_type": "stream",
     "text": [
      "[nltk_data] Downloading package wordnet to /home/user/nltk_data...\n",
      "[nltk_data]   Package wordnet is already up-to-date!\n",
      "[nltk_data] Downloading package omw-1.4 to /home/user/nltk_data...\n",
      "[nltk_data]   Package omw-1.4 is already up-to-date!\n",
      "[nltk_data] Downloading package punkt to /home/user/nltk_data...\n",
      "[nltk_data]   Package punkt is already up-to-date!\n",
      "[nltk_data] Downloading package stopwords to /home/user/nltk_data...\n",
      "[nltk_data]   Package stopwords is already up-to-date!\n"
     ]
    },
    {
     "data": {
      "text/plain": [
       "True"
      ]
     },
     "execution_count": 25,
     "metadata": {},
     "output_type": "execute_result"
    }
   ],
   "source": [
    "\n",
    "nltk.download('wordnet')      \n",
    "nltk.download('omw-1.4')      \n",
    "nltk.download('punkt')        \n",
    "nltk.download('stopwords')    \n"
   ]
  },
  {
   "cell_type": "code",
   "execution_count": 26,
   "metadata": {},
   "outputs": [],
   "source": [
    "stop_words = set(stopwords.words('english'))\n",
    "lemmatizer = WordNetLemmatizer()\n",
    "def preprocess_text(text):\n",
    "    text = re.sub(r'\\W', ' ', text)  # Remove non-word characters\n",
    "    text = text.lower()  # Convert to lowercase\n",
    "    tokens = word_tokenize(text)  # Tokenize the text\n",
    "    tokens = [lemmatizer.lemmatize(word) for word in tokens if word not in stop_words]  # Lemmatize and remove stopwords\n",
    "    return ' '.join(tokens)\n"
   ]
  },
  {
   "cell_type": "code",
   "execution_count": 30,
   "metadata": {},
   "outputs": [],
   "source": [
    "#remove spaces and new lines\n",
    "cancer_df['question'] = cancer_df['question'].str.strip().replace('\\n', ' ')\n",
    "cancer_df['answer'] = cancer_df['answer'].str.strip().replace('\\n', ' ')\n",
    "\n",
    "\n",
    "# Preprocess the questions and answers\n",
    "cancer_df['question'] = cancer_df['question'].apply(preprocess_text)\n",
    "cancer_df['answer'] = cancer_df['answer'].apply(preprocess_text)\n"
   ]
  },
  {
   "cell_type": "code",
   "execution_count": 31,
   "metadata": {},
   "outputs": [],
   "source": [
    "# Vectorization\n",
    "vectorizer = TfidfVectorizer(preprocessor=preprocess_text, stop_words='english')\n",
    "X = vectorizer.fit_transform(cancer_df['question'])\n",
    "y = cancer_df['answer']"
   ]
  },
  {
   "cell_type": "code",
   "execution_count": 32,
   "metadata": {},
   "outputs": [],
   "source": [
    "# train-test split\n",
    "from sklearn.model_selection import train_test_split\n",
    "X_train, X_test, y_train, y_test = train_test_split(X, y, test_size=0.2, random_state=42)\n"
   ]
  },
  {
   "cell_type": "code",
   "execution_count": 33,
   "metadata": {},
   "outputs": [
    {
     "name": "stdout",
     "output_type": "stream",
     "text": [
      "Number of unique answers: 701\n",
      "answer\n",
      "new type treatment tested clinical trial information clinical trial available nci website patient may want think taking part clinical trial patient taking part clinical trial may best treatment choice clinical trial part cancer research process clinical trial done find new cancer treatment safe effective better standard treatment many today standard treatment cancer based earlier clinical trial patient take part clinical trial may receive standard treatment among first receive new treatment patient take part clinical trial also help improve way cancer treated future even clinical trial lead effective new treatment often answer important question help move research forward patient enter clinical trial starting cancer treatment clinical trial include patient yet received treatment trial test treatment patient whose cancer gotten better also clinical trial test new way stop cancer recurring coming back reduce side effect cancer treatment clinical trial taking place many part country see treatment option section follows link current treatment clinical trial retrieved nci listing clinical trial                                                                                                                                                                                                                                                                                                                                                                                                                                                                                                                                                                                                                                                                                                                                                                                                                                                                                                                                                                                                                                                                                                                                                                                                                                                                                                                                                                                                                                                                                                                                                                                                                                                                                                                                                                                                                                                                                                                                                                                                                                                                                                                                                                                                                                                                                                                                                                                                                                                                                                                                                                                                                                                                                                                                                                                                                                                                                                                                                                                                                                                                                                                                                                                                                                                                                                                                                                                                                                                                                                                                                                                                                                                                                                                                                                                                                                                                                                                                                                                                                                                                                                                                                                                                                                                                                                                                                                                                                                                                                                                                                                                                                                                                                                                                                                                                                                                                                                                                                                                                                                                                                                                                                                                                                                                                                                                                                                                                                                                                                                                                                                                                                                                                                                                                                                                                                                                                                                                                                                                                                           25\n",
      "patient may want think taking part clinical trial patient taking part clinical trial may best treatment choice clinical trial part cancer research process clinical trial done find new cancer treatment safe effective better standard treatment many today standard treatment cancer based earlier clinical trial patient take part clinical trial may receive standard treatment among first receive new treatment patient take part clinical trial also help improve way cancer treated future even clinical trial lead effective new treatment often answer important question help move research forward patient enter clinical trial starting cancer treatment clinical trial include patient yet received treatment trial test treatment patient whose cancer gotten better also clinical trial test new way stop cancer recurring coming back reduce side effect cancer treatment clinical trial taking place many part country see treatment option section follows link current treatment clinical trial retrieved nci listing clinical trial                                                                                                                                                                                                                                                                                                                                                                                                                                                                                                                                                                                                                                                                                                                                                                                                                                                                                                                                                                                                                                                                                                                                                                                                                                                                                                                                                                                                                                                                                                                                                                                                                                                                                                                                                                                                                                                                                                                                                                                                                                                                                                                                                                                                                                                                                                                                                                                                                                                                                                                                                                                                                                                                                                                                                                                                                                                                                                                                                                                                                                                                                                                                                                                                                                                                                                                                                                                                                                                                                                                                                                                                                                                                                                                                                                                                                                                                                                                                                                                                                                                                                                                                                                                                                                                                                                                                                                                                                                                                                                                                                                                                                                                                                                                                                                                                                                                                                                                                                                                                                                                                                                                                                                                                                                                                                                                                                                                                                                                                                                                                                                                                                                                                                                                                                                                                                                                                                                                                                                                                                                                                                                                      2\n",
      "cause childhood brain tumor unknown                                                                                                                                                                                                                                                                                                                                                                                                                                                                                                                                                                                                                                                                                                                                                                                                                                                                                                                                                                                                                                                                                                                                                                                                                                                                                                                                                                                                                                                                                                                                                                                                                                                                                                                                                                                                                                                                                                                                                                                                                                                                                                                                                                                                                                                                                                                                                                                                                                                                                                                                                                                                                                                                                                                                                                                                                                                                                                                                                                                                                                                                                                                                                                                                                                                                                                                                                                                                                                                                                                                                                                                                                                                                                                                                                                                                                                                                                                                                                                                                                                                                                                                                                                                                                                                                                                                                                                                                                                                                                                                                                                                                                                                                                                                                                                                                                                                                                                                                                                                                                                                                                                                                                                                                                                                                                                                                                                                                                                                                                                                                                                                                                                                                                                                                                                                                                                                                                                                                                                                                                                                                                                                                                                                                                                                                                                                                                                                                                                                                                                                                                                                                                                                                                                                                                                                                                                                                                                                                                                                                                                                                                                                                           2\n",
      "new type treatment tested clinical trial summary section describes treatment studied clinical trial may mention every new treatment studied information clinical trial available nci website radiosensitizers radiosensitizers drug make tumor cell sensitive radiation therapy combining radiation therapy radiosensitizers may kill tumor cell patient may want think taking part clinical trial patient taking part clinical trial may best treatment choice clinical trial part cancer research process clinical trial done find new cancer treatment safe effective better standard treatment many today standard treatment cancer based earlier clinical trial patient take part clinical trial may receive standard treatment among first receive new treatment patient take part clinical trial also help improve way cancer treated future even clinical trial lead effective new treatment often answer important question help move research forward patient enter clinical trial starting cancer treatment clinical trial include patient yet received treatment trial test treatment patient whose cancer gotten better also clinical trial test new way stop cancer recurring coming back reduce side effect cancer treatment clinical trial taking place many part country see treatment option section follows link current treatment clinical trial retrieved nci listing clinical trial                                                                                                                                                                                                                                                                                                                                                                                                                                                                                                                                                                                                                                                                                                                                                                                                                                                                                                                                                                                                                                                                                                                                                                                                                                                                                                                                                                                                                                                                                                                                                                                                                                                                                                                                                                                                                                                                                                                                                                                                                                                                                                                                                                                                                                                                                                                                                                                                                                                                                                                                                                                                                                                                                                                                                                                                                                                                                                                                                                                                                                                                                                                                                                                                                                                                                                                                                                                                                                                                                                                                                                                                                                                                                                                                                                                                                                                                                                                                                                                                                                                                                                                                                                                                                                                                                                                                                                                                                                                                                                                                                                                                                                                                                                                                                                                                                                                                                                                                                                                                                                                                                                                                                                                                                                                                                                                                                                                                                                                                                                                                                                                                                                                                                                                                                                     2\n",
      "key point avoiding risk factor increasing protective factor may help prevent lung cancer following risk factor lung cancer cigarette cigar pipe smoking secondhand smoke family history hiv infection environmental risk factor beta carotene supplement heavy smoker following protective factor lung cancer smoking quitting smoking lower exposure workplace risk factor lower exposure radon clear following decrease risk lung cancer diet physical activity following decrease risk lung cancer beta carotene supplement nonsmoker vitamin e supplement cancer prevention clinical trial used study way prevent cancer new way prevent lung cancer studied clinical trial avoiding risk factor increasing protective factor may help prevent lung cancer avoiding cancer risk factor may help prevent certain cancer risk factor include smoking overweight getting enough exercise increasing protective factor quitting smoking exercising may also help prevent cancer talk doctor health care professional might lower risk cancer following risk factor lung cancer cigarette cigar pipe smoking tobacco smoking important risk factor lung cancer cigarette cigar pipe smoking increase risk lung cancer tobacco smoking cause 9 10 case lung cancer men 8 10 case lung cancer woman study shown smoking low tar low nicotine cigarette lower risk lung cancer study also show risk lung cancer smoking cigarette increase number cigarette smoked per day number year smoked people smoke 20 time risk lung cancer compared smoke secondhand smoke exposed secondhand tobacco smoke also risk factor lung cancer secondhand smoke smoke come burning cigarette tobacco product exhaled smoker people inhale secondhand smoke exposed cancer causing agent smoker although smaller amount inhaling secondhand smoke called involuntary passive smoking family history family history lung cancer risk factor lung cancer people relative lung cancer may twice likely lung cancer people relative lung cancer cigarette smoking tends run family family member exposed secondhand smoke hard know whether increased risk lung cancer family history lung cancer exposed cigarette smoke hiv infection infected human immunodeficiency virus hiv cause acquired immunodeficiency syndrome aid linked higher risk lung cancer people infected hiv may twice risk lung cancer infected since smoking rate higher infected hiv infected clear whether increased risk lung cancer hiv infection exposed cigarette smoke environmental risk factor radiation exposure exposed radiation risk factor lung cancer atomic bomb radiation radiation therapy imaging test radon source radiation exposure atomic bomb radiation exposed radiation atomic bomb explosion increase risk lung cancer radiation therapy radiation therapy chest may used treat certain cancer including breast cancer hodgkin lymphoma radiation therapy us x ray gamma ray type radiation may increase risk lung cancer higher dose radiation received higher risk risk lung cancer following radiation therapy higher patient smoke nonsmoker imaging test imaging test ct scan expose patient radiation low dose spiral ct scan expose patient less radiation higher dose ct scan lung cancer screening use low dose spiral ct scan lessen harmful effect radiation radon radon radioactive gas come breakdown uranium rock soil seeps ground leak air water supply radon enter home crack floor wall foundation level radon build time study show high level radon gas inside home workplace increase number new case lung cancer number death caused lung cancer risk lung cancer higher smoker exposed radon nonsmoker exposed people never smoked 30 death caused lung cancer linked exposed radon workplace exposure study show exposed following substance increase risk lung cancer asbestos arsenic chromium nickel beryllium cadmium tar soot substance cause lung cancer people exposed workplace never smoked level exposure substance increase risk lung cancer also increase risk lung cancer even higher people exposed also smoke air pollution study show living area higher level air pollution increase risk lung cancer beta carotene supplement heavy smoker taking beta carotene supplement pill increase risk lung cancer especially smoker smoke one pack day risk higher smoker least one alcoholic drink every day following protective factor lung cancer smoking best way prevent lung cancer smoke quitting smoking smoker decrease risk lung cancer quitting smoker treated lung cancer quitting smoking lower risk new lung cancer counseling use nicotine replacement product antidepressant therapy helped smoker quit good person quit smoking chance preventing lung cancer depends many year much person smoked length time since quitting person quit smoking 10 year risk lung cancer decrease 30 50 see following information quitting smoking tobacco includes help quitting cigarette smoking health risk quit lower exposure workplace risk factor law protect worker exposed cancer causing substance asbestos arsenic nickel chromium may help lower risk developing lung cancer law prevent smoking workplace help lower risk lung cancer caused secondhand smoke lower exposure radon lowering radon level may lower risk lung cancer especially among cigarette smoker high level radon home may reduced taking step prevent radon leakage sealing basement clear following decrease risk lung cancer diet study show people eat high amount fruit vegetable lower risk lung cancer eat low amount however since smoker tend less healthy diet nonsmoker hard know whether decreased risk healthy diet smoking physical activity study show people physically active lower risk lung cancer people however since smoker tend different level physical activity nonsmoker hard know physical activity affect risk lung cancer following decrease risk lung cancer beta carotene supplement nonsmoker study nonsmoker show taking beta carotene supplement lower risk lung cancer vitamin e supplement study show taking vitamin e supplement affect risk lung cancer cancer prevention clinical trial used study way prevent cancer cancer prevention clinical trial used study way lower risk developing certain type cancer cancer prevention trial conducted healthy people cancer increased risk cancer prevention trial conducted people cancer trying prevent another cancer type lower chance developing new type cancer trial done healthy volunteer known risk factor cancer purpose cancer prevention clinical trial find whether action people take prevent cancer may include eating fruit vegetable exercising quitting smoking taking certain medicine vitamin mineral food supplement new way prevent lung cancer studied clinical trial clinical trial taking place many part country information clinical trial found clinical trial section nci website check list nci supported cancer clinical trial prevention trial non small cell lung cancer small cell lung cancer accepting patient include trial quitting smoking     2\n",
      "Name: count, dtype: int64\n"
     ]
    }
   ],
   "source": [
    "print(f\"Number of unique answers: {cancer_df['answer'].nunique()}\")\n",
    "print(cancer_df['answer'].value_counts().head(5))\n"
   ]
  },
  {
   "cell_type": "code",
   "execution_count": 16,
   "metadata": {},
   "outputs": [],
   "source": [
    "from sklearn.metrics.pairwise import cosine_similarity\n",
    "def get_answer(user_question):\n",
    "    user_vec = vectorizer.transform([user_question])\n",
    "    similarities = cosine_similarity(user_vec, X)\n",
    "    most_similar_idx = np.argmax(similarities)\n",
    "    return cancer_df.iloc[most_similar_idx]['answer']"
   ]
  },
  {
   "cell_type": "code",
   "execution_count": 43,
   "metadata": {},
   "outputs": [],
   "source": [
    "def get_top_n_answers(user_question, n=3):\n",
    "    user_vec = vectorizer.transform([user_question])\n",
    "    similarities = cosine_similarity(user_vec, X).flatten()\n",
    "    top_indices = similarities.argsort()[-n:][::-1]\n",
    "    \n",
    "    results = []\n",
    "    for idx in top_indices:\n",
    "        results.append({\n",
    "            \"question\": cancer_df.iloc[idx]['question'],\n",
    "            \"answer\": cancer_df.iloc[idx]['answer'],\n",
    "            \"similarity\": similarities[idx]\n",
    "        })\n",
    "    return results\n"
   ]
  },
  {
   "cell_type": "code",
   "execution_count": null,
   "metadata": {},
   "outputs": [],
   "source": [
    "from sklearn.preprocessing import StandardScaler\n"
   ]
  }
 ],
 "metadata": {
  "kernelspec": {
   "display_name": "base",
   "language": "python",
   "name": "python3"
  },
  "language_info": {
   "codemirror_mode": {
    "name": "ipython",
    "version": 3
   },
   "file_extension": ".py",
   "mimetype": "text/x-python",
   "name": "python",
   "nbconvert_exporter": "python",
   "pygments_lexer": "ipython3",
   "version": "3.12.7"
  }
 },
 "nbformat": 4,
 "nbformat_minor": 2
}
