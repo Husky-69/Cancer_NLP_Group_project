{
 "cells": [
  {
   "cell_type": "markdown",
   "metadata": {},
   "source": [
    "## DATA UNDERSTANDING"
   ]
  },
  {
   "cell_type": "code",
   "execution_count": 1,
   "metadata": {},
   "outputs": [],
   "source": [
    "import pandas as pd\n",
    "import nltk\n",
    "import re\n",
    "from nltk.corpus import stopwords\n",
    "from nltk.tokenize import word_tokenize\n",
    "from nltk.stem import WordNetLemmatizer\n",
    "from sklearn.feature_extraction.text import TfidfVectorizer\n",
    "from sklearn.metrics.pairwise import cosine_similarity\n",
    "import numpy as np\n",
    "import warnings\n",
    "import xml.etree.ElementTree as ET\n",
    "warnings.filterwarnings('ignore')\n",
    "import os\n"
   ]
  },
  {
   "cell_type": "code",
   "execution_count": 2,
   "metadata": {},
   "outputs": [
    {
     "data": {
      "text/plain": [
       "\"\\n#Cell already run\\nnltk.download('punkt')\\nnltk.download('stopwords')\\nnltk.download('wordnet')\\n\""
      ]
     },
     "execution_count": 2,
     "metadata": {},
     "output_type": "execute_result"
    }
   ],
   "source": [
    "\"\"\"\n",
    "#Cell already run\n",
    "nltk.download('punkt')\n",
    "nltk.download('stopwords')\n",
    "nltk.download('wordnet')\n",
    "\"\"\""
   ]
  },
  {
   "cell_type": "code",
   "execution_count": 2,
   "metadata": {},
   "outputs": [],
   "source": [
    "class CancerQALoader:\n",
    "    def __init__(self, filepath):\n",
    "        self.filepath = filepath\n",
    "        self.questions = []\n",
    "        self.answers = []\n",
    "        self.root = None\n",
    "        self.source = os.path.splitext(os.path.basename(filepath))[0] \n",
    "\n",
    "    def parse_xml(self):\n",
    "        try:\n",
    "            tree = ET.parse(self.filepath)\n",
    "            self.root = tree.getroot()\n",
    "        except ET.ParseError as e:\n",
    "            print(f\"Error parsing XML in {self.filepath}: {e}\")\n",
    "        except FileNotFoundError:\n",
    "            print(f\"File not found: {self.filepath}\")\n",
    "\n",
    "    def extract_qa_pairs(self):\n",
    "        if self.root is None:\n",
    "            return\n",
    "\n",
    "        for qa_pair in self.root.findall('.//QAPair'):\n",
    "            question = qa_pair.find('Question').text\n",
    "            answer = qa_pair.find('Answer').text\n",
    "            if question and answer:\n",
    "                self.questions.append(question)\n",
    "                self.answers.append(answer)\n",
    "\n",
    "    def get_dataframe(self):\n",
    "        return pd.DataFrame({\n",
    "            'question': self.questions,\n",
    "            'answer': self.answers,\n",
    "            'source': [self.source] * len(self.questions)  # Add source to each row\n",
    "        })\n",
    "\n",
    "    def load_all_qa_from_folder(folder_path):\n",
    "        all_dfs = []\n",
    "\n",
    "        for filename in os.listdir(folder_path):\n",
    "            if filename.endswith(\".xml\"):\n",
    "                full_path = os.path.join(folder_path, filename)\n",
    "                loader = CancerQALoader(full_path)\n",
    "                loader.parse_xml()\n",
    "                loader.extract_qa_pairs()\n",
    "                df = loader.get_dataframe()\n",
    "                all_dfs.append(df)\n",
    "\n",
    "        return pd.concat(all_dfs, ignore_index=True)"
   ]
  },
  {
   "cell_type": "code",
   "execution_count": 3,
   "metadata": {},
   "outputs": [],
   "source": [
    "folder = \"/home/user/Documents/Flatiron/Phase_4_Project/1_CancerGov_QA\"\n",
    "cancer_df = CancerQALoader.load_all_qa_from_folder(folder)"
   ]
  },
  {
   "cell_type": "code",
   "execution_count": 4,
   "metadata": {},
   "outputs": [
    {
     "name": "stdout",
     "output_type": "stream",
     "text": [
      "Reading 116 files\n"
     ]
    }
   ],
   "source": [
    "print(f\"Reading {cancer_df['source'].nunique()} files\")"
   ]
  },
  {
   "cell_type": "code",
   "execution_count": 5,
   "metadata": {},
   "outputs": [
    {
     "data": {
      "text/html": [
       "<div>\n",
       "<style scoped>\n",
       "    .dataframe tbody tr th:only-of-type {\n",
       "        vertical-align: middle;\n",
       "    }\n",
       "\n",
       "    .dataframe tbody tr th {\n",
       "        vertical-align: top;\n",
       "    }\n",
       "\n",
       "    .dataframe thead th {\n",
       "        text-align: right;\n",
       "    }\n",
       "</style>\n",
       "<table border=\"1\" class=\"dataframe\">\n",
       "  <thead>\n",
       "    <tr style=\"text-align: right;\">\n",
       "      <th></th>\n",
       "      <th>question</th>\n",
       "      <th>answer</th>\n",
       "      <th>source</th>\n",
       "    </tr>\n",
       "  </thead>\n",
       "  <tbody>\n",
       "    <tr>\n",
       "      <th>0</th>\n",
       "      <td>What is (are) Childhood Liver Cancer ?</td>\n",
       "      <td>Key Points\\n                    - Childhood li...</td>\n",
       "      <td>0000007_3</td>\n",
       "    </tr>\n",
       "    <tr>\n",
       "      <th>1</th>\n",
       "      <td>Who is at risk for Childhood Liver Cancer? ?</td>\n",
       "      <td>Certain diseases and disorders can increase th...</td>\n",
       "      <td>0000007_3</td>\n",
       "    </tr>\n",
       "    <tr>\n",
       "      <th>2</th>\n",
       "      <td>What are the symptoms of Childhood Liver Cancer ?</td>\n",
       "      <td>Signs and symptoms of childhood liver cancer i...</td>\n",
       "      <td>0000007_3</td>\n",
       "    </tr>\n",
       "    <tr>\n",
       "      <th>3</th>\n",
       "      <td>How to diagnose Childhood Liver Cancer ?</td>\n",
       "      <td>Tests that examine the liver and the blood are...</td>\n",
       "      <td>0000007_3</td>\n",
       "    </tr>\n",
       "    <tr>\n",
       "      <th>4</th>\n",
       "      <td>What is the outlook for Childhood Liver Cancer ?</td>\n",
       "      <td>Certain factors affect prognosis (chance of re...</td>\n",
       "      <td>0000007_3</td>\n",
       "    </tr>\n",
       "    <tr>\n",
       "      <th>5</th>\n",
       "      <td>What are the stages of Childhood Liver Cancer ?</td>\n",
       "      <td>Key Points\\n                    - After childh...</td>\n",
       "      <td>0000007_3</td>\n",
       "    </tr>\n",
       "    <tr>\n",
       "      <th>6</th>\n",
       "      <td>What are the treatments for Childhood Liver Ca...</td>\n",
       "      <td>Key Points\\n                    - There are di...</td>\n",
       "      <td>0000007_3</td>\n",
       "    </tr>\n",
       "    <tr>\n",
       "      <th>7</th>\n",
       "      <td>what research (or clinical trials) is being do...</td>\n",
       "      <td>New types of treatment are being tested in cli...</td>\n",
       "      <td>0000007_3</td>\n",
       "    </tr>\n",
       "    <tr>\n",
       "      <th>8</th>\n",
       "      <td>What is (are) Chronic Myeloproliferative Neopl...</td>\n",
       "      <td>Key Points\\n                    - Myeloprolife...</td>\n",
       "      <td>0000013_2</td>\n",
       "    </tr>\n",
       "    <tr>\n",
       "      <th>9</th>\n",
       "      <td>How to diagnose Chronic Myeloproliferative Neo...</td>\n",
       "      <td>Tests that examine the blood and bone marrow a...</td>\n",
       "      <td>0000013_2</td>\n",
       "    </tr>\n",
       "    <tr>\n",
       "      <th>10</th>\n",
       "      <td>What are the stages of Chronic Myeloproliferat...</td>\n",
       "      <td>Key Points\\n                    - There is no ...</td>\n",
       "      <td>0000013_2</td>\n",
       "    </tr>\n",
       "    <tr>\n",
       "      <th>11</th>\n",
       "      <td>What are the treatments for Chronic Myeloproli...</td>\n",
       "      <td>Key Points\\n                    - There are di...</td>\n",
       "      <td>0000013_2</td>\n",
       "    </tr>\n",
       "    <tr>\n",
       "      <th>12</th>\n",
       "      <td>What is (are) Hypopharyngeal Cancer ?</td>\n",
       "      <td>Key Points\\n                    - Hypopharynge...</td>\n",
       "      <td>0000024_1</td>\n",
       "    </tr>\n",
       "    <tr>\n",
       "      <th>13</th>\n",
       "      <td>Who is at risk for Hypopharyngeal Cancer? ?</td>\n",
       "      <td>Use of tobacco products and heavy drinking can...</td>\n",
       "      <td>0000024_1</td>\n",
       "    </tr>\n",
       "    <tr>\n",
       "      <th>14</th>\n",
       "      <td>What are the symptoms of Hypopharyngeal Cancer ?</td>\n",
       "      <td>Signs and symptoms of hypopharyngeal cancer in...</td>\n",
       "      <td>0000024_1</td>\n",
       "    </tr>\n",
       "    <tr>\n",
       "      <th>15</th>\n",
       "      <td>How to diagnose Hypopharyngeal Cancer ?</td>\n",
       "      <td>Tests that examine the throat and neck are use...</td>\n",
       "      <td>0000024_1</td>\n",
       "    </tr>\n",
       "    <tr>\n",
       "      <th>16</th>\n",
       "      <td>What is the outlook for Hypopharyngeal Cancer ?</td>\n",
       "      <td>Certain factors affect prognosis (chance of re...</td>\n",
       "      <td>0000024_1</td>\n",
       "    </tr>\n",
       "    <tr>\n",
       "      <th>17</th>\n",
       "      <td>What are the stages of Hypopharyngeal Cancer ?</td>\n",
       "      <td>Key Points\\n                    - After hypoph...</td>\n",
       "      <td>0000024_1</td>\n",
       "    </tr>\n",
       "    <tr>\n",
       "      <th>18</th>\n",
       "      <td>What are the treatments for Hypopharyngeal Can...</td>\n",
       "      <td>Key Points\\n                    - There are di...</td>\n",
       "      <td>0000024_1</td>\n",
       "    </tr>\n",
       "    <tr>\n",
       "      <th>19</th>\n",
       "      <td>what research (or clinical trials) is being do...</td>\n",
       "      <td>New types of treatment are being tested in cli...</td>\n",
       "      <td>0000024_1</td>\n",
       "    </tr>\n",
       "  </tbody>\n",
       "</table>\n",
       "</div>"
      ],
      "text/plain": [
       "                                             question  \\\n",
       "0              What is (are) Childhood Liver Cancer ?   \n",
       "1        Who is at risk for Childhood Liver Cancer? ?   \n",
       "2   What are the symptoms of Childhood Liver Cancer ?   \n",
       "3            How to diagnose Childhood Liver Cancer ?   \n",
       "4    What is the outlook for Childhood Liver Cancer ?   \n",
       "5     What are the stages of Childhood Liver Cancer ?   \n",
       "6   What are the treatments for Childhood Liver Ca...   \n",
       "7   what research (or clinical trials) is being do...   \n",
       "8   What is (are) Chronic Myeloproliferative Neopl...   \n",
       "9   How to diagnose Chronic Myeloproliferative Neo...   \n",
       "10  What are the stages of Chronic Myeloproliferat...   \n",
       "11  What are the treatments for Chronic Myeloproli...   \n",
       "12              What is (are) Hypopharyngeal Cancer ?   \n",
       "13        Who is at risk for Hypopharyngeal Cancer? ?   \n",
       "14   What are the symptoms of Hypopharyngeal Cancer ?   \n",
       "15            How to diagnose Hypopharyngeal Cancer ?   \n",
       "16    What is the outlook for Hypopharyngeal Cancer ?   \n",
       "17     What are the stages of Hypopharyngeal Cancer ?   \n",
       "18  What are the treatments for Hypopharyngeal Can...   \n",
       "19  what research (or clinical trials) is being do...   \n",
       "\n",
       "                                               answer     source  \n",
       "0   Key Points\\n                    - Childhood li...  0000007_3  \n",
       "1   Certain diseases and disorders can increase th...  0000007_3  \n",
       "2   Signs and symptoms of childhood liver cancer i...  0000007_3  \n",
       "3   Tests that examine the liver and the blood are...  0000007_3  \n",
       "4   Certain factors affect prognosis (chance of re...  0000007_3  \n",
       "5   Key Points\\n                    - After childh...  0000007_3  \n",
       "6   Key Points\\n                    - There are di...  0000007_3  \n",
       "7   New types of treatment are being tested in cli...  0000007_3  \n",
       "8   Key Points\\n                    - Myeloprolife...  0000013_2  \n",
       "9   Tests that examine the blood and bone marrow a...  0000013_2  \n",
       "10  Key Points\\n                    - There is no ...  0000013_2  \n",
       "11  Key Points\\n                    - There are di...  0000013_2  \n",
       "12  Key Points\\n                    - Hypopharynge...  0000024_1  \n",
       "13  Use of tobacco products and heavy drinking can...  0000024_1  \n",
       "14  Signs and symptoms of hypopharyngeal cancer in...  0000024_1  \n",
       "15  Tests that examine the throat and neck are use...  0000024_1  \n",
       "16  Certain factors affect prognosis (chance of re...  0000024_1  \n",
       "17  Key Points\\n                    - After hypoph...  0000024_1  \n",
       "18  Key Points\\n                    - There are di...  0000024_1  \n",
       "19  New types of treatment are being tested in cli...  0000024_1  "
      ]
     },
     "execution_count": 5,
     "metadata": {},
     "output_type": "execute_result"
    }
   ],
   "source": [
    "cancer_df.head(20)"
   ]
  },
  {
   "cell_type": "code",
   "execution_count": 6,
   "metadata": {},
   "outputs": [
    {
     "name": "stdout",
     "output_type": "stream",
     "text": [
      "<class 'pandas.core.frame.DataFrame'>\n",
      "RangeIndex: 729 entries, 0 to 728\n",
      "Data columns (total 3 columns):\n",
      " #   Column    Non-Null Count  Dtype \n",
      "---  ------    --------------  ----- \n",
      " 0   question  729 non-null    object\n",
      " 1   answer    729 non-null    object\n",
      " 2   source    729 non-null    object\n",
      "dtypes: object(3)\n",
      "memory usage: 17.2+ KB\n"
     ]
    }
   ],
   "source": [
    "cancer_df.info()"
   ]
  },
  {
   "cell_type": "code",
   "execution_count": 7,
   "metadata": {},
   "outputs": [
    {
     "data": {
      "text/plain": [
       "question    0\n",
       "answer      0\n",
       "source      0\n",
       "dtype: int64"
      ]
     },
     "execution_count": 7,
     "metadata": {},
     "output_type": "execute_result"
    }
   ],
   "source": [
    "cancer_df.isnull().sum()"
   ]
  },
  {
   "cell_type": "code",
   "execution_count": 8,
   "metadata": {},
   "outputs": [
    {
     "data": {
      "text/plain": [
       "729"
      ]
     },
     "execution_count": 8,
     "metadata": {},
     "output_type": "execute_result"
    }
   ],
   "source": [
    "len(cancer_df)"
   ]
  },
  {
   "cell_type": "code",
   "execution_count": 9,
   "metadata": {},
   "outputs": [
    {
     "data": {
      "text/plain": [
       "pandas.core.frame.DataFrame"
      ]
     },
     "execution_count": 9,
     "metadata": {},
     "output_type": "execute_result"
    }
   ],
   "source": [
    "type(cancer_df)"
   ]
  },
  {
   "cell_type": "markdown",
   "metadata": {},
   "source": [
    "## EXPLORITARY DATA ANALYSIS"
   ]
  },
  {
   "cell_type": "code",
   "execution_count": 10,
   "metadata": {},
   "outputs": [],
   "source": [
    "#create a target\n",
    "x = cancer_df['question']\n",
    "y = cancer_df['answer']\n",
    "\n",
    "\n",
    "#split the data\n",
    "from sklearn.model_selection import train_test_split\n",
    "\n",
    "x_train, x_test, y_train, y_test = train_test_split(x, y, test_size=0.2, random_state=42)"
   ]
  },
  {
   "cell_type": "code",
   "execution_count": null,
   "metadata": {},
   "outputs": [],
   "source": []
  }
 ],
 "metadata": {
  "kernelspec": {
   "display_name": "my_deployment_env (3.12.7)",
   "language": "python",
   "name": "python3"
  },
  "language_info": {
   "codemirror_mode": {
    "name": "ipython",
    "version": 3
   },
   "file_extension": ".py",
   "mimetype": "text/x-python",
   "name": "python",
   "nbconvert_exporter": "python",
   "pygments_lexer": "ipython3",
   "version": "3.12.7"
  }
 },
 "nbformat": 4,
 "nbformat_minor": 2
}
